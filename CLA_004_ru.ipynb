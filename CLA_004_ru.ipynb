{
  "nbformat": 4,
  "nbformat_minor": 0,
  "metadata": {
    "colab": {
      "provenance": [],
      "collapsed_sections": [
        "yZGNUkfiHEtM"
      ]
    },
    "kernelspec": {
      "name": "python3",
      "display_name": "Python 3"
    },
    "language_info": {
      "name": "python"
    },
    "accelerator": "GPU",
    "gpuClass": "standard"
  },
  "cells": [
    {
      "cell_type": "markdown",
      "source": [
        "# Credit Limit Assessment (CLA)"
      ],
      "metadata": {
        "id": "N-BcZXaGEyNl"
      }
    },
    {
      "cell_type": "code",
      "source": [
        "import random\n",
        "from random import randrange\n",
        "from datetime import datetime\n",
        "from datetime import timedelta\n",
        "# Работа с массивами данных\n",
        "import numpy as np \n",
        "# Работа с табличными данными\n",
        "import pandas as pd\n",
        "# Отрисовка графиков\n",
        "import matplotlib.pyplot as plt\n",
        "# Функции-утилиты для работы с категориальными данными\n",
        "from tensorflow.keras import utils\n",
        "# Класс для конструирования последовательной модели нейронной сети\n",
        "from tensorflow.keras.models import Sequential, Model\n",
        "\n",
        "# Основные слои\n",
        "from tensorflow.keras.layers import Dense, Dropout, SpatialDropout1D, BatchNormalization, Embedding, Flatten, Activation, Input, concatenate\n",
        "from tensorflow.keras.layers import SimpleRNN, GRU, LSTM, Bidirectional, Conv1D, MaxPooling1D, GlobalMaxPooling1D\n",
        "\n",
        "# Оптимизаторы\n",
        "from tensorflow.keras.optimizers import Adam, Adadelta, SGD, Adagrad, RMSprop\n",
        "\n",
        "# Токенизатор для преобразование текстов в последовательности\n",
        "from tensorflow.keras.preprocessing.text import Tokenizer\n",
        "\n",
        "# Масштабирование данных\n",
        "from sklearn.preprocessing import StandardScaler\n",
        "import joblib\n",
        "\n",
        "# Метрики для расчета ошибок\n",
        "from sklearn.metrics import mean_squared_error, mean_absolute_error\n",
        "\n",
        "#from tensorflow.keras.callbacks import  ReduceLROnPlateau,  EarlyStopping, ModelCheckpoint \n",
        "\n",
        "from tensorflow.keras.models import model_from_json"
      ],
      "metadata": {
        "id": "yqXJ_ksHHu2d"
      },
      "execution_count": 69,
      "outputs": []
    },
    {
      "cell_type": "markdown",
      "source": [
        "## Data Simulation Functions"
      ],
      "metadata": {
        "id": "yZGNUkfiHEtM"
      }
    },
    {
      "cell_type": "code",
      "source": [
        "def DS_ACTIVATED_CL(CUSTOMER_TYPE, CUSTOMER_SUB_SEGMENT, NUMBER_LINES):\n",
        "  NUMBER_LINES = int (NUMBER_LINES)\n",
        "  if CUSTOMER_TYPE == 'Business Customer Account':\n",
        "    max = 1000\n",
        "  else:\n",
        "    max = 100\n",
        "\n",
        "  if CUSTOMER_SUB_SEGMENT == 'Fixed & Mobile UAE':\n",
        "    min = max // 2\n",
        "  elif CUSTOMER_SUB_SEGMENT == 'Mobile UAE':\n",
        "    min = max // 3\n",
        "  elif CUSTOMER_SUB_SEGMENT == 'Fixed UAE':\n",
        "    min = max // 4\n",
        "  elif CUSTOMER_SUB_SEGMENT == 'Fixed & Mobile Expat':\n",
        "    min = max // 5 \n",
        "  else:\n",
        "    min = 0\n",
        "  cl = random.randint(min, max) + NUMBER_LINES * 10\n",
        "  return str(cl)\n"
      ],
      "metadata": {
        "id": "eerBaurXo5eg"
      },
      "execution_count": 70,
      "outputs": []
    },
    {
      "cell_type": "code",
      "source": [
        "def DS_NUMBER_LINES(CUSTOMER_TYPE):\n",
        "  if CUSTOMER_TYPE == 'Business Customer Account':\n",
        "    max = 300\n",
        "  else:\n",
        "    max = 10\n",
        "  min = 0\n",
        "  n_lines = random.randint(min, max)\n",
        "  return str(n_lines)  \n"
      ],
      "metadata": {
        "id": "ZIIpygwj_Hhu"
      },
      "execution_count": 71,
      "outputs": []
    },
    {
      "cell_type": "code",
      "source": [
        "def DS_CUSTOMER_TYPE():\n",
        "  DS_LIST = ['Residential Customer Account', 'Business Customer Account']\n",
        "  return random.sample(DS_LIST, 1)[0]\n",
        "# DS_CUSTOMER_TYPE()"
      ],
      "metadata": {
        "id": "7biXdlMcvRpK"
      },
      "execution_count": 72,
      "outputs": []
    },
    {
      "cell_type": "code",
      "source": [
        "def DS_CUSTOMER_SUB_SEGMENT():\n",
        "  DS_LIST = ['Fixed & Mobile Expat', 'Mobile Expat', 'Fixed Expat', 'Fixed & Mobile UAE', 'Mobile UAE', 'Fixed UAE']\n",
        "  return random.sample(DS_LIST, 1)[0]\n",
        "# DS_CUSTOMER_SUB_SEGMENT()"
      ],
      "metadata": {
        "id": "ieeKp9Qc4EDT"
      },
      "execution_count": 73,
      "outputs": []
    },
    {
      "cell_type": "code",
      "source": [
        "def head_line():\n",
        "  return 'ACTIVATED_CL,NUMBER_LINES,CUSTOMER_TYPE,CUSTOMER_SUB_SEGMENT'"
      ],
      "metadata": {
        "id": "l3Bfgh5EhtRf"
      },
      "execution_count": 74,
      "outputs": []
    },
    {
      "cell_type": "code",
      "source": [
        "def df_lines(num_lines):\n",
        "  myfile = open('CLA_001.csv', 'w')\n",
        "  df_str = '' + head_line() + '\\n'\n",
        "  myfile.writelines(df_str)\n",
        "  for _ in range(num_lines):\n",
        "    CUSTOMER_TYPE = DS_CUSTOMER_TYPE()\n",
        "    CUSTOMER_SUB_SEGMENT = DS_CUSTOMER_SUB_SEGMENT()\n",
        "    NUMBER_LINES = DS_NUMBER_LINES(CUSTOMER_TYPE)\n",
        "    ACTIVATED_CL = DS_ACTIVATED_CL(CUSTOMER_TYPE, CUSTOMER_SUB_SEGMENT, NUMBER_LINES)\n",
        "\n",
        "    df_str = '' + ACTIVATED_CL \\\n",
        "      + ',' + NUMBER_LINES \\\n",
        "      + ',' + CUSTOMER_TYPE \\\n",
        "      + ',' + CUSTOMER_SUB_SEGMENT \\\n",
        "      + '\\n'\n",
        "    myfile.writelines(df_str)\n",
        "  myfile.close()"
      ],
      "metadata": {
        "id": "NZmXr_rcivrp"
      },
      "execution_count": 75,
      "outputs": []
    },
    {
      "cell_type": "markdown",
      "source": [
        "##DF Simulation"
      ],
      "metadata": {
        "id": "chGsEBFtR7lp"
      }
    },
    {
      "cell_type": "code",
      "source": [
        "df_str = df_lines(300000)"
      ],
      "metadata": {
        "id": "pZw_VR9SSAQM"
      },
      "execution_count": 76,
      "outputs": []
    },
    {
      "cell_type": "markdown",
      "source": [
        "## DF"
      ],
      "metadata": {
        "id": "ca07GyexoanX"
      }
    },
    {
      "cell_type": "code",
      "source": [
        "df = pd.read_csv('/content/CLA_001.csv')# Это то, куда вы скачали файл\n",
        "# Количество и критерии\n",
        "print(df.shape)"
      ],
      "metadata": {
        "colab": {
          "base_uri": "https://localhost:8080/"
        },
        "id": "Mecq1VFmodZf",
        "outputId": "d894cefa-bd68-41c5-ad28-ffae2c3001cc"
      },
      "execution_count": 77,
      "outputs": [
        {
          "output_type": "stream",
          "name": "stdout",
          "text": [
            "(300000, 4)\n"
          ]
        }
      ]
    },
    {
      "cell_type": "code",
      "source": [
        "df.head()"
      ],
      "metadata": {
        "colab": {
          "base_uri": "https://localhost:8080/",
          "height": 206
        },
        "id": "G7tSLieJpHdR",
        "outputId": "626506b7-e42b-4a0a-f27b-592ee7a59105"
      },
      "execution_count": 78,
      "outputs": [
        {
          "output_type": "execute_result",
          "data": {
            "text/plain": [
              "   ACTIVATED_CL  NUMBER_LINES                 CUSTOMER_TYPE  \\\n",
              "0            89             1  Residential Customer Account   \n",
              "1          2145           138     Business Customer Account   \n",
              "2           147             5  Residential Customer Account   \n",
              "3            84             3  Residential Customer Account   \n",
              "4            23             0  Residential Customer Account   \n",
              "\n",
              "   CUSTOMER_SUB_SEGMENT  \n",
              "0    Fixed & Mobile UAE  \n",
              "1            Mobile UAE  \n",
              "2    Fixed & Mobile UAE  \n",
              "3  Fixed & Mobile Expat  \n",
              "4          Mobile Expat  "
            ],
            "text/html": [
              "\n",
              "  <div id=\"df-fed7619b-a283-4207-a70e-5f6a6e80520c\">\n",
              "    <div class=\"colab-df-container\">\n",
              "      <div>\n",
              "<style scoped>\n",
              "    .dataframe tbody tr th:only-of-type {\n",
              "        vertical-align: middle;\n",
              "    }\n",
              "\n",
              "    .dataframe tbody tr th {\n",
              "        vertical-align: top;\n",
              "    }\n",
              "\n",
              "    .dataframe thead th {\n",
              "        text-align: right;\n",
              "    }\n",
              "</style>\n",
              "<table border=\"1\" class=\"dataframe\">\n",
              "  <thead>\n",
              "    <tr style=\"text-align: right;\">\n",
              "      <th></th>\n",
              "      <th>ACTIVATED_CL</th>\n",
              "      <th>NUMBER_LINES</th>\n",
              "      <th>CUSTOMER_TYPE</th>\n",
              "      <th>CUSTOMER_SUB_SEGMENT</th>\n",
              "    </tr>\n",
              "  </thead>\n",
              "  <tbody>\n",
              "    <tr>\n",
              "      <th>0</th>\n",
              "      <td>89</td>\n",
              "      <td>1</td>\n",
              "      <td>Residential Customer Account</td>\n",
              "      <td>Fixed &amp; Mobile UAE</td>\n",
              "    </tr>\n",
              "    <tr>\n",
              "      <th>1</th>\n",
              "      <td>2145</td>\n",
              "      <td>138</td>\n",
              "      <td>Business Customer Account</td>\n",
              "      <td>Mobile UAE</td>\n",
              "    </tr>\n",
              "    <tr>\n",
              "      <th>2</th>\n",
              "      <td>147</td>\n",
              "      <td>5</td>\n",
              "      <td>Residential Customer Account</td>\n",
              "      <td>Fixed &amp; Mobile UAE</td>\n",
              "    </tr>\n",
              "    <tr>\n",
              "      <th>3</th>\n",
              "      <td>84</td>\n",
              "      <td>3</td>\n",
              "      <td>Residential Customer Account</td>\n",
              "      <td>Fixed &amp; Mobile Expat</td>\n",
              "    </tr>\n",
              "    <tr>\n",
              "      <th>4</th>\n",
              "      <td>23</td>\n",
              "      <td>0</td>\n",
              "      <td>Residential Customer Account</td>\n",
              "      <td>Mobile Expat</td>\n",
              "    </tr>\n",
              "  </tbody>\n",
              "</table>\n",
              "</div>\n",
              "      <button class=\"colab-df-convert\" onclick=\"convertToInteractive('df-fed7619b-a283-4207-a70e-5f6a6e80520c')\"\n",
              "              title=\"Convert this dataframe to an interactive table.\"\n",
              "              style=\"display:none;\">\n",
              "        \n",
              "  <svg xmlns=\"http://www.w3.org/2000/svg\" height=\"24px\"viewBox=\"0 0 24 24\"\n",
              "       width=\"24px\">\n",
              "    <path d=\"M0 0h24v24H0V0z\" fill=\"none\"/>\n",
              "    <path d=\"M18.56 5.44l.94 2.06.94-2.06 2.06-.94-2.06-.94-.94-2.06-.94 2.06-2.06.94zm-11 1L8.5 8.5l.94-2.06 2.06-.94-2.06-.94L8.5 2.5l-.94 2.06-2.06.94zm10 10l.94 2.06.94-2.06 2.06-.94-2.06-.94-.94-2.06-.94 2.06-2.06.94z\"/><path d=\"M17.41 7.96l-1.37-1.37c-.4-.4-.92-.59-1.43-.59-.52 0-1.04.2-1.43.59L10.3 9.45l-7.72 7.72c-.78.78-.78 2.05 0 2.83L4 21.41c.39.39.9.59 1.41.59.51 0 1.02-.2 1.41-.59l7.78-7.78 2.81-2.81c.8-.78.8-2.07 0-2.86zM5.41 20L4 18.59l7.72-7.72 1.47 1.35L5.41 20z\"/>\n",
              "  </svg>\n",
              "      </button>\n",
              "      \n",
              "  <style>\n",
              "    .colab-df-container {\n",
              "      display:flex;\n",
              "      flex-wrap:wrap;\n",
              "      gap: 12px;\n",
              "    }\n",
              "\n",
              "    .colab-df-convert {\n",
              "      background-color: #E8F0FE;\n",
              "      border: none;\n",
              "      border-radius: 50%;\n",
              "      cursor: pointer;\n",
              "      display: none;\n",
              "      fill: #1967D2;\n",
              "      height: 32px;\n",
              "      padding: 0 0 0 0;\n",
              "      width: 32px;\n",
              "    }\n",
              "\n",
              "    .colab-df-convert:hover {\n",
              "      background-color: #E2EBFA;\n",
              "      box-shadow: 0px 1px 2px rgba(60, 64, 67, 0.3), 0px 1px 3px 1px rgba(60, 64, 67, 0.15);\n",
              "      fill: #174EA6;\n",
              "    }\n",
              "\n",
              "    [theme=dark] .colab-df-convert {\n",
              "      background-color: #3B4455;\n",
              "      fill: #D2E3FC;\n",
              "    }\n",
              "\n",
              "    [theme=dark] .colab-df-convert:hover {\n",
              "      background-color: #434B5C;\n",
              "      box-shadow: 0px 1px 3px 1px rgba(0, 0, 0, 0.15);\n",
              "      filter: drop-shadow(0px 1px 2px rgba(0, 0, 0, 0.3));\n",
              "      fill: #FFFFFF;\n",
              "    }\n",
              "  </style>\n",
              "\n",
              "      <script>\n",
              "        const buttonEl =\n",
              "          document.querySelector('#df-fed7619b-a283-4207-a70e-5f6a6e80520c button.colab-df-convert');\n",
              "        buttonEl.style.display =\n",
              "          google.colab.kernel.accessAllowed ? 'block' : 'none';\n",
              "\n",
              "        async function convertToInteractive(key) {\n",
              "          const element = document.querySelector('#df-fed7619b-a283-4207-a70e-5f6a6e80520c');\n",
              "          const dataTable =\n",
              "            await google.colab.kernel.invokeFunction('convertToInteractive',\n",
              "                                                     [key], {});\n",
              "          if (!dataTable) return;\n",
              "\n",
              "          const docLinkHtml = 'Like what you see? Visit the ' +\n",
              "            '<a target=\"_blank\" href=https://colab.research.google.com/notebooks/data_table.ipynb>data table notebook</a>'\n",
              "            + ' to learn more about interactive tables.';\n",
              "          element.innerHTML = '';\n",
              "          dataTable['output_type'] = 'display_data';\n",
              "          await google.colab.output.renderOutput(dataTable, element);\n",
              "          const docLink = document.createElement('div');\n",
              "          docLink.innerHTML = docLinkHtml;\n",
              "          element.appendChild(docLink);\n",
              "        }\n",
              "      </script>\n",
              "    </div>\n",
              "  </div>\n",
              "  "
            ]
          },
          "metadata": {},
          "execution_count": 78
        }
      ]
    },
    {
      "cell_type": "code",
      "source": [
        "print(df.columns) #Показываем имена колонок данных"
      ],
      "metadata": {
        "colab": {
          "base_uri": "https://localhost:8080/"
        },
        "id": "z0uHeUlvphjv",
        "outputId": "6668c445-eee2-4068-b9fb-2e431334ec4e"
      },
      "execution_count": 79,
      "outputs": [
        {
          "output_type": "stream",
          "name": "stdout",
          "text": [
            "Index(['ACTIVATED_CL', 'NUMBER_LINES', 'CUSTOMER_TYPE',\n",
            "       'CUSTOMER_SUB_SEGMENT'],\n",
            "      dtype='object')\n"
          ]
        }
      ]
    },
    {
      "cell_type": "code",
      "source": [
        "df.dtypes"
      ],
      "metadata": {
        "colab": {
          "base_uri": "https://localhost:8080/"
        },
        "id": "0TIdW0mM0-QF",
        "outputId": "f698eff0-f9b2-460e-8554-c0adb46e5aa0"
      },
      "execution_count": 80,
      "outputs": [
        {
          "output_type": "execute_result",
          "data": {
            "text/plain": [
              "ACTIVATED_CL             int64\n",
              "NUMBER_LINES             int64\n",
              "CUSTOMER_TYPE           object\n",
              "CUSTOMER_SUB_SEGMENT    object\n",
              "dtype: object"
            ]
          },
          "metadata": {},
          "execution_count": 80
        }
      ]
    },
    {
      "cell_type": "code",
      "source": [
        "# max value in NUMBER_LINES\n",
        "MAX_NUMBER_LINES = df['NUMBER_LINES'].max()\n",
        "print(f'MAX_NUMBER_LINES={MAX_NUMBER_LINES}')"
      ],
      "metadata": {
        "colab": {
          "base_uri": "https://localhost:8080/"
        },
        "id": "AJ-JkKtOkSGu",
        "outputId": "2724a184-33d3-45f3-be6c-fd0cdb6e84c4"
      },
      "execution_count": 81,
      "outputs": [
        {
          "output_type": "stream",
          "name": "stdout",
          "text": [
            "MAX_NUMBER_LINES=300\n"
          ]
        }
      ]
    },
    {
      "cell_type": "markdown",
      "source": [
        "## Преобразование DF"
      ],
      "metadata": {
        "id": "Z2U8U2KQDOIk"
      }
    },
    {
      "cell_type": "code",
      "source": [
        "# Настройка номеров столбцов\n",
        "# Дальнейшие вычисления не будут зависеть от порядка столбцов в таблице\n",
        "\n",
        "COL_ACTIVATED_CL         = df.columns.get_loc('ACTIVATED_CL')\n",
        "COL_NUMBER_LINES         = df.columns.get_loc('NUMBER_LINES')\n",
        "COL_CUSTOMER_TYPE        = df.columns.get_loc('CUSTOMER_TYPE')\n",
        "COL_CUSTOMER_SUB_SEGMENT = df.columns.get_loc('CUSTOMER_SUB_SEGMENT')"
      ],
      "metadata": {
        "id": "lGOMkoWzY1pM"
      },
      "execution_count": 82,
      "outputs": []
    },
    {
      "cell_type": "code",
      "source": [
        "# Классы CUSTOMER_TYPE\n",
        "CUSTOMER_TYPE_class = [0, \n",
        "                    {'Business Customer Account\t'   : 0,\n",
        "                     'Residential Customer Account' : 1\n",
        "                    }]\n",
        "# Классы CUSTOMER_SUB_SEGMENT\n",
        "CUSTOMER_SUB_SEGMENT_class = [0, \n",
        "              {'Fixed & Mobile Expat' : 0,\n",
        "               'Mobile Expat'         : 1,\n",
        "               'Fixed Expat'          : 2,\n",
        "               'Fixed & Mobile UAE'   : 3,\n",
        "               'Mobile UAE'           : 4,\n",
        "               'Fixed UAE'            : 5\n",
        "                             }]"
      ],
      "metadata": {
        "id": "Dn7vQ8jwDS18"
      },
      "execution_count": 83,
      "outputs": []
    },
    {
      "cell_type": "code",
      "source": [
        "# Вычисление счетчиков для данных разбиения\n",
        "for class_desc in [CUSTOMER_TYPE_class,\n",
        "                   CUSTOMER_SUB_SEGMENT_class]:\n",
        "    if isinstance(class_desc[1], list):\n",
        "        class_desc[0] = len(class_desc[1]) + 1\n",
        "    else:\n",
        "        class_desc[0] = max(class_desc[1].values()) + 1"
      ],
      "metadata": {
        "id": "GvBmaYtfFem3"
      },
      "execution_count": 84,
      "outputs": []
    },
    {
      "cell_type": "code",
      "source": [
        "CUSTOMER_SUB_SEGMENT_class"
      ],
      "metadata": {
        "colab": {
          "base_uri": "https://localhost:8080/"
        },
        "id": "ZLdxu_WlFxj0",
        "outputId": "539ee788-16d3-47d5-e92b-4a052a0ea0d2"
      },
      "execution_count": 85,
      "outputs": [
        {
          "output_type": "execute_result",
          "data": {
            "text/plain": [
              "[6,\n",
              " {'Fixed & Mobile Expat': 0,\n",
              "  'Mobile Expat': 1,\n",
              "  'Fixed Expat': 2,\n",
              "  'Fixed & Mobile UAE': 3,\n",
              "  'Mobile UAE': 4,\n",
              "  'Fixed UAE': 5}]"
            ]
          },
          "metadata": {},
          "execution_count": 85
        }
      ]
    },
    {
      "cell_type": "code",
      "source": [
        "# Общая функция преобразования строки к multi-вектору\n",
        "# На входе данные и словарь сопоставления подстрок классам\n",
        "\n",
        "def str_to_multi(arg, class_dict):\n",
        "    # Определение размерности выходного вектора\n",
        "    num_classes = class_dict[0]\n",
        "\n",
        "    # Создание нулевого вектора\n",
        "    result = np.zeros(num_classes)\n",
        "    \n",
        "    # Поиск значения в словаре и, если найдено,\n",
        "    # выставление 1. на нужной позиции\n",
        "    for value, cls in class_dict[1].items():\n",
        "      # print(f'value={value} cls={cls}')\n",
        "      if value == arg:\n",
        "          result[cls] = 1.\n",
        "\n",
        "    return result\n",
        "\n",
        "def extract_CUSTOMER_SUB_SEGMENT_to_multi(arg):\n",
        "  return str_to_multi(arg, CUSTOMER_SUB_SEGMENT_class)\n",
        "\n",
        "def extract_CUSTOMER_TYPE_to_multi(arg):\n",
        "  return str_to_multi(arg, CUSTOMER_TYPE_class)"
      ],
      "metadata": {
        "id": "wF9FC3oiGmy3"
      },
      "execution_count": 86,
      "outputs": []
    },
    {
      "cell_type": "code",
      "source": [
        "CUSTOMER_SS = 'Fixed & Mobile UAE'\n",
        "extract_CUSTOMER_SUB_SEGMENT_to_multi(CUSTOMER_SS)"
      ],
      "metadata": {
        "colab": {
          "base_uri": "https://localhost:8080/"
        },
        "id": "GU4hxd3qHYNO",
        "outputId": "2740989b-ba48-46f9-8624-feb8d7c30479"
      },
      "execution_count": 87,
      "outputs": [
        {
          "output_type": "execute_result",
          "data": {
            "text/plain": [
              "array([0., 0., 0., 1., 0., 0.])"
            ]
          },
          "metadata": {},
          "execution_count": 87
        }
      ]
    },
    {
      "cell_type": "code",
      "source": [
        "CUSTOMER_TYPE = 'Residential Customer Account'\n",
        "extract_CUSTOMER_TYPE_to_multi(CUSTOMER_TYPE)"
      ],
      "metadata": {
        "colab": {
          "base_uri": "https://localhost:8080/"
        },
        "id": "ur7fOke7BxlA",
        "outputId": "c33655d5-5fca-4eb8-9b1b-a723e46914b9"
      },
      "execution_count": 88,
      "outputs": [
        {
          "output_type": "execute_result",
          "data": {
            "text/plain": [
              "array([0., 1.])"
            ]
          },
          "metadata": {},
          "execution_count": 88
        }
      ]
    },
    {
      "cell_type": "code",
      "source": [
        "def extract_NUMBER_LINES_Category(arg, MAX_NUMBER_LINES):\n",
        "  NUMBER_LINES = utils.to_categorical(arg, MAX_NUMBER_LINES+1) #Превращаем в категорию\n",
        "  return NUMBER_LINES"
      ],
      "metadata": {
        "id": "Wc49YGTtpte8"
      },
      "execution_count": 89,
      "outputs": []
    },
    {
      "cell_type": "code",
      "source": [
        "# Привмер вызова \n",
        "extract_NUMBER_LINES_Category(100,MAX_NUMBER_LINES)"
      ],
      "metadata": {
        "colab": {
          "base_uri": "https://localhost:8080/"
        },
        "id": "vR5x5nhGRQDU",
        "outputId": "6a32b6fd-8b4f-4c0e-da4d-f09e9d7a5e8f"
      },
      "execution_count": 90,
      "outputs": [
        {
          "output_type": "execute_result",
          "data": {
            "text/plain": [
              "array([0., 0., 0., 0., 0., 0., 0., 0., 0., 0., 0., 0., 0., 0., 0., 0., 0.,\n",
              "       0., 0., 0., 0., 0., 0., 0., 0., 0., 0., 0., 0., 0., 0., 0., 0., 0.,\n",
              "       0., 0., 0., 0., 0., 0., 0., 0., 0., 0., 0., 0., 0., 0., 0., 0., 0.,\n",
              "       0., 0., 0., 0., 0., 0., 0., 0., 0., 0., 0., 0., 0., 0., 0., 0., 0.,\n",
              "       0., 0., 0., 0., 0., 0., 0., 0., 0., 0., 0., 0., 0., 0., 0., 0., 0.,\n",
              "       0., 0., 0., 0., 0., 0., 0., 0., 0., 0., 0., 0., 0., 0., 0., 1., 0.,\n",
              "       0., 0., 0., 0., 0., 0., 0., 0., 0., 0., 0., 0., 0., 0., 0., 0., 0.,\n",
              "       0., 0., 0., 0., 0., 0., 0., 0., 0., 0., 0., 0., 0., 0., 0., 0., 0.,\n",
              "       0., 0., 0., 0., 0., 0., 0., 0., 0., 0., 0., 0., 0., 0., 0., 0., 0.,\n",
              "       0., 0., 0., 0., 0., 0., 0., 0., 0., 0., 0., 0., 0., 0., 0., 0., 0.,\n",
              "       0., 0., 0., 0., 0., 0., 0., 0., 0., 0., 0., 0., 0., 0., 0., 0., 0.,\n",
              "       0., 0., 0., 0., 0., 0., 0., 0., 0., 0., 0., 0., 0., 0., 0., 0., 0.,\n",
              "       0., 0., 0., 0., 0., 0., 0., 0., 0., 0., 0., 0., 0., 0., 0., 0., 0.,\n",
              "       0., 0., 0., 0., 0., 0., 0., 0., 0., 0., 0., 0., 0., 0., 0., 0., 0.,\n",
              "       0., 0., 0., 0., 0., 0., 0., 0., 0., 0., 0., 0., 0., 0., 0., 0., 0.,\n",
              "       0., 0., 0., 0., 0., 0., 0., 0., 0., 0., 0., 0., 0., 0., 0., 0., 0.,\n",
              "       0., 0., 0., 0., 0., 0., 0., 0., 0., 0., 0., 0., 0., 0., 0., 0., 0.,\n",
              "       0., 0., 0., 0., 0., 0., 0., 0., 0., 0., 0., 0.], dtype=float32)"
            ]
          },
          "metadata": {},
          "execution_count": 90
        }
      ]
    },
    {
      "cell_type": "code",
      "source": [
        "def extract_row_data(row):\n",
        "  ACTIVATED_CL = int(row[COL_ACTIVATED_CL])\n",
        "  ACTIVATED_CL_vec = np.array([ACTIVATED_CL])\n",
        "\n",
        "  NUMBER_LINES = int(row[COL_NUMBER_LINES])\n",
        "  # NUMBER_LINES_vec = np.array([NUMBER_LINES])\n",
        "  NUMBER_LINES_vec = extract_NUMBER_LINES_Category(NUMBER_LINES, MAX_NUMBER_LINES)\n",
        "  \n",
        "  CUSTOMER_TYPE_ohe = extract_CUSTOMER_TYPE_to_multi(row[COL_CUSTOMER_TYPE])\n",
        "  CUSTOMER_SUB_SEGMENT_ohe = extract_CUSTOMER_SUB_SEGMENT_to_multi(row[COL_CUSTOMER_SUB_SEGMENT])\n",
        "\n",
        "  # Объединение всех входных данных в один общий вектор\n",
        "  x_data = np.hstack([NUMBER_LINES_vec, \n",
        "                      CUSTOMER_TYPE_ohe,\n",
        "                      CUSTOMER_SUB_SEGMENT_ohe])\n",
        "    \n",
        "  # Возврат входных данных и выходных (зарплаты)\n",
        "  return x_data, ACTIVATED_CL_vec\n",
        "\n",
        "  # Создание общей выборки\n",
        "def construct_train_data(row_list):\n",
        "    x_data = []\n",
        "    y_data = []\n",
        "    \n",
        "    for row in row_list:\n",
        "        x, y = extract_row_data(row)\n",
        "        if y[0] > 0:                      \n",
        "            x_data.append(x)\n",
        "            y_data.append(y)\n",
        "\n",
        "    return np.array(x_data), np.array(y_data)\n"
      ],
      "metadata": {
        "id": "eGZ2W7VICZiY"
      },
      "execution_count": 91,
      "outputs": []
    },
    {
      "cell_type": "code",
      "source": [
        "# Формирование выборки из загруженного набора данных    \n",
        "x_train, y_train = construct_train_data(df.values)"
      ],
      "metadata": {
        "id": "CCrA0l3wSnwM"
      },
      "execution_count": 92,
      "outputs": []
    },
    {
      "cell_type": "code",
      "source": [
        "# Для нормализации данных используется готовый инструмент\n",
        "y_scaler = StandardScaler()\n",
        "\n",
        "# Нормализация выходных данных по стандартному нормальному распределению\n",
        "y_train_scaler = y_scaler.fit_transform(y_train)"
      ],
      "metadata": {
        "id": "N4ifcNZBaYGW"
      },
      "execution_count": 93,
      "outputs": []
    },
    {
      "cell_type": "code",
      "source": [
        "joblib.dump(y_scaler, 'std_scaler.bin', compress=True)"
      ],
      "metadata": {
        "colab": {
          "base_uri": "https://localhost:8080/"
        },
        "id": "6uvURbpYlkE9",
        "outputId": "96c55d9c-0adc-4775-cb4c-8a0e73527943"
      },
      "execution_count": 94,
      "outputs": [
        {
          "output_type": "execute_result",
          "data": {
            "text/plain": [
              "['std_scaler.bin']"
            ]
          },
          "metadata": {},
          "execution_count": 94
        }
      ]
    },
    {
      "cell_type": "code",
      "source": [
        "# Проверка нормализации\n",
        "print(y_train.shape)\n",
        "print(f'Оригинальное значение CL:  {y_train [1, 0]}')\n",
        "print(f'Нормированное значение CL: {y_train_scaler [1, 0]}')\n",
        "\n",
        "# Вывод границ ненормализованных и нормализованных данных\n",
        "print(y_train_scaler.mean(), y_train_scaler.std())\n",
        "print(y_train.mean(), y_train.std())"
      ],
      "metadata": {
        "colab": {
          "base_uri": "https://localhost:8080/"
        },
        "id": "E_tMURyZaeUe",
        "outputId": "78e8c008-20cb-4183-fb3a-b8989b79f44e"
      },
      "execution_count": 95,
      "outputs": [
        {
          "output_type": "stream",
          "name": "stdout",
          "text": [
            "(299955, 1)\n",
            "Оригинальное значение CL:  2145\n",
            "Нормированное значение CL: 0.8744651867336666\n",
            "3.932259643485744e-17 1.0\n",
            "1107.8212331849777 1186.0721073289712\n"
          ]
        }
      ]
    },
    {
      "cell_type": "code",
      "source": [
        "# Далее используем только нормализовннаые данные\n",
        "y_train = y_train_scaler \n",
        "# В итоге мы получаем следующие наборы данных:\n",
        "print(x_train.shape) \n",
        "print(y_train.shape)\n",
        "print(type(x_train), type(y_train))\n",
        "\n",
        "# Пример обработанных данных\n",
        "n = 0 \n",
        "print(x_train[n])\n",
        "print(y_train[n])"
      ],
      "metadata": {
        "colab": {
          "base_uri": "https://localhost:8080/"
        },
        "id": "mJodAOtxaqfB",
        "outputId": "81456ff5-65ce-4264-c638-803e7479feec"
      },
      "execution_count": 96,
      "outputs": [
        {
          "output_type": "stream",
          "name": "stdout",
          "text": [
            "(299955, 309)\n",
            "(299955, 1)\n",
            "<class 'numpy.ndarray'> <class 'numpy.ndarray'>\n",
            "[0. 1. 0. 0. 0. 0. 0. 0. 0. 0. 0. 0. 0. 0. 0. 0. 0. 0. 0. 0. 0. 0. 0. 0.\n",
            " 0. 0. 0. 0. 0. 0. 0. 0. 0. 0. 0. 0. 0. 0. 0. 0. 0. 0. 0. 0. 0. 0. 0. 0.\n",
            " 0. 0. 0. 0. 0. 0. 0. 0. 0. 0. 0. 0. 0. 0. 0. 0. 0. 0. 0. 0. 0. 0. 0. 0.\n",
            " 0. 0. 0. 0. 0. 0. 0. 0. 0. 0. 0. 0. 0. 0. 0. 0. 0. 0. 0. 0. 0. 0. 0. 0.\n",
            " 0. 0. 0. 0. 0. 0. 0. 0. 0. 0. 0. 0. 0. 0. 0. 0. 0. 0. 0. 0. 0. 0. 0. 0.\n",
            " 0. 0. 0. 0. 0. 0. 0. 0. 0. 0. 0. 0. 0. 0. 0. 0. 0. 0. 0. 0. 0. 0. 0. 0.\n",
            " 0. 0. 0. 0. 0. 0. 0. 0. 0. 0. 0. 0. 0. 0. 0. 0. 0. 0. 0. 0. 0. 0. 0. 0.\n",
            " 0. 0. 0. 0. 0. 0. 0. 0. 0. 0. 0. 0. 0. 0. 0. 0. 0. 0. 0. 0. 0. 0. 0. 0.\n",
            " 0. 0. 0. 0. 0. 0. 0. 0. 0. 0. 0. 0. 0. 0. 0. 0. 0. 0. 0. 0. 0. 0. 0. 0.\n",
            " 0. 0. 0. 0. 0. 0. 0. 0. 0. 0. 0. 0. 0. 0. 0. 0. 0. 0. 0. 0. 0. 0. 0. 0.\n",
            " 0. 0. 0. 0. 0. 0. 0. 0. 0. 0. 0. 0. 0. 0. 0. 0. 0. 0. 0. 0. 0. 0. 0. 0.\n",
            " 0. 0. 0. 0. 0. 0. 0. 0. 0. 0. 0. 0. 0. 0. 0. 0. 0. 0. 0. 0. 0. 0. 0. 0.\n",
            " 0. 0. 0. 0. 0. 0. 0. 0. 0. 0. 0. 0. 0. 0. 1. 0. 0. 0. 1. 0. 0.]\n",
            "[-0.8589876]\n"
          ]
        }
      ]
    },
    {
      "cell_type": "markdown",
      "source": [
        "## Обучение модели"
      ],
      "metadata": {
        "id": "ZiFIyJ34iNx5"
      }
    },
    {
      "cell_type": "code",
      "source": [
        "# Функция отрисовки графика истории обучения\n",
        "def plot_history(history):\n",
        "    plt.plot(history.history['mae'], \n",
        "            label='Средняя абсолютная ошибка на обучающем наборе')\n",
        "    plt.plot(history.history['val_mae'], \n",
        "            label='Средняя абсолютная ошибка на проверочном наборе')\n",
        "    plt.xlabel('Эпоха обучения')\n",
        "    plt.ylabel('Средняя абсолютная ошибка')\n",
        "    plt.legend()\n",
        "    plt.show()"
      ],
      "metadata": {
        "id": "N-EXLhRgiQEp"
      },
      "execution_count": 97,
      "outputs": []
    },
    {
      "cell_type": "code",
      "source": [
        "# Обучение модели на простых данных с нормализованной зарплатой\n",
        "model = Sequential()\n",
        "model.add(BatchNormalization(input_dim=x_train.shape[1]))\n",
        "model.add(Dense(128, activation='relu'))\n",
        "model.add(Dense(1000, activation='tanh'))\n",
        "model.add(Dense(100, activation='relu'))\n",
        "model.add(Dense(1, activation='linear'))\n",
        "\n",
        "utils.plot_model(model, show_shapes=True)"
      ],
      "metadata": {
        "colab": {
          "base_uri": "https://localhost:8080/",
          "height": 644
        },
        "id": "rRKjQwVXdyI8",
        "outputId": "07cb03a5-a647-411a-b89b-37ffb3549425"
      },
      "execution_count": 98,
      "outputs": [
        {
          "output_type": "execute_result",
          "data": {
            "image/png": "[encoded data removed]",
            "text/plain": [
              "<IPython.core.display.Image object>"
            ]
          },
          "metadata": {},
          "execution_count": 98
        }
      ]
    },
    {
      "cell_type": "code",
      "source": [
        "model.compile(optimizer=Adam(learning_rate=1e-5), loss='mse', metrics=['mae'])\n",
        "\n",
        "history = model.fit(x_train, \n",
        "                    y_train, \n",
        "                    epochs=50, \n",
        "                    batch_size=256,\n",
        "                    validation_split=0.15, \n",
        "                    verbose=1)\n",
        "\n",
        "plot_history(history)"
      ],
      "metadata": {
        "colab": {
          "base_uri": "https://localhost:8080/",
          "height": 1000
        },
        "id": "WmjPGS-zxcvG",
        "outputId": "f0ed0669-35cc-48e3-e628-3e2e8ea2bef6"
      },
      "execution_count": 99,
      "outputs": [
        {
          "output_type": "stream",
          "name": "stdout",
          "text": [
            "Epoch 1/50\n",
            "996/996 [==============================] - 7s 5ms/step - loss: 0.2528 - mae: 0.3741 - val_loss: 0.0879 - val_mae: 0.1943\n",
            "Epoch 2/50\n",
            "996/996 [==============================] - 4s 4ms/step - loss: 0.0469 - mae: 0.1529 - val_loss: 0.0897 - val_mae: 0.1894\n",
            "Epoch 3/50\n",
            "996/996 [==============================] - 4s 4ms/step - loss: 0.0371 - mae: 0.1369 - val_loss: 0.0823 - val_mae: 0.1791\n",
            "Epoch 4/50\n",
            "996/996 [==============================] - 5s 5ms/step - loss: 0.0345 - mae: 0.1310 - val_loss: 0.0707 - val_mae: 0.1703\n",
            "Epoch 5/50\n",
            "996/996 [==============================] - 4s 4ms/step - loss: 0.0329 - mae: 0.1276 - val_loss: 0.0753 - val_mae: 0.1684\n",
            "Epoch 6/50\n",
            "996/996 [==============================] - 5s 5ms/step - loss: 0.0313 - mae: 0.1241 - val_loss: 0.0588 - val_mae: 0.1544\n",
            "Epoch 7/50\n",
            "996/996 [==============================] - 4s 4ms/step - loss: 0.0302 - mae: 0.1219 - val_loss: 0.0572 - val_mae: 0.1501\n",
            "Epoch 8/50\n",
            "996/996 [==============================] - 4s 4ms/step - loss: 0.0289 - mae: 0.1187 - val_loss: 0.0519 - val_mae: 0.1432\n",
            "Epoch 9/50\n",
            "996/996 [==============================] - 5s 5ms/step - loss: 0.0278 - mae: 0.1161 - val_loss: 0.0486 - val_mae: 0.1394\n",
            "Epoch 10/50\n",
            "996/996 [==============================] - 4s 4ms/step - loss: 0.0272 - mae: 0.1139 - val_loss: 0.0446 - val_mae: 0.1335\n",
            "Epoch 11/50\n",
            "996/996 [==============================] - 4s 4ms/step - loss: 0.0263 - mae: 0.1119 - val_loss: 0.0416 - val_mae: 0.1305\n",
            "Epoch 12/50\n",
            "996/996 [==============================] - 5s 5ms/step - loss: 0.0255 - mae: 0.1096 - val_loss: 0.0394 - val_mae: 0.1281\n",
            "Epoch 13/50\n",
            "996/996 [==============================] - 4s 4ms/step - loss: 0.0251 - mae: 0.1085 - val_loss: 0.0388 - val_mae: 0.1254\n",
            "Epoch 14/50\n",
            "996/996 [==============================] - 5s 5ms/step - loss: 0.0245 - mae: 0.1065 - val_loss: 0.0352 - val_mae: 0.1264\n",
            "Epoch 15/50\n",
            "996/996 [==============================] - 5s 5ms/step - loss: 0.0239 - mae: 0.1050 - val_loss: 0.0349 - val_mae: 0.1218\n",
            "Epoch 16/50\n",
            "996/996 [==============================] - 4s 4ms/step - loss: 0.0234 - mae: 0.1036 - val_loss: 0.0312 - val_mae: 0.1177\n",
            "Epoch 17/50\n",
            "996/996 [==============================] - 5s 5ms/step - loss: 0.0233 - mae: 0.1034 - val_loss: 0.0308 - val_mae: 0.1191\n",
            "Epoch 18/50\n",
            "996/996 [==============================] - 4s 4ms/step - loss: 0.0231 - mae: 0.1028 - val_loss: 0.0292 - val_mae: 0.1103\n",
            "Epoch 19/50\n",
            "996/996 [==============================] - 4s 4ms/step - loss: 0.0227 - mae: 0.1018 - val_loss: 0.0283 - val_mae: 0.1140\n",
            "Epoch 20/50\n",
            "996/996 [==============================] - 5s 5ms/step - loss: 0.0225 - mae: 0.1010 - val_loss: 0.0277 - val_mae: 0.1157\n",
            "Epoch 21/50\n",
            "996/996 [==============================] - 4s 5ms/step - loss: 0.0223 - mae: 0.1004 - val_loss: 0.0275 - val_mae: 0.1096\n",
            "Epoch 22/50\n",
            "996/996 [==============================] - 4s 4ms/step - loss: 0.0220 - mae: 0.0999 - val_loss: 0.0263 - val_mae: 0.1034\n",
            "Epoch 23/50\n",
            "996/996 [==============================] - 5s 5ms/step - loss: 0.0220 - mae: 0.0998 - val_loss: 0.0256 - val_mae: 0.1078\n",
            "Epoch 24/50\n",
            "996/996 [==============================] - 4s 4ms/step - loss: 0.0218 - mae: 0.0992 - val_loss: 0.0251 - val_mae: 0.1083\n",
            "Epoch 25/50\n",
            "996/996 [==============================] - 4s 4ms/step - loss: 0.0217 - mae: 0.0991 - val_loss: 0.0252 - val_mae: 0.1098\n",
            "Epoch 26/50\n",
            "996/996 [==============================] - 5s 5ms/step - loss: 0.0216 - mae: 0.0989 - val_loss: 0.0242 - val_mae: 0.1049\n",
            "Epoch 27/50\n",
            "996/996 [==============================] - 4s 4ms/step - loss: 0.0215 - mae: 0.0987 - val_loss: 0.0248 - val_mae: 0.1113\n",
            "Epoch 28/50\n",
            "996/996 [==============================] - 5s 5ms/step - loss: 0.0214 - mae: 0.0981 - val_loss: 0.0239 - val_mae: 0.1038\n",
            "Epoch 29/50\n",
            "996/996 [==============================] - 4s 5ms/step - loss: 0.0213 - mae: 0.0980 - val_loss: 0.0251 - val_mae: 0.1008\n",
            "Epoch 30/50\n",
            "996/996 [==============================] - 4s 4ms/step - loss: 0.0213 - mae: 0.0980 - val_loss: 0.0238 - val_mae: 0.1084\n",
            "Epoch 31/50\n",
            "996/996 [==============================] - 5s 5ms/step - loss: 0.0212 - mae: 0.0979 - val_loss: 0.0239 - val_mae: 0.1001\n",
            "Epoch 32/50\n",
            "996/996 [==============================] - 4s 4ms/step - loss: 0.0211 - mae: 0.0975 - val_loss: 0.0229 - val_mae: 0.1029\n",
            "Epoch 33/50\n",
            "996/996 [==============================] - 4s 4ms/step - loss: 0.0211 - mae: 0.0976 - val_loss: 0.0229 - val_mae: 0.1047\n",
            "Epoch 34/50\n",
            "996/996 [==============================] - 5s 5ms/step - loss: 0.0210 - mae: 0.0972 - val_loss: 0.0228 - val_mae: 0.1014\n",
            "Epoch 35/50\n",
            "996/996 [==============================] - 4s 4ms/step - loss: 0.0209 - mae: 0.0971 - val_loss: 0.0226 - val_mae: 0.1002\n",
            "Epoch 36/50\n",
            "996/996 [==============================] - 5s 5ms/step - loss: 0.0209 - mae: 0.0969 - val_loss: 0.0231 - val_mae: 0.1060\n",
            "Epoch 37/50\n",
            "996/996 [==============================] - 5s 5ms/step - loss: 0.0208 - mae: 0.0967 - val_loss: 0.0225 - val_mae: 0.1029\n",
            "Epoch 38/50\n",
            "996/996 [==============================] - 4s 4ms/step - loss: 0.0208 - mae: 0.0968 - val_loss: 0.0220 - val_mae: 0.0976\n",
            "Epoch 39/50\n",
            "996/996 [==============================] - 5s 5ms/step - loss: 0.0207 - mae: 0.0965 - val_loss: 0.0226 - val_mae: 0.0993\n",
            "Epoch 40/50\n",
            "996/996 [==============================] - 4s 4ms/step - loss: 0.0207 - mae: 0.0964 - val_loss: 0.0219 - val_mae: 0.1005\n",
            "Epoch 41/50\n",
            "996/996 [==============================] - 4s 4ms/step - loss: 0.0207 - mae: 0.0963 - val_loss: 0.0230 - val_mae: 0.0974\n",
            "Epoch 42/50\n",
            "996/996 [==============================] - 5s 5ms/step - loss: 0.0206 - mae: 0.0962 - val_loss: 0.0223 - val_mae: 0.1000\n",
            "Epoch 43/50\n",
            "996/996 [==============================] - 4s 4ms/step - loss: 0.0207 - mae: 0.0962 - val_loss: 0.0222 - val_mae: 0.0988\n",
            "Epoch 44/50\n",
            "996/996 [==============================] - 4s 4ms/step - loss: 0.0206 - mae: 0.0960 - val_loss: 0.0225 - val_mae: 0.0988\n",
            "Epoch 45/50\n",
            "996/996 [==============================] - 5s 5ms/step - loss: 0.0206 - mae: 0.0959 - val_loss: 0.0224 - val_mae: 0.0989\n",
            "Epoch 46/50\n",
            "996/996 [==============================] - 4s 4ms/step - loss: 0.0206 - mae: 0.0958 - val_loss: 0.0220 - val_mae: 0.1009\n",
            "Epoch 47/50\n",
            "996/996 [==============================] - 4s 4ms/step - loss: 0.0206 - mae: 0.0958 - val_loss: 0.0217 - val_mae: 0.0999\n",
            "Epoch 48/50\n",
            "996/996 [==============================] - 5s 5ms/step - loss: 0.0205 - mae: 0.0957 - val_loss: 0.0227 - val_mae: 0.0969\n",
            "Epoch 49/50\n",
            "996/996 [==============================] - 5s 5ms/step - loss: 0.0205 - mae: 0.0956 - val_loss: 0.0217 - val_mae: 0.0966\n",
            "Epoch 50/50\n",
            "996/996 [==============================] - 5s 5ms/step - loss: 0.0205 - mae: 0.0956 - val_loss: 0.0229 - val_mae: 0.0968\n"
          ]
        },
        {
          "output_type": "display_data",
          "data": {
            "text/plain": [
              "<Figure size 432x288 with 1 Axes>"
            ],
            "image/png": "[encoded data removed]"
          },
          "metadata": {
            "needs_background": "light"
          }
        }
      ]
    },
    {
      "cell_type": "code",
      "source": [
        "# Проверка работы сети - предсказание на тренировочной выборке\n",
        "pred = model.predict(x_train)\n",
        "\n",
        "# Расчет среднего значения ошибки \n",
        "print((abs(pred - y_train)).mean())         # Расчет вручную\n",
        "print(mean_absolute_error(pred, y_train))   # Расчет с помощью готовой функции"
      ],
      "metadata": {
        "colab": {
          "base_uri": "https://localhost:8080/"
        },
        "id": "Tr9Mf9imaKzW",
        "outputId": "cdca4c7b-70d3-4a86-804a-7efc768f1a5d"
      },
      "execution_count": 100,
      "outputs": [
        {
          "output_type": "stream",
          "name": "stdout",
          "text": [
            "9374/9374 [==============================] - 16s 2ms/step\n",
            "0.09692873543375308\n",
            "0.09692873543375308\n"
          ]
        }
      ]
    },
    {
      "cell_type": "code",
      "source": [
        "# Сохраняем саму модель\n",
        "# Сериализация в JSON\n",
        "model_json = model.to_json()\n",
        "with open(\"/content/model.json\", \"w\") as json_file:\n",
        "    json_file.write(model_json)\n",
        "# Сохраняем(сериализуем) веса  в формате HDF5\n",
        "model.save_weights(\"/content/model.h5\")\n",
        "print(\"Сохранено\")"
      ],
      "metadata": {
        "colab": {
          "base_uri": "https://localhost:8080/"
        },
        "id": "wokVXgkfSLl1",
        "outputId": "67763a4a-f574-49f4-cb7e-22feda5d49f0"
      },
      "execution_count": 101,
      "outputs": [
        {
          "output_type": "stream",
          "name": "stdout",
          "text": [
            "Сохранено\n"
          ]
        }
      ]
    },
    {
      "cell_type": "code",
      "source": [
        "# Открываем json файл разметки модели\n",
        "json_file = open('/content/model.json','r') \n",
        "loaded_model_json = json_file.read() # считываем\n",
        "json_file.close() # закрываем\n",
        "loaded_model = model_from_json(loaded_model_json) # используем керас, чтобы считать разметку архитектуры\n",
        "loaded_model.summary()\n",
        "loaded_model.load_weights(\"/content/model.h5\") # подгружаем веса\n",
        "print(\"Загружено с диска\")"
      ],
      "metadata": {
        "colab": {
          "base_uri": "https://localhost:8080/"
        },
        "id": "6MwXp8k1TGm2",
        "outputId": "60a09c2b-d4e9-4477-b7f6-6202c882e59e"
      },
      "execution_count": 102,
      "outputs": [
        {
          "output_type": "stream",
          "name": "stdout",
          "text": [
            "Model: \"sequential_2\"\n",
            "_________________________________________________________________\n",
            " Layer (type)                Output Shape              Param #   \n",
            "=================================================================\n",
            " batch_normalization_2 (Batc  (None, 309)              1236      \n",
            " hNormalization)                                                 \n",
            "                                                                 \n",
            " dense_8 (Dense)             (None, 128)               39680     \n",
            "                                                                 \n",
            " dense_9 (Dense)             (None, 1000)              129000    \n",
            "                                                                 \n",
            " dense_10 (Dense)            (None, 100)               100100    \n",
            "                                                                 \n",
            " dense_11 (Dense)            (None, 1)                 101       \n",
            "                                                                 \n",
            "=================================================================\n",
            "Total params: 270,117\n",
            "Trainable params: 269,499\n",
            "Non-trainable params: 618\n",
            "_________________________________________________________________\n",
            "Загружено с диска\n"
          ]
        }
      ]
    },
    {
      "cell_type": "code",
      "source": [
        "def data_preparation(NUMBER_LINES, CUSTOMER_TYPE, CUSTOMER_SUB_SEGMENT):\n",
        "  NUMBER_LINES_vec = extract_NUMBER_LINES_Category(NUMBER_LINES, MAX_NUMBER_LINES)\n",
        "  CUSTOMER_TYPE_ohe = extract_CUSTOMER_TYPE_to_multi(CUSTOMER_TYPE)\n",
        "  CUSTOMER_SUB_SEGMENT_ohe = extract_CUSTOMER_SUB_SEGMENT_to_multi(CUSTOMER_SUB_SEGMENT)\n",
        "  x_data = np.hstack([NUMBER_LINES_vec, \n",
        "                        CUSTOMER_TYPE_ohe,\n",
        "                        CUSTOMER_SUB_SEGMENT_ohe])\n",
        "  # print(type(x_data))\n",
        "  # print(x_data.shape)\n",
        "  x_data = x_data.reshape(1, x_data.shape[0])\n",
        "  # print(type(x_data))\n",
        "  # print(x_data.shape)\n",
        "  return x_data"
      ],
      "metadata": {
        "id": "bVRIYGNJAmOl"
      },
      "execution_count": 103,
      "outputs": []
    },
    {
      "cell_type": "code",
      "source": [
        "NUMBER_LINES = 10\n",
        "CUSTOMER_TYPE = 'Residential Customer Account'\n",
        "CUSTOMER_SUB_SEGMENT = 'Fixed UAE'\n",
        "\n",
        "x_data = data_preparation(NUMBER_LINES, CUSTOMER_TYPE, CUSTOMER_SUB_SEGMENT)\n",
        "pred = loaded_model.predict(x_data)             # Предсказание на тренировочной выборке\n",
        "# print(type(pred))\n",
        "# print(pred.shape)\n",
        "pred = y_scaler.inverse_transform(pred)\n",
        "cla = int(pred[0][0])\n",
        "print (cla)"
      ],
      "metadata": {
        "colab": {
          "base_uri": "https://localhost:8080/"
        },
        "id": "DDsghMZA8JhO",
        "outputId": "116eb527-9940-4dad-ef12-9ae979cfe338"
      },
      "execution_count": 104,
      "outputs": [
        {
          "output_type": "stream",
          "name": "stdout",
          "text": [
            "1/1 [==============================] - 0s 86ms/step\n",
            "171\n"
          ]
        }
      ]
    },
    {
      "cell_type": "code",
      "source": [
        "NUMBER_LINES = 100\n",
        "CUSTOMER_TYPE = 'Business Customer Account'\n",
        "CUSTOMER_SUB_SEGMENT = 'Fixed UAE'\n",
        "\n",
        "x_data = data_preparation(NUMBER_LINES, CUSTOMER_TYPE, CUSTOMER_SUB_SEGMENT)\n",
        "pred = loaded_model.predict(x_data)             # Предсказание на тренировочной выборке\n",
        "# print(type(pred))\n",
        "# print(pred.shape)\n",
        "pred = y_scaler.inverse_transform(pred)\n",
        "cla = int(pred[0][0])\n",
        "print (cla)"
      ],
      "metadata": {
        "colab": {
          "base_uri": "https://localhost:8080/"
        },
        "id": "l2MRMKFpBDp6",
        "outputId": "d7be2ad5-6f2f-4870-98b0-2809732ce88a"
      },
      "execution_count": 105,
      "outputs": [
        {
          "output_type": "stream",
          "name": "stdout",
          "text": [
            "1/1 [==============================] - 0s 24ms/step\n",
            "1638\n"
          ]
        }
      ]
    }
  ]
}