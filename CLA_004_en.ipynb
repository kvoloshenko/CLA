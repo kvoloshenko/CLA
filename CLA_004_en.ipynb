{
  "nbformat": 4,
  "nbformat_minor": 0,
  "metadata": {
    "colab": {
      "provenance": [],
      "collapsed_sections": [
        "yZGNUkfiHEtM",
        "chGsEBFtR7lp",
        "ca07GyexoanX",
        "44aLzdfmGtk8",
        "LJiLPpkPG4Pa",
        "Z2U8U2KQDOIk",
        "JFKqP-1PH9ly",
        "eJ0HTE8-IjRi",
        "Liy7QHKMI1aU",
        "V7zbA5rQJdN2",
        "UDHgNlopJ44d",
        "ZiFIyJ34iNx5",
        "ZxmPVTeXK77y",
        "QdDDqwjCLYs2",
        "f5UkJTa5MT66",
        "6ylN8Od_M0jw",
        "ihDtDz8oOOQh",
        "qSOosLYQOSbx"
      ]
    },
    "kernelspec": {
      "name": "python3",
      "display_name": "Python 3"
    },
    "language_info": {
      "name": "python"
    },
    "accelerator": "GPU",
    "gpuClass": "standard"
  },
  "cells": [
    {
      "cell_type": "markdown",
      "source": [
        "# Credit Limit Assessment (CLA)"
      ],
      "metadata": {
        "id": "N-BcZXaGEyNl"
      }
    },
    {
      "cell_type": "code",
      "source": [
        "import random\n",
        "from random import randrange\n",
        "from datetime import datetime\n",
        "from datetime import timedelta\n",
        "import numpy as np \n",
        "import pandas as pd\n",
        "import matplotlib.pyplot as plt\n",
        "from tensorflow.keras import utils\n",
        "from tensorflow.keras.models import Sequential, Model\n",
        "from tensorflow.keras.layers import Dense, Dropout, SpatialDropout1D, BatchNormalization, Embedding, Flatten, Activation, Input, concatenate\n",
        "from tensorflow.keras.layers import SimpleRNN, GRU, LSTM, Bidirectional, Conv1D, MaxPooling1D, GlobalMaxPooling1D\n",
        "from tensorflow.keras.optimizers import Adam, Adadelta, SGD, Adagrad, RMSprop\n",
        "from tensorflow.keras.preprocessing.text import Tokenizer\n",
        "from sklearn.preprocessing import StandardScaler\n",
        "import joblib\n",
        "from sklearn.metrics import mean_squared_error, mean_absolute_error\n",
        "from tensorflow.keras.models import model_from_json"
      ],
      "metadata": {
        "id": "yqXJ_ksHHu2d"
      },
      "execution_count": 1,
      "outputs": []
    },
    {
      "cell_type": "markdown",
      "source": [
        "## Data Simulation Functions"
      ],
      "metadata": {
        "id": "yZGNUkfiHEtM"
      }
    },
    {
      "cell_type": "code",
      "source": [
        "def DS_ACTIVATED_CL(CUSTOMER_TYPE, CUSTOMER_SUB_SEGMENT, NUMBER_LINES):\n",
        "  NUMBER_LINES = int (NUMBER_LINES)\n",
        "  if CUSTOMER_TYPE == 'Business Customer Account':\n",
        "    max = 1000\n",
        "  else:\n",
        "    max = 100\n",
        "\n",
        "  if CUSTOMER_SUB_SEGMENT == 'Fixed & Mobile UAE':\n",
        "    min = max // 2\n",
        "  elif CUSTOMER_SUB_SEGMENT == 'Mobile UAE':\n",
        "    min = max // 3\n",
        "  elif CUSTOMER_SUB_SEGMENT == 'Fixed UAE':\n",
        "    min = max // 4\n",
        "  elif CUSTOMER_SUB_SEGMENT == 'Fixed & Mobile Expat':\n",
        "    min = max // 5 \n",
        "  else:\n",
        "    min = 0\n",
        "  cl = random.randint(min, max) + NUMBER_LINES * 10\n",
        "  return str(cl)\n"
      ],
      "metadata": {
        "id": "eerBaurXo5eg"
      },
      "execution_count": 2,
      "outputs": []
    },
    {
      "cell_type": "code",
      "source": [
        "def DS_NUMBER_LINES(CUSTOMER_TYPE):\n",
        "  if CUSTOMER_TYPE == 'Business Customer Account':\n",
        "    max = 300\n",
        "  else:\n",
        "    max = 10\n",
        "  min = 0\n",
        "  n_lines = random.randint(min, max)\n",
        "  return str(n_lines)  \n"
      ],
      "metadata": {
        "id": "ZIIpygwj_Hhu"
      },
      "execution_count": 3,
      "outputs": []
    },
    {
      "cell_type": "code",
      "source": [
        "def DS_CUSTOMER_TYPE():\n",
        "  DS_LIST = ['Residential Customer Account', 'Business Customer Account']\n",
        "  return random.sample(DS_LIST, 1)[0]\n",
        "# DS_CUSTOMER_TYPE()"
      ],
      "metadata": {
        "id": "7biXdlMcvRpK"
      },
      "execution_count": 4,
      "outputs": []
    },
    {
      "cell_type": "code",
      "source": [
        "def DS_CUSTOMER_SUB_SEGMENT():\n",
        "  DS_LIST = ['Fixed & Mobile Expat', 'Mobile Expat', 'Fixed Expat', 'Fixed & Mobile UAE', 'Mobile UAE', 'Fixed UAE']\n",
        "  return random.sample(DS_LIST, 1)[0]\n",
        "# DS_CUSTOMER_SUB_SEGMENT()"
      ],
      "metadata": {
        "id": "ieeKp9Qc4EDT"
      },
      "execution_count": 5,
      "outputs": []
    },
    {
      "cell_type": "code",
      "source": [
        "def head_line():\n",
        "  return 'NUMBER_LINES,CUSTOMER_TYPE,CUSTOMER_SUB_SEGMENT,ACTIVATED_CL'"
      ],
      "metadata": {
        "id": "l3Bfgh5EhtRf"
      },
      "execution_count": 6,
      "outputs": []
    },
    {
      "cell_type": "code",
      "source": [
        "def df_lines(num_lines):\n",
        "  myfile = open('CLA_001.csv', 'w')\n",
        "  df_str = '' + head_line() + '\\n'\n",
        "  myfile.writelines(df_str)\n",
        "  for _ in range(num_lines):\n",
        "    CUSTOMER_TYPE = DS_CUSTOMER_TYPE()\n",
        "    CUSTOMER_SUB_SEGMENT = DS_CUSTOMER_SUB_SEGMENT()\n",
        "    NUMBER_LINES = DS_NUMBER_LINES(CUSTOMER_TYPE)\n",
        "    ACTIVATED_CL = DS_ACTIVATED_CL(CUSTOMER_TYPE, CUSTOMER_SUB_SEGMENT, NUMBER_LINES)\n",
        "\n",
        "    df_str = '' + NUMBER_LINES \\\n",
        "      + ',' + CUSTOMER_TYPE \\\n",
        "      + ',' + CUSTOMER_SUB_SEGMENT \\\n",
        "      + ',' + ACTIVATED_CL \\\n",
        "      + '\\n'\n",
        "    myfile.writelines(df_str)\n",
        "  myfile.close()"
      ],
      "metadata": {
        "id": "NZmXr_rcivrp"
      },
      "execution_count": 7,
      "outputs": []
    },
    {
      "cell_type": "markdown",
      "source": [
        "##DF Simulation"
      ],
      "metadata": {
        "id": "chGsEBFtR7lp"
      }
    },
    {
      "cell_type": "code",
      "source": [
        "df_str = df_lines(300000)"
      ],
      "metadata": {
        "id": "pZw_VR9SSAQM"
      },
      "execution_count": 8,
      "outputs": []
    },
    {
      "cell_type": "markdown",
      "source": [
        "## Exploring and Processing the Dataset"
      ],
      "metadata": {
        "id": "ca07GyexoanX"
      }
    },
    {
      "cell_type": "markdown",
      "source": [
        "### Read and split our dataset into the input features"
      ],
      "metadata": {
        "id": "44aLzdfmGtk8"
      }
    },
    {
      "cell_type": "code",
      "source": [
        "# Using Pandas\n",
        "df = pd.read_csv('/content/CLA_001.csv') # This is the path where you put the data file\n",
        "print(df.shape) # Quantity and number of the features"
      ],
      "metadata": {
        "colab": {
          "base_uri": "https://localhost:8080/"
        },
        "id": "Mecq1VFmodZf",
        "outputId": "062c8916-025f-46df-b31e-5d31e349530d"
      },
      "execution_count": 9,
      "outputs": [
        {
          "output_type": "stream",
          "name": "stdout",
          "text": [
            "(300000, 4)\n"
          ]
        }
      ]
    },
    {
      "cell_type": "markdown",
      "source": [
        "### Analysis and selection of necessary features"
      ],
      "metadata": {
        "id": "LJiLPpkPG4Pa"
      }
    },
    {
      "cell_type": "code",
      "source": [
        "df.head()"
      ],
      "metadata": {
        "colab": {
          "base_uri": "https://localhost:8080/",
          "height": 206
        },
        "id": "G7tSLieJpHdR",
        "outputId": "7a35cd41-3fda-45c2-93b4-1a917ba1e85a"
      },
      "execution_count": 10,
      "outputs": [
        {
          "output_type": "execute_result",
          "data": {
            "text/plain": [
              "   NUMBER_LINES                 CUSTOMER_TYPE  CUSTOMER_SUB_SEGMENT  \\\n",
              "0             2  Residential Customer Account           Fixed Expat   \n",
              "1             5  Residential Customer Account    Fixed & Mobile UAE   \n",
              "2            81     Business Customer Account             Fixed UAE   \n",
              "3             0  Residential Customer Account  Fixed & Mobile Expat   \n",
              "4             6  Residential Customer Account           Fixed Expat   \n",
              "\n",
              "   ACTIVATED_CL  \n",
              "0            46  \n",
              "1           133  \n",
              "2          1750  \n",
              "3            99  \n",
              "4            78  "
            ],
            "text/html": [
              "\n",
              "  <div id=\"df-d5190e75-179f-422d-95aa-03d46559851c\">\n",
              "    <div class=\"colab-df-container\">\n",
              "      <div>\n",
              "<style scoped>\n",
              "    .dataframe tbody tr th:only-of-type {\n",
              "        vertical-align: middle;\n",
              "    }\n",
              "\n",
              "    .dataframe tbody tr th {\n",
              "        vertical-align: top;\n",
              "    }\n",
              "\n",
              "    .dataframe thead th {\n",
              "        text-align: right;\n",
              "    }\n",
              "</style>\n",
              "<table border=\"1\" class=\"dataframe\">\n",
              "  <thead>\n",
              "    <tr style=\"text-align: right;\">\n",
              "      <th></th>\n",
              "      <th>NUMBER_LINES</th>\n",
              "      <th>CUSTOMER_TYPE</th>\n",
              "      <th>CUSTOMER_SUB_SEGMENT</th>\n",
              "      <th>ACTIVATED_CL</th>\n",
              "    </tr>\n",
              "  </thead>\n",
              "  <tbody>\n",
              "    <tr>\n",
              "      <th>0</th>\n",
              "      <td>2</td>\n",
              "      <td>Residential Customer Account</td>\n",
              "      <td>Fixed Expat</td>\n",
              "      <td>46</td>\n",
              "    </tr>\n",
              "    <tr>\n",
              "      <th>1</th>\n",
              "      <td>5</td>\n",
              "      <td>Residential Customer Account</td>\n",
              "      <td>Fixed &amp; Mobile UAE</td>\n",
              "      <td>133</td>\n",
              "    </tr>\n",
              "    <tr>\n",
              "      <th>2</th>\n",
              "      <td>81</td>\n",
              "      <td>Business Customer Account</td>\n",
              "      <td>Fixed UAE</td>\n",
              "      <td>1750</td>\n",
              "    </tr>\n",
              "    <tr>\n",
              "      <th>3</th>\n",
              "      <td>0</td>\n",
              "      <td>Residential Customer Account</td>\n",
              "      <td>Fixed &amp; Mobile Expat</td>\n",
              "      <td>99</td>\n",
              "    </tr>\n",
              "    <tr>\n",
              "      <th>4</th>\n",
              "      <td>6</td>\n",
              "      <td>Residential Customer Account</td>\n",
              "      <td>Fixed Expat</td>\n",
              "      <td>78</td>\n",
              "    </tr>\n",
              "  </tbody>\n",
              "</table>\n",
              "</div>\n",
              "      <button class=\"colab-df-convert\" onclick=\"convertToInteractive('df-d5190e75-179f-422d-95aa-03d46559851c')\"\n",
              "              title=\"Convert this dataframe to an interactive table.\"\n",
              "              style=\"display:none;\">\n",
              "        \n",
              "  <svg xmlns=\"http://www.w3.org/2000/svg\" height=\"24px\"viewBox=\"0 0 24 24\"\n",
              "       width=\"24px\">\n",
              "    <path d=\"M0 0h24v24H0V0z\" fill=\"none\"/>\n",
              "    <path d=\"M18.56 5.44l.94 2.06.94-2.06 2.06-.94-2.06-.94-.94-2.06-.94 2.06-2.06.94zm-11 1L8.5 8.5l.94-2.06 2.06-.94-2.06-.94L8.5 2.5l-.94 2.06-2.06.94zm10 10l.94 2.06.94-2.06 2.06-.94-2.06-.94-.94-2.06-.94 2.06-2.06.94z\"/><path d=\"M17.41 7.96l-1.37-1.37c-.4-.4-.92-.59-1.43-.59-.52 0-1.04.2-1.43.59L10.3 9.45l-7.72 7.72c-.78.78-.78 2.05 0 2.83L4 21.41c.39.39.9.59 1.41.59.51 0 1.02-.2 1.41-.59l7.78-7.78 2.81-2.81c.8-.78.8-2.07 0-2.86zM5.41 20L4 18.59l7.72-7.72 1.47 1.35L5.41 20z\"/>\n",
              "  </svg>\n",
              "      </button>\n",
              "      \n",
              "  <style>\n",
              "    .colab-df-container {\n",
              "      display:flex;\n",
              "      flex-wrap:wrap;\n",
              "      gap: 12px;\n",
              "    }\n",
              "\n",
              "    .colab-df-convert {\n",
              "      background-color: #E8F0FE;\n",
              "      border: none;\n",
              "      border-radius: 50%;\n",
              "      cursor: pointer;\n",
              "      display: none;\n",
              "      fill: #1967D2;\n",
              "      height: 32px;\n",
              "      padding: 0 0 0 0;\n",
              "      width: 32px;\n",
              "    }\n",
              "\n",
              "    .colab-df-convert:hover {\n",
              "      background-color: #E2EBFA;\n",
              "      box-shadow: 0px 1px 2px rgba(60, 64, 67, 0.3), 0px 1px 3px 1px rgba(60, 64, 67, 0.15);\n",
              "      fill: #174EA6;\n",
              "    }\n",
              "\n",
              "    [theme=dark] .colab-df-convert {\n",
              "      background-color: #3B4455;\n",
              "      fill: #D2E3FC;\n",
              "    }\n",
              "\n",
              "    [theme=dark] .colab-df-convert:hover {\n",
              "      background-color: #434B5C;\n",
              "      box-shadow: 0px 1px 3px 1px rgba(0, 0, 0, 0.15);\n",
              "      filter: drop-shadow(0px 1px 2px rgba(0, 0, 0, 0.3));\n",
              "      fill: #FFFFFF;\n",
              "    }\n",
              "  </style>\n",
              "\n",
              "      <script>\n",
              "        const buttonEl =\n",
              "          document.querySelector('#df-d5190e75-179f-422d-95aa-03d46559851c button.colab-df-convert');\n",
              "        buttonEl.style.display =\n",
              "          google.colab.kernel.accessAllowed ? 'block' : 'none';\n",
              "\n",
              "        async function convertToInteractive(key) {\n",
              "          const element = document.querySelector('#df-d5190e75-179f-422d-95aa-03d46559851c');\n",
              "          const dataTable =\n",
              "            await google.colab.kernel.invokeFunction('convertToInteractive',\n",
              "                                                     [key], {});\n",
              "          if (!dataTable) return;\n",
              "\n",
              "          const docLinkHtml = 'Like what you see? Visit the ' +\n",
              "            '<a target=\"_blank\" href=https://colab.research.google.com/notebooks/data_table.ipynb>data table notebook</a>'\n",
              "            + ' to learn more about interactive tables.';\n",
              "          element.innerHTML = '';\n",
              "          dataTable['output_type'] = 'display_data';\n",
              "          await google.colab.output.renderOutput(dataTable, element);\n",
              "          const docLink = document.createElement('div');\n",
              "          docLink.innerHTML = docLinkHtml;\n",
              "          element.appendChild(docLink);\n",
              "        }\n",
              "      </script>\n",
              "    </div>\n",
              "  </div>\n",
              "  "
            ]
          },
          "metadata": {},
          "execution_count": 10
        }
      ]
    },
    {
      "cell_type": "code",
      "source": [
        "print(df.columns) #Show data column names"
      ],
      "metadata": {
        "colab": {
          "base_uri": "https://localhost:8080/"
        },
        "id": "z0uHeUlvphjv",
        "outputId": "4a1aa4f0-de0f-4e22-e48f-fa8492ba5094"
      },
      "execution_count": 11,
      "outputs": [
        {
          "output_type": "stream",
          "name": "stdout",
          "text": [
            "Index(['NUMBER_LINES', 'CUSTOMER_TYPE', 'CUSTOMER_SUB_SEGMENT',\n",
            "       'ACTIVATED_CL'],\n",
            "      dtype='object')\n"
          ]
        }
      ]
    },
    {
      "cell_type": "code",
      "source": [
        "df.dtypes"
      ],
      "metadata": {
        "colab": {
          "base_uri": "https://localhost:8080/"
        },
        "id": "0TIdW0mM0-QF",
        "outputId": "4c398282-b321-44b4-cb6a-3b78710081e9"
      },
      "execution_count": 12,
      "outputs": [
        {
          "output_type": "execute_result",
          "data": {
            "text/plain": [
              "NUMBER_LINES             int64\n",
              "CUSTOMER_TYPE           object\n",
              "CUSTOMER_SUB_SEGMENT    object\n",
              "ACTIVATED_CL             int64\n",
              "dtype: object"
            ]
          },
          "metadata": {},
          "execution_count": 12
        }
      ]
    },
    {
      "cell_type": "code",
      "source": [
        "# max value in NUMBER_LINES\n",
        "MAX_NUMBER_LINES = df['NUMBER_LINES'].max()\n",
        "print(f'MAX_NUMBER_LINES={MAX_NUMBER_LINES}')"
      ],
      "metadata": {
        "colab": {
          "base_uri": "https://localhost:8080/"
        },
        "id": "AJ-JkKtOkSGu",
        "outputId": "c7a1e759-daad-4926-9996-9f823b17cafb"
      },
      "execution_count": 13,
      "outputs": [
        {
          "output_type": "stream",
          "name": "stdout",
          "text": [
            "MAX_NUMBER_LINES=300\n"
          ]
        }
      ]
    },
    {
      "cell_type": "markdown",
      "source": [
        "## Data Frame transformation"
      ],
      "metadata": {
        "id": "Z2U8U2KQDOIk"
      }
    },
    {
      "cell_type": "code",
      "source": [
        "# Customizing column numbers: for not depending on the order of the columns in the table\n",
        "COL_NUMBER_LINES         = df.columns.get_loc('NUMBER_LINES')\n",
        "COL_CUSTOMER_TYPE        = df.columns.get_loc('CUSTOMER_TYPE')\n",
        "COL_CUSTOMER_SUB_SEGMENT = df.columns.get_loc('CUSTOMER_SUB_SEGMENT')\n",
        "COL_ACTIVATED_CL         = df.columns.get_loc('ACTIVATED_CL')"
      ],
      "metadata": {
        "id": "lGOMkoWzY1pM"
      },
      "execution_count": 14,
      "outputs": []
    },
    {
      "cell_type": "markdown",
      "source": [
        "#### Categorization of enumerated types"
      ],
      "metadata": {
        "id": "JFKqP-1PH9ly"
      }
    },
    {
      "cell_type": "code",
      "source": [
        "# CUSTOMER_TYPE Classes\n",
        "CUSTOMER_TYPE_class = [0, \n",
        "                    {'Business Customer Account\t'   : 0,\n",
        "                     'Residential Customer Account' : 1\n",
        "                    }]\n",
        "# CUSTOMER_SUB_SEGMENT Classes\n",
        "CUSTOMER_SUB_SEGMENT_class = [0, \n",
        "              {'Fixed & Mobile Expat' : 0,\n",
        "               'Mobile Expat'         : 1,\n",
        "               'Fixed Expat'          : 2,\n",
        "               'Fixed & Mobile UAE'   : 3,\n",
        "               'Mobile UAE'           : 4,\n",
        "               'Fixed UAE'            : 5\n",
        "                             }]"
      ],
      "metadata": {
        "id": "Dn7vQ8jwDS18"
      },
      "execution_count": 15,
      "outputs": []
    },
    {
      "cell_type": "code",
      "source": [
        "# Calculating counters for the splitted data\n",
        "for class_desc in [CUSTOMER_TYPE_class,\n",
        "                   CUSTOMER_SUB_SEGMENT_class]:\n",
        "    if isinstance(class_desc[1], list):\n",
        "        class_desc[0] = len(class_desc[1]) + 1\n",
        "    else:\n",
        "        class_desc[0] = max(class_desc[1].values()) + 1"
      ],
      "metadata": {
        "id": "GvBmaYtfFem3"
      },
      "execution_count": 16,
      "outputs": []
    },
    {
      "cell_type": "code",
      "source": [
        "CUSTOMER_SUB_SEGMENT_class"
      ],
      "metadata": {
        "colab": {
          "base_uri": "https://localhost:8080/"
        },
        "id": "ZLdxu_WlFxj0",
        "outputId": "84cc1561-be1f-4c8f-981a-84449583728e"
      },
      "execution_count": 17,
      "outputs": [
        {
          "output_type": "execute_result",
          "data": {
            "text/plain": [
              "[6,\n",
              " {'Fixed & Mobile Expat': 0,\n",
              "  'Mobile Expat': 1,\n",
              "  'Fixed Expat': 2,\n",
              "  'Fixed & Mobile UAE': 3,\n",
              "  'Mobile UAE': 4,\n",
              "  'Fixed UAE': 5}]"
            ]
          },
          "metadata": {},
          "execution_count": 17
        }
      ]
    },
    {
      "cell_type": "code",
      "source": [
        "# General function to convert string to multi-vector\n",
        "def str_to_multi(arg, class_dict):\n",
        "    # Определение размерности выходного вектора\n",
        "    num_classes = class_dict[0]\n",
        "\n",
        "    # Создание нулевого вектора\n",
        "    result = np.zeros(num_classes)\n",
        "    \n",
        "    # Поиск значения в словаре и, если найдено,\n",
        "    # выставление 1. на нужной позиции\n",
        "    for value, cls in class_dict[1].items():\n",
        "      # print(f'value={value} cls={cls}')\n",
        "      if value == arg:\n",
        "          result[cls] = 1.\n",
        "\n",
        "    return result\n",
        "\n",
        "def extract_CUSTOMER_SUB_SEGMENT_to_multi(arg):\n",
        "  return str_to_multi(arg, CUSTOMER_SUB_SEGMENT_class)\n",
        "\n",
        "def extract_CUSTOMER_TYPE_to_multi(arg):\n",
        "  return str_to_multi(arg, CUSTOMER_TYPE_class)"
      ],
      "metadata": {
        "id": "wF9FC3oiGmy3"
      },
      "execution_count": 18,
      "outputs": []
    },
    {
      "cell_type": "markdown",
      "source": [
        "#### Now enumerated types looks like these:"
      ],
      "metadata": {
        "id": "eJ0HTE8-IjRi"
      }
    },
    {
      "cell_type": "code",
      "source": [
        "CUSTOMER_SS = 'Fixed & Mobile UAE'\n",
        "extract_CUSTOMER_SUB_SEGMENT_to_multi(CUSTOMER_SS)"
      ],
      "metadata": {
        "colab": {
          "base_uri": "https://localhost:8080/"
        },
        "id": "GU4hxd3qHYNO",
        "outputId": "0e2b9a66-53da-46b4-8828-be7dfc22706e"
      },
      "execution_count": 19,
      "outputs": [
        {
          "output_type": "execute_result",
          "data": {
            "text/plain": [
              "array([0., 0., 0., 1., 0., 0.])"
            ]
          },
          "metadata": {},
          "execution_count": 19
        }
      ]
    },
    {
      "cell_type": "code",
      "source": [
        "CUSTOMER_TYPE = 'Residential Customer Account'\n",
        "extract_CUSTOMER_TYPE_to_multi(CUSTOMER_TYPE)"
      ],
      "metadata": {
        "colab": {
          "base_uri": "https://localhost:8080/"
        },
        "id": "ur7fOke7BxlA",
        "outputId": "75f7de0d-a222-4560-9b33-2129e008cbeb"
      },
      "execution_count": 20,
      "outputs": [
        {
          "output_type": "execute_result",
          "data": {
            "text/plain": [
              "array([0., 1.])"
            ]
          },
          "metadata": {},
          "execution_count": 20
        }
      ]
    },
    {
      "cell_type": "markdown",
      "source": [
        "#### Numerical data scaling"
      ],
      "metadata": {
        "id": "Liy7QHKMI1aU"
      }
    },
    {
      "cell_type": "code",
      "source": [
        "def extract_NUMBER_LINES_Category(arg, MAX_NUMBER_LINES):\n",
        "  NUMBER_LINES = utils.to_categorical(arg, MAX_NUMBER_LINES+1) #Converting to a category\n",
        "  return NUMBER_LINES"
      ],
      "metadata": {
        "id": "Wc49YGTtpte8"
      },
      "execution_count": 21,
      "outputs": []
    },
    {
      "cell_type": "code",
      "source": [
        "# Example\n",
        "extract_NUMBER_LINES_Category(5,MAX_NUMBER_LINES)"
      ],
      "metadata": {
        "colab": {
          "base_uri": "https://localhost:8080/"
        },
        "id": "vR5x5nhGRQDU",
        "outputId": "abd87e01-1c0e-4864-9b1b-bc320023f3b3"
      },
      "execution_count": 38,
      "outputs": [
        {
          "output_type": "execute_result",
          "data": {
            "text/plain": [
              "array([0., 0., 0., 0., 0., 1., 0., 0., 0., 0., 0., 0., 0., 0., 0., 0., 0.,\n",
              "       0., 0., 0., 0., 0., 0., 0., 0., 0., 0., 0., 0., 0., 0., 0., 0., 0.,\n",
              "       0., 0., 0., 0., 0., 0., 0., 0., 0., 0., 0., 0., 0., 0., 0., 0., 0.,\n",
              "       0., 0., 0., 0., 0., 0., 0., 0., 0., 0., 0., 0., 0., 0., 0., 0., 0.,\n",
              "       0., 0., 0., 0., 0., 0., 0., 0., 0., 0., 0., 0., 0., 0., 0., 0., 0.,\n",
              "       0., 0., 0., 0., 0., 0., 0., 0., 0., 0., 0., 0., 0., 0., 0., 0., 0.,\n",
              "       0., 0., 0., 0., 0., 0., 0., 0., 0., 0., 0., 0., 0., 0., 0., 0., 0.,\n",
              "       0., 0., 0., 0., 0., 0., 0., 0., 0., 0., 0., 0., 0., 0., 0., 0., 0.,\n",
              "       0., 0., 0., 0., 0., 0., 0., 0., 0., 0., 0., 0., 0., 0., 0., 0., 0.,\n",
              "       0., 0., 0., 0., 0., 0., 0., 0., 0., 0., 0., 0., 0., 0., 0., 0., 0.,\n",
              "       0., 0., 0., 0., 0., 0., 0., 0., 0., 0., 0., 0., 0., 0., 0., 0., 0.,\n",
              "       0., 0., 0., 0., 0., 0., 0., 0., 0., 0., 0., 0., 0., 0., 0., 0., 0.,\n",
              "       0., 0., 0., 0., 0., 0., 0., 0., 0., 0., 0., 0., 0., 0., 0., 0., 0.,\n",
              "       0., 0., 0., 0., 0., 0., 0., 0., 0., 0., 0., 0., 0., 0., 0., 0., 0.,\n",
              "       0., 0., 0., 0., 0., 0., 0., 0., 0., 0., 0., 0., 0., 0., 0., 0., 0.,\n",
              "       0., 0., 0., 0., 0., 0., 0., 0., 0., 0., 0., 0., 0., 0., 0., 0., 0.,\n",
              "       0., 0., 0., 0., 0., 0., 0., 0., 0., 0., 0., 0., 0., 0., 0., 0., 0.,\n",
              "       0., 0., 0., 0., 0., 0., 0., 0., 0., 0., 0., 0.], dtype=float32)"
            ]
          },
          "metadata": {},
          "execution_count": 38
        }
      ]
    },
    {
      "cell_type": "markdown",
      "source": [
        "#### Creating train data"
      ],
      "metadata": {
        "id": "V7zbA5rQJdN2"
      }
    },
    {
      "cell_type": "code",
      "source": [
        "def extract_row_data(row):\n",
        "  ACTIVATED_CL = int(row[COL_ACTIVATED_CL])\n",
        "  ACTIVATED_CL_vec = np.array([ACTIVATED_CL])\n",
        "\n",
        "  NUMBER_LINES = int(row[COL_NUMBER_LINES])\n",
        "  # NUMBER_LINES_vec = np.array([NUMBER_LINES])\n",
        "  NUMBER_LINES_vec = extract_NUMBER_LINES_Category(NUMBER_LINES, MAX_NUMBER_LINES)\n",
        "  \n",
        "  CUSTOMER_TYPE_ohe = extract_CUSTOMER_TYPE_to_multi(row[COL_CUSTOMER_TYPE])\n",
        "  CUSTOMER_SUB_SEGMENT_ohe = extract_CUSTOMER_SUB_SEGMENT_to_multi(row[COL_CUSTOMER_SUB_SEGMENT])\n",
        "\n",
        "  # Combining all input data into one common vector\n",
        "  x_data = np.hstack([NUMBER_LINES_vec, \n",
        "                      CUSTOMER_TYPE_ohe,\n",
        "                      CUSTOMER_SUB_SEGMENT_ohe])\n",
        "  return x_data, ACTIVATED_CL_vec\n",
        "\n",
        "# Creating train data\n",
        "def construct_train_data(row_list):\n",
        "    x_data = []\n",
        "    y_data = []\n",
        "    \n",
        "    for row in row_list:\n",
        "        x, y = extract_row_data(row)\n",
        "        if y[0] > 0:                      \n",
        "            x_data.append(x)\n",
        "            y_data.append(y)\n",
        "\n",
        "    return np.array(x_data), np.array(y_data)\n"
      ],
      "metadata": {
        "id": "eGZ2W7VICZiY"
      },
      "execution_count": 23,
      "outputs": []
    },
    {
      "cell_type": "code",
      "source": [
        "# Creating train data  \n",
        "x_train, y_train = construct_train_data(df.values)"
      ],
      "metadata": {
        "id": "CCrA0l3wSnwM"
      },
      "execution_count": 24,
      "outputs": []
    },
    {
      "cell_type": "markdown",
      "source": [
        "#### Data normalization"
      ],
      "metadata": {
        "id": "UDHgNlopJ44d"
      }
    },
    {
      "cell_type": "code",
      "source": [
        "# To normalize the data is using StandardScaler\n",
        "y_scaler = StandardScaler()\n",
        "y_train_scaler = y_scaler.fit_transform(y_train)"
      ],
      "metadata": {
        "id": "N4ifcNZBaYGW"
      },
      "execution_count": 25,
      "outputs": []
    },
    {
      "cell_type": "code",
      "source": [
        "# This file must be saved to restore the data to its original scale\n",
        "joblib.dump(y_scaler, 'std_scaler.bin', compress=True)"
      ],
      "metadata": {
        "colab": {
          "base_uri": "https://localhost:8080/"
        },
        "id": "6uvURbpYlkE9",
        "outputId": "a18fd558-925c-4d79-b948-b845fc6fdf9b"
      },
      "execution_count": 26,
      "outputs": [
        {
          "output_type": "execute_result",
          "data": {
            "text/plain": [
              "['std_scaler.bin']"
            ]
          },
          "metadata": {},
          "execution_count": 26
        }
      ]
    },
    {
      "cell_type": "code",
      "source": [
        "# Normalization check\n",
        "print(y_train.shape)\n",
        "print(f'Original value CL:  {y_train [1, 0]}')\n",
        "print(f'Normalized value CL: {y_train_scaler [1, 0]}')\n",
        "\n",
        "# Boundaries of unnormalized and normalized data\n",
        "print(y_train_scaler.mean(), y_train_scaler.std())\n",
        "print(y_train.mean(), y_train.std())"
      ],
      "metadata": {
        "colab": {
          "base_uri": "https://localhost:8080/"
        },
        "id": "E_tMURyZaeUe",
        "outputId": "69cdeb9a-f2cf-4f41-a803-0da63d0a5157"
      },
      "execution_count": 27,
      "outputs": [
        {
          "output_type": "stream",
          "name": "stdout",
          "text": [
            "(299957, 1)\n",
            "Original value CL:  133\n",
            "Normalized value CL: -0.8224227525747442\n",
            "-1.9329532979068392e-17 1.0\n",
            "1108.1486179685755 1185.7023834952222\n"
          ]
        }
      ]
    },
    {
      "cell_type": "code",
      "source": [
        "# Next, we use only normalized data\n",
        "y_train = y_train_scaler \n",
        "# As a result, we get the following datasets:\n",
        "print(x_train.shape) \n",
        "print(y_train.shape)\n",
        "print(type(x_train), type(y_train))\n",
        "\n",
        "# Example of processed data\n",
        "n = 0 \n",
        "print(x_train[n])\n",
        "print(y_train[n])"
      ],
      "metadata": {
        "colab": {
          "base_uri": "https://localhost:8080/"
        },
        "id": "mJodAOtxaqfB",
        "outputId": "4e5227ff-629e-4137-f6cd-44b6338e0b03"
      },
      "execution_count": 28,
      "outputs": [
        {
          "output_type": "stream",
          "name": "stdout",
          "text": [
            "(299957, 309)\n",
            "(299957, 1)\n",
            "<class 'numpy.ndarray'> <class 'numpy.ndarray'>\n",
            "[0. 0. 1. 0. 0. 0. 0. 0. 0. 0. 0. 0. 0. 0. 0. 0. 0. 0. 0. 0. 0. 0. 0. 0.\n",
            " 0. 0. 0. 0. 0. 0. 0. 0. 0. 0. 0. 0. 0. 0. 0. 0. 0. 0. 0. 0. 0. 0. 0. 0.\n",
            " 0. 0. 0. 0. 0. 0. 0. 0. 0. 0. 0. 0. 0. 0. 0. 0. 0. 0. 0. 0. 0. 0. 0. 0.\n",
            " 0. 0. 0. 0. 0. 0. 0. 0. 0. 0. 0. 0. 0. 0. 0. 0. 0. 0. 0. 0. 0. 0. 0. 0.\n",
            " 0. 0. 0. 0. 0. 0. 0. 0. 0. 0. 0. 0. 0. 0. 0. 0. 0. 0. 0. 0. 0. 0. 0. 0.\n",
            " 0. 0. 0. 0. 0. 0. 0. 0. 0. 0. 0. 0. 0. 0. 0. 0. 0. 0. 0. 0. 0. 0. 0. 0.\n",
            " 0. 0. 0. 0. 0. 0. 0. 0. 0. 0. 0. 0. 0. 0. 0. 0. 0. 0. 0. 0. 0. 0. 0. 0.\n",
            " 0. 0. 0. 0. 0. 0. 0. 0. 0. 0. 0. 0. 0. 0. 0. 0. 0. 0. 0. 0. 0. 0. 0. 0.\n",
            " 0. 0. 0. 0. 0. 0. 0. 0. 0. 0. 0. 0. 0. 0. 0. 0. 0. 0. 0. 0. 0. 0. 0. 0.\n",
            " 0. 0. 0. 0. 0. 0. 0. 0. 0. 0. 0. 0. 0. 0. 0. 0. 0. 0. 0. 0. 0. 0. 0. 0.\n",
            " 0. 0. 0. 0. 0. 0. 0. 0. 0. 0. 0. 0. 0. 0. 0. 0. 0. 0. 0. 0. 0. 0. 0. 0.\n",
            " 0. 0. 0. 0. 0. 0. 0. 0. 0. 0. 0. 0. 0. 0. 0. 0. 0. 0. 0. 0. 0. 0. 0. 0.\n",
            " 0. 0. 0. 0. 0. 0. 0. 0. 0. 0. 0. 0. 0. 0. 1. 0. 0. 1. 0. 0. 0.]\n",
            "[-0.89579698]\n"
          ]
        }
      ]
    },
    {
      "cell_type": "markdown",
      "source": [
        "## Neural Network architecture and hyperparameters"
      ],
      "metadata": {
        "id": "ZiFIyJ34iNx5"
      }
    },
    {
      "cell_type": "markdown",
      "source": [
        "### Model Creating"
      ],
      "metadata": {
        "id": "ZxmPVTeXK77y"
      }
    },
    {
      "cell_type": "code",
      "source": [
        "# The function of drawing the graph of the training history\n",
        "def plot_history(history):\n",
        "    plt.plot(history.history['mae'], \n",
        "            label='Average absolute error on the training set')\n",
        "    plt.plot(history.history['val_mae'], \n",
        "            label='Average absolute error on the validation set')\n",
        "    plt.xlabel('Age of Learning')\n",
        "    plt.ylabel('Average absolute error')\n",
        "    plt.legend()\n",
        "    plt.show()"
      ],
      "metadata": {
        "id": "N-EXLhRgiQEp"
      },
      "execution_count": 29,
      "outputs": []
    },
    {
      "cell_type": "code",
      "source": [
        "# Model building\n",
        "model = Sequential()\n",
        "model.add(BatchNormalization(input_dim=x_train.shape[1]))\n",
        "model.add(Dense(128, activation='relu'))\n",
        "model.add(Dense(1000, activation='tanh'))\n",
        "model.add(Dense(100, activation='relu'))\n",
        "model.add(Dense(1, activation='linear'))\n",
        "\n",
        "utils.plot_model(model, show_shapes=True)"
      ],
      "metadata": {
        "colab": {
          "base_uri": "https://localhost:8080/",
          "height": 644
        },
        "id": "rRKjQwVXdyI8",
        "outputId": "d3bc609d-f700-4e0e-d382-1afab6a314f5"
      },
      "execution_count": 30,
      "outputs": [
        {
          "output_type": "execute_result",
          "data": {
            "image/png": "[encoded data removed]",
            "text/plain": [
              "<IPython.core.display.Image object>"
            ]
          },
          "metadata": {},
          "execution_count": 30
        }
      ]
    },
    {
      "cell_type": "markdown",
      "source": [
        "### Model Training"
      ],
      "metadata": {
        "id": "QdDDqwjCLYs2"
      }
    },
    {
      "cell_type": "code",
      "source": [
        "model.compile(optimizer=Adam(learning_rate=1e-5), loss='mse', metrics=['mae'])\n",
        "# Model Training\n",
        "history = model.fit(x_train, \n",
        "                    y_train, \n",
        "                    epochs=50, \n",
        "                    batch_size=256,\n",
        "                    validation_split=0.15, \n",
        "                    verbose=1)\n",
        "\n",
        "plot_history(history)"
      ],
      "metadata": {
        "colab": {
          "base_uri": "https://localhost:8080/",
          "height": 1000
        },
        "id": "WmjPGS-zxcvG",
        "outputId": "4d5ca246-5d3c-4f08-cea3-015ac40a4fec"
      },
      "execution_count": 31,
      "outputs": [
        {
          "output_type": "stream",
          "name": "stdout",
          "text": [
            "Epoch 1/50\n",
            "996/996 [==============================] - 11s 5ms/step - loss: 0.2865 - mae: 0.3978 - val_loss: 0.1090 - val_mae: 0.2137\n",
            "Epoch 2/50\n",
            "996/996 [==============================] - 5s 5ms/step - loss: 0.0500 - mae: 0.1551 - val_loss: 0.0916 - val_mae: 0.1953\n",
            "Epoch 3/50\n",
            "996/996 [==============================] - 5s 5ms/step - loss: 0.0369 - mae: 0.1351 - val_loss: 0.0897 - val_mae: 0.1885\n",
            "Epoch 4/50\n",
            "996/996 [==============================] - 4s 4ms/step - loss: 0.0344 - mae: 0.1298 - val_loss: 0.0862 - val_mae: 0.1846\n",
            "Epoch 5/50\n",
            "996/996 [==============================] - 5s 5ms/step - loss: 0.0330 - mae: 0.1271 - val_loss: 0.0726 - val_mae: 0.1707\n",
            "Epoch 6/50\n",
            "996/996 [==============================] - 4s 4ms/step - loss: 0.0309 - mae: 0.1232 - val_loss: 0.0624 - val_mae: 0.1624\n",
            "Epoch 7/50\n",
            "996/996 [==============================] - 4s 4ms/step - loss: 0.0297 - mae: 0.1205 - val_loss: 0.0580 - val_mae: 0.1596\n",
            "Epoch 8/50\n",
            "996/996 [==============================] - 5s 5ms/step - loss: 0.0286 - mae: 0.1178 - val_loss: 0.0550 - val_mae: 0.1530\n",
            "Epoch 9/50\n",
            "996/996 [==============================] - 4s 4ms/step - loss: 0.0277 - mae: 0.1161 - val_loss: 0.0503 - val_mae: 0.1508\n",
            "Epoch 10/50\n",
            "996/996 [==============================] - 4s 4ms/step - loss: 0.0267 - mae: 0.1133 - val_loss: 0.0461 - val_mae: 0.1403\n",
            "Epoch 11/50\n",
            "996/996 [==============================] - 5s 5ms/step - loss: 0.0260 - mae: 0.1115 - val_loss: 0.0450 - val_mae: 0.1366\n",
            "Epoch 12/50\n",
            "996/996 [==============================] - 8s 8ms/step - loss: 0.0252 - mae: 0.1093 - val_loss: 0.0406 - val_mae: 0.1368\n",
            "Epoch 13/50\n",
            "996/996 [==============================] - 5s 5ms/step - loss: 0.0246 - mae: 0.1075 - val_loss: 0.0387 - val_mae: 0.1368\n",
            "Epoch 14/50\n",
            "996/996 [==============================] - 4s 4ms/step - loss: 0.0244 - mae: 0.1068 - val_loss: 0.0372 - val_mae: 0.1346\n",
            "Epoch 15/50\n",
            "996/996 [==============================] - 5s 5ms/step - loss: 0.0238 - mae: 0.1049 - val_loss: 0.0353 - val_mae: 0.1354\n",
            "Epoch 16/50\n",
            "996/996 [==============================] - 4s 4ms/step - loss: 0.0234 - mae: 0.1042 - val_loss: 0.0334 - val_mae: 0.1283\n",
            "Epoch 17/50\n",
            "996/996 [==============================] - 4s 4ms/step - loss: 0.0231 - mae: 0.1033 - val_loss: 0.0336 - val_mae: 0.1249\n",
            "Epoch 18/50\n",
            "996/996 [==============================] - 5s 5ms/step - loss: 0.0229 - mae: 0.1029 - val_loss: 0.0309 - val_mae: 0.1223\n",
            "Epoch 19/50\n",
            "996/996 [==============================] - 4s 4ms/step - loss: 0.0226 - mae: 0.1021 - val_loss: 0.0297 - val_mae: 0.1160\n",
            "Epoch 20/50\n",
            "996/996 [==============================] - 4s 4ms/step - loss: 0.0223 - mae: 0.1009 - val_loss: 0.0299 - val_mae: 0.1252\n",
            "Epoch 21/50\n",
            "996/996 [==============================] - 5s 5ms/step - loss: 0.0221 - mae: 0.1006 - val_loss: 0.0286 - val_mae: 0.1211\n",
            "Epoch 22/50\n",
            "996/996 [==============================] - 4s 4ms/step - loss: 0.0220 - mae: 0.1004 - val_loss: 0.0274 - val_mae: 0.1177\n",
            "Epoch 23/50\n",
            "996/996 [==============================] - 5s 5ms/step - loss: 0.0218 - mae: 0.0995 - val_loss: 0.0275 - val_mae: 0.1191\n",
            "Epoch 24/50\n",
            "996/996 [==============================] - 4s 4ms/step - loss: 0.0217 - mae: 0.0995 - val_loss: 0.0264 - val_mae: 0.1160\n",
            "Epoch 25/50\n",
            "996/996 [==============================] - 4s 4ms/step - loss: 0.0215 - mae: 0.0990 - val_loss: 0.0255 - val_mae: 0.1100\n",
            "Epoch 26/50\n",
            "996/996 [==============================] - 5s 5ms/step - loss: 0.0214 - mae: 0.0988 - val_loss: 0.0263 - val_mae: 0.1177\n",
            "Epoch 27/50\n",
            "996/996 [==============================] - 4s 4ms/step - loss: 0.0214 - mae: 0.0984 - val_loss: 0.0259 - val_mae: 0.1175\n",
            "Epoch 28/50\n",
            "996/996 [==============================] - 4s 4ms/step - loss: 0.0213 - mae: 0.0983 - val_loss: 0.0248 - val_mae: 0.1099\n",
            "Epoch 29/50\n",
            "996/996 [==============================] - 7s 7ms/step - loss: 0.0211 - mae: 0.0976 - val_loss: 0.0248 - val_mae: 0.1112\n",
            "Epoch 30/50\n",
            "996/996 [==============================] - 5s 5ms/step - loss: 0.0211 - mae: 0.0977 - val_loss: 0.0251 - val_mae: 0.1155\n",
            "Epoch 31/50\n",
            "996/996 [==============================] - 5s 5ms/step - loss: 0.0210 - mae: 0.0974 - val_loss: 0.0237 - val_mae: 0.1076\n",
            "Epoch 32/50\n",
            "996/996 [==============================] - 4s 4ms/step - loss: 0.0210 - mae: 0.0974 - val_loss: 0.0241 - val_mae: 0.1111\n",
            "Epoch 33/50\n",
            "996/996 [==============================] - 4s 4ms/step - loss: 0.0209 - mae: 0.0970 - val_loss: 0.0235 - val_mae: 0.1071\n",
            "Epoch 34/50\n",
            "996/996 [==============================] - 5s 5ms/step - loss: 0.0208 - mae: 0.0968 - val_loss: 0.0232 - val_mae: 0.1044\n",
            "Epoch 35/50\n",
            "996/996 [==============================] - 4s 4ms/step - loss: 0.0208 - mae: 0.0967 - val_loss: 0.0232 - val_mae: 0.1067\n",
            "Epoch 36/50\n",
            "996/996 [==============================] - 5s 5ms/step - loss: 0.0207 - mae: 0.0964 - val_loss: 0.0234 - val_mae: 0.1017\n",
            "Epoch 37/50\n",
            "996/996 [==============================] - 4s 4ms/step - loss: 0.0207 - mae: 0.0964 - val_loss: 0.0230 - val_mae: 0.1064\n",
            "Epoch 38/50\n",
            "996/996 [==============================] - 4s 4ms/step - loss: 0.0207 - mae: 0.0965 - val_loss: 0.0227 - val_mae: 0.1019\n",
            "Epoch 39/50\n",
            "996/996 [==============================] - 5s 5ms/step - loss: 0.0207 - mae: 0.0963 - val_loss: 0.0225 - val_mae: 0.1018\n",
            "Epoch 40/50\n",
            "996/996 [==============================] - 4s 4ms/step - loss: 0.0206 - mae: 0.0961 - val_loss: 0.0229 - val_mae: 0.1061\n",
            "Epoch 41/50\n",
            "996/996 [==============================] - 4s 4ms/step - loss: 0.0206 - mae: 0.0960 - val_loss: 0.0229 - val_mae: 0.1073\n",
            "Epoch 42/50\n",
            "996/996 [==============================] - 6s 6ms/step - loss: 0.0205 - mae: 0.0957 - val_loss: 0.0225 - val_mae: 0.1033\n",
            "Epoch 43/50\n",
            "996/996 [==============================] - 4s 4ms/step - loss: 0.0205 - mae: 0.0959 - val_loss: 0.0220 - val_mae: 0.0993\n",
            "Epoch 44/50\n",
            "996/996 [==============================] - 5s 5ms/step - loss: 0.0205 - mae: 0.0957 - val_loss: 0.0225 - val_mae: 0.1021\n",
            "Epoch 45/50\n",
            "996/996 [==============================] - 4s 4ms/step - loss: 0.0204 - mae: 0.0954 - val_loss: 0.0222 - val_mae: 0.1028\n",
            "Epoch 46/50\n",
            "996/996 [==============================] - 4s 4ms/step - loss: 0.0204 - mae: 0.0953 - val_loss: 0.0223 - val_mae: 0.1056\n",
            "Epoch 47/50\n",
            "996/996 [==============================] - 5s 5ms/step - loss: 0.0204 - mae: 0.0953 - val_loss: 0.0221 - val_mae: 0.1033\n",
            "Epoch 48/50\n",
            "996/996 [==============================] - 4s 4ms/step - loss: 0.0204 - mae: 0.0954 - val_loss: 0.0217 - val_mae: 0.0992\n",
            "Epoch 49/50\n",
            "996/996 [==============================] - 4s 4ms/step - loss: 0.0203 - mae: 0.0951 - val_loss: 0.0219 - val_mae: 0.0985\n",
            "Epoch 50/50\n",
            "996/996 [==============================] - 5s 5ms/step - loss: 0.0204 - mae: 0.0953 - val_loss: 0.0220 - val_mae: 0.0987\n"
          ]
        },
        {
          "output_type": "display_data",
          "data": {
            "text/plain": [
              "<Figure size 640x480 with 1 Axes>"
            ],
            "image/png": "[encoded data removed]"
          },
          "metadata": {}
        }
      ]
    },
    {
      "cell_type": "markdown",
      "source": [
        "### Model Prediction Estimation"
      ],
      "metadata": {
        "id": "f5UkJTa5MT66"
      }
    },
    {
      "cell_type": "code",
      "source": [
        "# Checking NN - prediction on the training set\n",
        "pred = model.predict(x_train)\n",
        "\n",
        "# Calculation of the mean error \n",
        "print(mean_absolute_error(pred, y_train)) "
      ],
      "metadata": {
        "colab": {
          "base_uri": "https://localhost:8080/"
        },
        "id": "Tr9Mf9imaKzW",
        "outputId": "e5d1666b-e815-430e-df8b-45747fba3755"
      },
      "execution_count": 32,
      "outputs": [
        {
          "output_type": "stream",
          "name": "stdout",
          "text": [
            "9374/9374 [==============================] - 16s 2ms/step\n",
            "0.09761242211735315\n"
          ]
        }
      ]
    },
    {
      "cell_type": "markdown",
      "source": [
        "### Saving the best model"
      ],
      "metadata": {
        "id": "6ylN8Od_M0jw"
      }
    },
    {
      "cell_type": "code",
      "source": [
        "# Save the model\n",
        "# Serialization to JSON\n",
        "model_json = model.to_json()\n",
        "with open(\"/content/model.json\", \"w\") as json_file:\n",
        "    json_file.write(model_json)\n",
        "# Serialization model to HDF5 format\n",
        "model.save_weights(\"/content/model.h5\")\n",
        "print(\"Model saved\")"
      ],
      "metadata": {
        "colab": {
          "base_uri": "https://localhost:8080/"
        },
        "id": "wokVXgkfSLl1",
        "outputId": "639b4fb2-cb83-4d17-9a74-a13051518032"
      },
      "execution_count": 33,
      "outputs": [
        {
          "output_type": "stream",
          "name": "stdout",
          "text": [
            "Model saved\n"
          ]
        }
      ]
    },
    {
      "cell_type": "markdown",
      "source": [
        "## Deployment and Integration"
      ],
      "metadata": {
        "id": "YxF8eIsdNH6f"
      }
    },
    {
      "cell_type": "markdown",
      "source": [
        "### Loading saved model "
      ],
      "metadata": {
        "id": "ihDtDz8oOOQh"
      }
    },
    {
      "cell_type": "code",
      "source": [
        "# Load the saved model\n",
        "json_file = open('/content/model.json','r') \n",
        "loaded_model_json = json_file.read() \n",
        "json_file.close() \n",
        "loaded_model = model_from_json(loaded_model_json) \n",
        "loaded_model.summary()\n",
        "loaded_model.load_weights(\"/content/model.h5\") \n",
        "print(\"Model loaded from disk\")"
      ],
      "metadata": {
        "colab": {
          "base_uri": "https://localhost:8080/"
        },
        "id": "6MwXp8k1TGm2",
        "outputId": "e8fa793f-9e85-45b1-81dc-4c0501816390"
      },
      "execution_count": 34,
      "outputs": [
        {
          "output_type": "stream",
          "name": "stdout",
          "text": [
            "Model: \"sequential\"\n",
            "_________________________________________________________________\n",
            " Layer (type)                Output Shape              Param #   \n",
            "=================================================================\n",
            " batch_normalization (BatchN  (None, 309)              1236      \n",
            " ormalization)                                                   \n",
            "                                                                 \n",
            " dense (Dense)               (None, 128)               39680     \n",
            "                                                                 \n",
            " dense_1 (Dense)             (None, 1000)              129000    \n",
            "                                                                 \n",
            " dense_2 (Dense)             (None, 100)               100100    \n",
            "                                                                 \n",
            " dense_3 (Dense)             (None, 1)                 101       \n",
            "                                                                 \n",
            "=================================================================\n",
            "Total params: 270,117\n",
            "Trainable params: 269,499\n",
            "Non-trainable params: 618\n",
            "_________________________________________________________________\n",
            "Model loaded from disk\n"
          ]
        }
      ]
    },
    {
      "cell_type": "markdown",
      "source": [
        "### Model validation on new data"
      ],
      "metadata": {
        "id": "qSOosLYQOSbx"
      }
    },
    {
      "cell_type": "code",
      "source": [
        "def data_preparation(NUMBER_LINES, CUSTOMER_TYPE, CUSTOMER_SUB_SEGMENT):\n",
        "  NUMBER_LINES_vec = extract_NUMBER_LINES_Category(NUMBER_LINES, MAX_NUMBER_LINES)\n",
        "  CUSTOMER_TYPE_ohe = extract_CUSTOMER_TYPE_to_multi(CUSTOMER_TYPE)\n",
        "  CUSTOMER_SUB_SEGMENT_ohe = extract_CUSTOMER_SUB_SEGMENT_to_multi(CUSTOMER_SUB_SEGMENT)\n",
        "  x_data = np.hstack([NUMBER_LINES_vec, \n",
        "                        CUSTOMER_TYPE_ohe,\n",
        "                        CUSTOMER_SUB_SEGMENT_ohe])\n",
        "  # print(type(x_data))\n",
        "  # print(x_data.shape)\n",
        "  x_data = x_data.reshape(1, x_data.shape[0])\n",
        "  # print(type(x_data))\n",
        "  # print(x_data.shape)\n",
        "  return x_data"
      ],
      "metadata": {
        "id": "bVRIYGNJAmOl"
      },
      "execution_count": 35,
      "outputs": []
    },
    {
      "cell_type": "code",
      "source": [
        "NUMBER_LINES = 10\n",
        "CUSTOMER_TYPE = 'Residential Customer Account'\n",
        "CUSTOMER_SUB_SEGMENT = 'Fixed UAE'\n",
        "\n",
        "x_data = data_preparation(NUMBER_LINES, CUSTOMER_TYPE, CUSTOMER_SUB_SEGMENT)\n",
        "pred = loaded_model.predict(x_data)             \n",
        "# print(type(pred))\n",
        "# print(pred.shape)\n",
        "pred = y_scaler.inverse_transform(pred)\n",
        "cla = int(pred[0][0])\n",
        "print (cla)"
      ],
      "metadata": {
        "colab": {
          "base_uri": "https://localhost:8080/"
        },
        "id": "DDsghMZA8JhO",
        "outputId": "0382472d-0467-4680-84f5-6efae3fef212"
      },
      "execution_count": 36,
      "outputs": [
        {
          "output_type": "stream",
          "name": "stdout",
          "text": [
            "1/1 [==============================] - 0s 133ms/step\n",
            "138\n"
          ]
        }
      ]
    },
    {
      "cell_type": "code",
      "source": [
        "NUMBER_LINES = 100\n",
        "CUSTOMER_TYPE = 'Business Customer Account'\n",
        "CUSTOMER_SUB_SEGMENT = 'Fixed UAE'\n",
        "\n",
        "x_data = data_preparation(NUMBER_LINES, CUSTOMER_TYPE, CUSTOMER_SUB_SEGMENT)\n",
        "pred = loaded_model.predict(x_data)             \n",
        "# print(type(pred))\n",
        "# print(pred.shape)\n",
        "pred = y_scaler.inverse_transform(pred)\n",
        "cla = int(pred[0][0])\n",
        "print (cla)"
      ],
      "metadata": {
        "colab": {
          "base_uri": "https://localhost:8080/"
        },
        "id": "l2MRMKFpBDp6",
        "outputId": "cbabd77d-5cea-47de-c564-c8862820d0eb"
      },
      "execution_count": 37,
      "outputs": [
        {
          "output_type": "stream",
          "name": "stdout",
          "text": [
            "1/1 [==============================] - 0s 29ms/step\n",
            "1598\n"
          ]
        }
      ]
    }
  ]
}