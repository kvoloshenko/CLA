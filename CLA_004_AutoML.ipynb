{
 "cells": [
  {
   "cell_type": "markdown",
   "metadata": {
    "id": "N-BcZXaGEyNl"
   },
   "source": [
    "# Credit Limit Assessment (CLA)"
   ]
  },
  {
   "cell_type": "code",
   "execution_count": 1,
   "metadata": {
    "colab": {
     "base_uri": "https://localhost:8080/"
    },
    "id": "mAy8DLNL_Rpp",
    "outputId": "03c162e5-e64d-4772-80c1-6b7bdcda66ac"
   },
   "outputs": [],
   "source": [
    "#!pip install autokeras"
   ]
  },
  {
   "cell_type": "code",
   "execution_count": 2,
   "metadata": {
    "id": "yqXJ_ksHHu2d"
   },
   "outputs": [],
   "source": [
    "import tensorflow as tf\n",
    "keras = tf.keras\n",
    "import os\n",
    "import random\n",
    "from random import randrange\n",
    "from datetime import datetime\n",
    "from datetime import timedelta\n",
    "# Работа с массивами данных\n",
    "import numpy as np \n",
    "# Работа с табличными данными\n",
    "import pandas as pd\n",
    "# Отрисовка графиков\n",
    "import matplotlib.pyplot as plt\n",
    "# Функции-утилиты для работы с категориальными данными\n",
    "from tensorflow.keras import utils\n",
    "# Класс для конструирования последовательной модели нейронной сети\n",
    "from tensorflow.keras.models import Sequential, Model\n",
    "\n",
    "# Основные слои\n",
    "from tensorflow.keras.layers import Dense, Dropout, SpatialDropout1D, BatchNormalization, Embedding, Flatten, Activation, Input, concatenate\n",
    "from tensorflow.keras.layers import SimpleRNN, GRU, LSTM, Bidirectional, Conv1D, MaxPooling1D, GlobalMaxPooling1D\n",
    "\n",
    "# Оптимизаторы\n",
    "from tensorflow.keras.optimizers import Adam, Adadelta, SGD, Adagrad, RMSprop\n",
    "\n",
    "# Токенизатор для преобразование текстов в последовательности\n",
    "from tensorflow.keras.preprocessing.text import Tokenizer\n",
    "\n",
    "# Масштабирование данных\n",
    "from sklearn.preprocessing import StandardScaler\n",
    "import joblib\n",
    "\n",
    "# Метрики для расчета ошибок\n",
    "from sklearn.metrics import mean_squared_error, mean_absolute_error\n",
    "\n",
    "#from tensorflow.keras.callbacks import  ReduceLROnPlateau,  EarlyStopping, ModelCheckpoint \n",
    "\n",
    "from tensorflow.keras.models import model_from_json\n",
    "\n",
    "#from autokeras import StructuredDataRegressor\n",
    "import autokeras as ak"
   ]
  },
  {
   "cell_type": "code",
   "execution_count": 3,
   "metadata": {},
   "outputs": [
    {
     "name": "stdout",
     "output_type": "stream",
     "text": [
      "<class 'list'> gpus =[PhysicalDevice(name='/physical_device:GPU:0', device_type='GPU')]\n",
      "<class 'tensorflow.python.eager.context.PhysicalDevice'> gpu =PhysicalDevice(name='/physical_device:GPU:0', device_type='GPU')\n"
     ]
    }
   ],
   "source": [
    "# Avoid OOM errors by setting GPU Memory Consumption Growth\n",
    "gpus = tf.config.experimental.list_physical_devices('GPU')\n",
    "print (type(gpus), f'gpus ={gpus}')\n",
    "for gpu in gpus:\n",
    "    tf.config.experimental.set_memory_growth(gpu, True)\n",
    "    print (type(gpu), f'gpu ={gpu}')"
   ]
  },
  {
   "cell_type": "markdown",
   "metadata": {
    "id": "yZGNUkfiHEtM"
   },
   "source": [
    "## Data Simulation Functions"
   ]
  },
  {
   "cell_type": "code",
   "execution_count": 4,
   "metadata": {
    "id": "eerBaurXo5eg"
   },
   "outputs": [],
   "source": [
    "def DS_ACTIVATED_CL(CUSTOMER_TYPE, CUSTOMER_SUB_SEGMENT, NUMBER_LINES):\n",
    "  NUMBER_LINES = int (NUMBER_LINES)\n",
    "  if CUSTOMER_TYPE == 'Business Customer Account':\n",
    "    max = 1000\n",
    "  else:\n",
    "    max = 100\n",
    "\n",
    "  if CUSTOMER_SUB_SEGMENT == 'Fixed & Mobile UAE':\n",
    "    min = max // 2\n",
    "  elif CUSTOMER_SUB_SEGMENT == 'Mobile UAE':\n",
    "    min = max // 3\n",
    "  elif CUSTOMER_SUB_SEGMENT == 'Fixed UAE':\n",
    "    min = max // 4\n",
    "  elif CUSTOMER_SUB_SEGMENT == 'Fixed & Mobile Expat':\n",
    "    min = max // 5 \n",
    "  else:\n",
    "    min = 0\n",
    "  cl = random.randint(min, max) + NUMBER_LINES * 10\n",
    "  return str(cl)\n"
   ]
  },
  {
   "cell_type": "code",
   "execution_count": 5,
   "metadata": {
    "id": "ZIIpygwj_Hhu"
   },
   "outputs": [],
   "source": [
    "def DS_NUMBER_LINES(CUSTOMER_TYPE):\n",
    "  if CUSTOMER_TYPE == 'Business Customer Account':\n",
    "    max = 300\n",
    "  else:\n",
    "    max = 10\n",
    "  min = 0\n",
    "  n_lines = random.randint(min, max)\n",
    "  return str(n_lines)  \n"
   ]
  },
  {
   "cell_type": "code",
   "execution_count": 6,
   "metadata": {
    "id": "7biXdlMcvRpK"
   },
   "outputs": [],
   "source": [
    "def DS_CUSTOMER_TYPE():\n",
    "  DS_LIST = ['Residential Customer Account', 'Business Customer Account']\n",
    "  return random.sample(DS_LIST, 1)[0]\n",
    "# DS_CUSTOMER_TYPE()"
   ]
  },
  {
   "cell_type": "code",
   "execution_count": 7,
   "metadata": {
    "id": "ieeKp9Qc4EDT"
   },
   "outputs": [],
   "source": [
    "def DS_CUSTOMER_SUB_SEGMENT():\n",
    "  DS_LIST = ['Fixed & Mobile Expat', 'Mobile Expat', 'Fixed Expat', 'Fixed & Mobile UAE', 'Mobile UAE', 'Fixed UAE']\n",
    "  return random.sample(DS_LIST, 1)[0]\n",
    "# DS_CUSTOMER_SUB_SEGMENT()"
   ]
  },
  {
   "cell_type": "code",
   "execution_count": 8,
   "metadata": {
    "id": "l3Bfgh5EhtRf"
   },
   "outputs": [],
   "source": [
    "def head_line():\n",
    "  return 'NUMBER_LINES,CUSTOMER_TYPE,CUSTOMER_SUB_SEGMENT,ACTIVATED_CL'"
   ]
  },
  {
   "cell_type": "code",
   "execution_count": 9,
   "metadata": {
    "id": "NZmXr_rcivrp"
   },
   "outputs": [],
   "source": [
    "def df_lines(num_lines):\n",
    "  myfile = open('CLA_001.csv', 'w')\n",
    "  df_str = '' + head_line() + '\\n'\n",
    "  myfile.writelines(df_str)\n",
    "  for _ in range(num_lines):\n",
    "    CUSTOMER_TYPE = DS_CUSTOMER_TYPE()\n",
    "    CUSTOMER_SUB_SEGMENT = DS_CUSTOMER_SUB_SEGMENT()\n",
    "    NUMBER_LINES = DS_NUMBER_LINES(CUSTOMER_TYPE)\n",
    "    ACTIVATED_CL = DS_ACTIVATED_CL(CUSTOMER_TYPE, CUSTOMER_SUB_SEGMENT, NUMBER_LINES)\n",
    "\n",
    "    df_str = '' + NUMBER_LINES \\\n",
    "      + ',' + CUSTOMER_TYPE \\\n",
    "      + ',' + CUSTOMER_SUB_SEGMENT \\\n",
    "      + ',' + ACTIVATED_CL \\\n",
    "      + '\\n'\n",
    "    myfile.writelines(df_str)\n",
    "  myfile.close()"
   ]
  },
  {
   "cell_type": "markdown",
   "metadata": {
    "id": "chGsEBFtR7lp"
   },
   "source": [
    "## DF Simulation"
   ]
  },
  {
   "cell_type": "code",
   "execution_count": 10,
   "metadata": {
    "id": "pZw_VR9SSAQM"
   },
   "outputs": [],
   "source": [
    "# df_str = df_lines(300000)\n",
    "df_str = df_lines(1000)"
   ]
  },
  {
   "cell_type": "markdown",
   "metadata": {
    "id": "ca07GyexoanX"
   },
   "source": [
    "## DF"
   ]
  },
  {
   "cell_type": "code",
   "execution_count": 11,
   "metadata": {
    "colab": {
     "base_uri": "https://localhost:8080/"
    },
    "id": "Mecq1VFmodZf",
    "outputId": "46f475c4-7628-4c1e-e502-e701aed8b9b5"
   },
   "outputs": [
    {
     "name": "stdout",
     "output_type": "stream",
     "text": [
      "(1000, 4)\n"
     ]
    }
   ],
   "source": [
    "df = pd.read_csv('CLA_001.csv')# Это то, куда вы скачали файл\n",
    "# Количество и критерии\n",
    "print(df.shape)"
   ]
  },
  {
   "cell_type": "code",
   "execution_count": 12,
   "metadata": {
    "colab": {
     "base_uri": "https://localhost:8080/",
     "height": 206
    },
    "id": "G7tSLieJpHdR",
    "outputId": "584bf01c-beb0-43bf-db07-5811404c9bef"
   },
   "outputs": [
    {
     "data": {
      "text/html": [
       "<div>\n",
       "<style scoped>\n",
       "    .dataframe tbody tr th:only-of-type {\n",
       "        vertical-align: middle;\n",
       "    }\n",
       "\n",
       "    .dataframe tbody tr th {\n",
       "        vertical-align: top;\n",
       "    }\n",
       "\n",
       "    .dataframe thead th {\n",
       "        text-align: right;\n",
       "    }\n",
       "</style>\n",
       "<table border=\"1\" class=\"dataframe\">\n",
       "  <thead>\n",
       "    <tr style=\"text-align: right;\">\n",
       "      <th></th>\n",
       "      <th>NUMBER_LINES</th>\n",
       "      <th>CUSTOMER_TYPE</th>\n",
       "      <th>CUSTOMER_SUB_SEGMENT</th>\n",
       "      <th>ACTIVATED_CL</th>\n",
       "    </tr>\n",
       "  </thead>\n",
       "  <tbody>\n",
       "    <tr>\n",
       "      <th>0</th>\n",
       "      <td>4</td>\n",
       "      <td>Residential Customer Account</td>\n",
       "      <td>Mobile Expat</td>\n",
       "      <td>58</td>\n",
       "    </tr>\n",
       "    <tr>\n",
       "      <th>1</th>\n",
       "      <td>3</td>\n",
       "      <td>Residential Customer Account</td>\n",
       "      <td>Fixed &amp; Mobile UAE</td>\n",
       "      <td>98</td>\n",
       "    </tr>\n",
       "    <tr>\n",
       "      <th>2</th>\n",
       "      <td>217</td>\n",
       "      <td>Business Customer Account</td>\n",
       "      <td>Fixed &amp; Mobile Expat</td>\n",
       "      <td>3026</td>\n",
       "    </tr>\n",
       "    <tr>\n",
       "      <th>3</th>\n",
       "      <td>153</td>\n",
       "      <td>Business Customer Account</td>\n",
       "      <td>Fixed Expat</td>\n",
       "      <td>2207</td>\n",
       "    </tr>\n",
       "    <tr>\n",
       "      <th>4</th>\n",
       "      <td>236</td>\n",
       "      <td>Business Customer Account</td>\n",
       "      <td>Mobile UAE</td>\n",
       "      <td>2965</td>\n",
       "    </tr>\n",
       "  </tbody>\n",
       "</table>\n",
       "</div>"
      ],
      "text/plain": [
       "   NUMBER_LINES                 CUSTOMER_TYPE  CUSTOMER_SUB_SEGMENT  \\\n",
       "0             4  Residential Customer Account          Mobile Expat   \n",
       "1             3  Residential Customer Account    Fixed & Mobile UAE   \n",
       "2           217     Business Customer Account  Fixed & Mobile Expat   \n",
       "3           153     Business Customer Account           Fixed Expat   \n",
       "4           236     Business Customer Account            Mobile UAE   \n",
       "\n",
       "   ACTIVATED_CL  \n",
       "0            58  \n",
       "1            98  \n",
       "2          3026  \n",
       "3          2207  \n",
       "4          2965  "
      ]
     },
     "execution_count": 12,
     "metadata": {},
     "output_type": "execute_result"
    }
   ],
   "source": [
    "df.head()"
   ]
  },
  {
   "cell_type": "code",
   "execution_count": 13,
   "metadata": {
    "colab": {
     "base_uri": "https://localhost:8080/"
    },
    "id": "z0uHeUlvphjv",
    "outputId": "90784760-037a-4a67-ba8d-6527c65d6d6d"
   },
   "outputs": [
    {
     "name": "stdout",
     "output_type": "stream",
     "text": [
      "Index(['NUMBER_LINES', 'CUSTOMER_TYPE', 'CUSTOMER_SUB_SEGMENT',\n",
      "       'ACTIVATED_CL'],\n",
      "      dtype='object')\n"
     ]
    }
   ],
   "source": [
    "print(df.columns) #Показываем имена колонок данных"
   ]
  },
  {
   "cell_type": "code",
   "execution_count": 14,
   "metadata": {
    "colab": {
     "base_uri": "https://localhost:8080/"
    },
    "id": "0TIdW0mM0-QF",
    "outputId": "6fce759a-d99a-40ad-c513-18e896f231bc"
   },
   "outputs": [
    {
     "data": {
      "text/plain": [
       "NUMBER_LINES             int64\n",
       "CUSTOMER_TYPE           object\n",
       "CUSTOMER_SUB_SEGMENT    object\n",
       "ACTIVATED_CL             int64\n",
       "dtype: object"
      ]
     },
     "execution_count": 14,
     "metadata": {},
     "output_type": "execute_result"
    }
   ],
   "source": [
    "df.dtypes"
   ]
  },
  {
   "cell_type": "code",
   "execution_count": 15,
   "metadata": {
    "colab": {
     "base_uri": "https://localhost:8080/"
    },
    "id": "AJ-JkKtOkSGu",
    "outputId": "f456db5e-78b1-48a0-eb4f-3b30be37fe6e"
   },
   "outputs": [
    {
     "name": "stdout",
     "output_type": "stream",
     "text": [
      "MAX_NUMBER_LINES=300\n"
     ]
    }
   ],
   "source": [
    "# max value in NUMBER_LINES\n",
    "MAX_NUMBER_LINES = df['NUMBER_LINES'].max()\n",
    "print(f'MAX_NUMBER_LINES={MAX_NUMBER_LINES}')"
   ]
  },
  {
   "cell_type": "markdown",
   "metadata": {
    "id": "Z2U8U2KQDOIk"
   },
   "source": [
    "## Преобразование DF"
   ]
  },
  {
   "cell_type": "code",
   "execution_count": 16,
   "metadata": {
    "id": "lGOMkoWzY1pM"
   },
   "outputs": [],
   "source": [
    "# Настройка номеров столбцов\n",
    "# Дальнейшие вычисления не будут зависеть от порядка столбцов в таблице\n",
    "\n",
    "COL_NUMBER_LINES         = df.columns.get_loc('NUMBER_LINES')\n",
    "COL_CUSTOMER_TYPE        = df.columns.get_loc('CUSTOMER_TYPE')\n",
    "COL_CUSTOMER_SUB_SEGMENT = df.columns.get_loc('CUSTOMER_SUB_SEGMENT')\n",
    "COL_ACTIVATED_CL         = df.columns.get_loc('ACTIVATED_CL')"
   ]
  },
  {
   "cell_type": "code",
   "execution_count": 17,
   "metadata": {
    "id": "Dn7vQ8jwDS18"
   },
   "outputs": [],
   "source": [
    "# Классы CUSTOMER_TYPE\n",
    "CUSTOMER_TYPE_class = [0, \n",
    "                    {'Business Customer Account\t'   : 0,\n",
    "                     'Residential Customer Account' : 1\n",
    "                    }]\n",
    "# Классы CUSTOMER_SUB_SEGMENT\n",
    "CUSTOMER_SUB_SEGMENT_class = [0, \n",
    "              {'Fixed & Mobile Expat' : 0,\n",
    "               'Mobile Expat'         : 1,\n",
    "               'Fixed Expat'          : 2,\n",
    "               'Fixed & Mobile UAE'   : 3,\n",
    "               'Mobile UAE'           : 4,\n",
    "               'Fixed UAE'            : 5\n",
    "                             }]"
   ]
  },
  {
   "cell_type": "code",
   "execution_count": 18,
   "metadata": {
    "id": "GvBmaYtfFem3"
   },
   "outputs": [],
   "source": [
    "# Вычисление счетчиков для данных разбиения\n",
    "for class_desc in [CUSTOMER_TYPE_class,\n",
    "                   CUSTOMER_SUB_SEGMENT_class]:\n",
    "    if isinstance(class_desc[1], list):\n",
    "        class_desc[0] = len(class_desc[1]) + 1\n",
    "    else:\n",
    "        class_desc[0] = max(class_desc[1].values()) + 1"
   ]
  },
  {
   "cell_type": "code",
   "execution_count": 19,
   "metadata": {
    "colab": {
     "base_uri": "https://localhost:8080/"
    },
    "id": "ZLdxu_WlFxj0",
    "outputId": "62145497-d1f6-423c-e2f0-c19204a5d58e"
   },
   "outputs": [
    {
     "data": {
      "text/plain": [
       "[6,\n",
       " {'Fixed & Mobile Expat': 0,\n",
       "  'Mobile Expat': 1,\n",
       "  'Fixed Expat': 2,\n",
       "  'Fixed & Mobile UAE': 3,\n",
       "  'Mobile UAE': 4,\n",
       "  'Fixed UAE': 5}]"
      ]
     },
     "execution_count": 19,
     "metadata": {},
     "output_type": "execute_result"
    }
   ],
   "source": [
    "CUSTOMER_SUB_SEGMENT_class"
   ]
  },
  {
   "cell_type": "code",
   "execution_count": 20,
   "metadata": {
    "id": "wF9FC3oiGmy3"
   },
   "outputs": [],
   "source": [
    "# Общая функция преобразования строки к multi-вектору\n",
    "# На входе данные и словарь сопоставления подстрок классам\n",
    "\n",
    "def str_to_multi(arg, class_dict):\n",
    "    # Определение размерности выходного вектора\n",
    "    num_classes = class_dict[0]\n",
    "\n",
    "    # Создание нулевого вектора\n",
    "    result = np.zeros(num_classes)\n",
    "    \n",
    "    # Поиск значения в словаре и, если найдено,\n",
    "    # выставление 1. на нужной позиции\n",
    "    for value, cls in class_dict[1].items():\n",
    "      # print(f'value={value} cls={cls}')\n",
    "      if value == arg:\n",
    "          result[cls] = 1.\n",
    "\n",
    "    return result\n",
    "\n",
    "def extract_CUSTOMER_SUB_SEGMENT_to_multi(arg):\n",
    "  return str_to_multi(arg, CUSTOMER_SUB_SEGMENT_class)\n",
    "\n",
    "def extract_CUSTOMER_TYPE_to_multi(arg):\n",
    "  return str_to_multi(arg, CUSTOMER_TYPE_class)"
   ]
  },
  {
   "cell_type": "code",
   "execution_count": 21,
   "metadata": {
    "colab": {
     "base_uri": "https://localhost:8080/"
    },
    "id": "GU4hxd3qHYNO",
    "outputId": "c9753785-ddd1-465b-9f73-62e750defe41"
   },
   "outputs": [
    {
     "data": {
      "text/plain": [
       "array([0., 0., 0., 1., 0., 0.])"
      ]
     },
     "execution_count": 21,
     "metadata": {},
     "output_type": "execute_result"
    }
   ],
   "source": [
    "CUSTOMER_SS = 'Fixed & Mobile UAE'\n",
    "extract_CUSTOMER_SUB_SEGMENT_to_multi(CUSTOMER_SS)"
   ]
  },
  {
   "cell_type": "code",
   "execution_count": 22,
   "metadata": {
    "colab": {
     "base_uri": "https://localhost:8080/"
    },
    "id": "ur7fOke7BxlA",
    "outputId": "fe3e76bc-033e-4108-bd78-2cb0bfe3632c"
   },
   "outputs": [
    {
     "data": {
      "text/plain": [
       "array([0., 1.])"
      ]
     },
     "execution_count": 22,
     "metadata": {},
     "output_type": "execute_result"
    }
   ],
   "source": [
    "CUSTOMER_TYPE = 'Residential Customer Account'\n",
    "extract_CUSTOMER_TYPE_to_multi(CUSTOMER_TYPE)"
   ]
  },
  {
   "cell_type": "code",
   "execution_count": 23,
   "metadata": {
    "id": "Wc49YGTtpte8"
   },
   "outputs": [],
   "source": [
    "def extract_NUMBER_LINES_Category(arg, MAX_NUMBER_LINES):\n",
    "  NUMBER_LINES = utils.to_categorical(arg, MAX_NUMBER_LINES+1) #Превращаем в категорию\n",
    "  return NUMBER_LINES"
   ]
  },
  {
   "cell_type": "code",
   "execution_count": 24,
   "metadata": {
    "colab": {
     "base_uri": "https://localhost:8080/"
    },
    "id": "vR5x5nhGRQDU",
    "outputId": "ce553125-44d5-4122-d7de-1d3927cce45e"
   },
   "outputs": [
    {
     "data": {
      "text/plain": [
       "array([0., 0., 0., 0., 0., 0., 0., 0., 0., 0., 0., 0., 0., 0., 0., 0., 0.,\n",
       "       0., 0., 0., 0., 0., 0., 0., 0., 0., 0., 0., 0., 0., 0., 0., 0., 0.,\n",
       "       0., 0., 0., 0., 0., 0., 0., 0., 0., 0., 0., 0., 0., 0., 0., 0., 0.,\n",
       "       0., 0., 0., 0., 0., 0., 0., 0., 0., 0., 0., 0., 0., 0., 0., 0., 0.,\n",
       "       0., 0., 0., 0., 0., 0., 0., 0., 0., 0., 0., 0., 0., 0., 0., 0., 0.,\n",
       "       0., 0., 0., 0., 0., 0., 0., 0., 0., 0., 0., 0., 0., 0., 0., 1., 0.,\n",
       "       0., 0., 0., 0., 0., 0., 0., 0., 0., 0., 0., 0., 0., 0., 0., 0., 0.,\n",
       "       0., 0., 0., 0., 0., 0., 0., 0., 0., 0., 0., 0., 0., 0., 0., 0., 0.,\n",
       "       0., 0., 0., 0., 0., 0., 0., 0., 0., 0., 0., 0., 0., 0., 0., 0., 0.,\n",
       "       0., 0., 0., 0., 0., 0., 0., 0., 0., 0., 0., 0., 0., 0., 0., 0., 0.,\n",
       "       0., 0., 0., 0., 0., 0., 0., 0., 0., 0., 0., 0., 0., 0., 0., 0., 0.,\n",
       "       0., 0., 0., 0., 0., 0., 0., 0., 0., 0., 0., 0., 0., 0., 0., 0., 0.,\n",
       "       0., 0., 0., 0., 0., 0., 0., 0., 0., 0., 0., 0., 0., 0., 0., 0., 0.,\n",
       "       0., 0., 0., 0., 0., 0., 0., 0., 0., 0., 0., 0., 0., 0., 0., 0., 0.,\n",
       "       0., 0., 0., 0., 0., 0., 0., 0., 0., 0., 0., 0., 0., 0., 0., 0., 0.,\n",
       "       0., 0., 0., 0., 0., 0., 0., 0., 0., 0., 0., 0., 0., 0., 0., 0., 0.,\n",
       "       0., 0., 0., 0., 0., 0., 0., 0., 0., 0., 0., 0., 0., 0., 0., 0., 0.,\n",
       "       0., 0., 0., 0., 0., 0., 0., 0., 0., 0., 0., 0.], dtype=float32)"
      ]
     },
     "execution_count": 24,
     "metadata": {},
     "output_type": "execute_result"
    }
   ],
   "source": [
    "# Привмер вызова \n",
    "extract_NUMBER_LINES_Category(100,MAX_NUMBER_LINES)"
   ]
  },
  {
   "cell_type": "code",
   "execution_count": 25,
   "metadata": {
    "id": "eGZ2W7VICZiY"
   },
   "outputs": [],
   "source": [
    "def extract_row_data(row):\n",
    "  ACTIVATED_CL = int(row[COL_ACTIVATED_CL])\n",
    "  ACTIVATED_CL_vec = np.array([ACTIVATED_CL])\n",
    "\n",
    "  NUMBER_LINES = int(row[COL_NUMBER_LINES])\n",
    "  # NUMBER_LINES_vec = np.array([NUMBER_LINES])\n",
    "  NUMBER_LINES_vec = extract_NUMBER_LINES_Category(NUMBER_LINES, MAX_NUMBER_LINES)\n",
    "  \n",
    "  CUSTOMER_TYPE_ohe = extract_CUSTOMER_TYPE_to_multi(row[COL_CUSTOMER_TYPE])\n",
    "  CUSTOMER_SUB_SEGMENT_ohe = extract_CUSTOMER_SUB_SEGMENT_to_multi(row[COL_CUSTOMER_SUB_SEGMENT])\n",
    "\n",
    "  # Объединение всех входных данных в один общий вектор\n",
    "  x_data = np.hstack([NUMBER_LINES_vec, \n",
    "                      CUSTOMER_TYPE_ohe,\n",
    "                      CUSTOMER_SUB_SEGMENT_ohe])\n",
    "    \n",
    "  # Возврат входных данных и выходных (зарплаты)\n",
    "  return x_data, ACTIVATED_CL_vec\n",
    "\n",
    "  # Создание общей выборки\n",
    "def construct_train_data(row_list):\n",
    "    x_data = []\n",
    "    y_data = []\n",
    "    \n",
    "    for row in row_list:\n",
    "        x, y = extract_row_data(row)\n",
    "        if y[0] > 0:                      \n",
    "            x_data.append(x)\n",
    "            y_data.append(y)\n",
    "\n",
    "    return np.array(x_data), np.array(y_data)\n"
   ]
  },
  {
   "cell_type": "code",
   "execution_count": 26,
   "metadata": {
    "id": "CCrA0l3wSnwM"
   },
   "outputs": [],
   "source": [
    "# Формирование выборки из загруженного набора данных    \n",
    "x_train, y_train = construct_train_data(df.values)"
   ]
  },
  {
   "cell_type": "code",
   "execution_count": 27,
   "metadata": {
    "id": "N4ifcNZBaYGW"
   },
   "outputs": [],
   "source": [
    "# Для нормализации данных используется готовый инструмент\n",
    "y_scaler = StandardScaler()\n",
    "\n",
    "# Нормализация выходных данных по стандартному нормальному распределению\n",
    "y_train_scaler = y_scaler.fit_transform(y_train)"
   ]
  },
  {
   "cell_type": "code",
   "execution_count": 28,
   "metadata": {
    "colab": {
     "base_uri": "https://localhost:8080/"
    },
    "id": "6uvURbpYlkE9",
    "outputId": "1da3914c-5732-4706-c70c-789903c821c8"
   },
   "outputs": [
    {
     "data": {
      "text/plain": [
       "['std_scaler.bin']"
      ]
     },
     "execution_count": 28,
     "metadata": {},
     "output_type": "execute_result"
    }
   ],
   "source": [
    "joblib.dump(y_scaler, 'std_scaler.bin', compress=True)"
   ]
  },
  {
   "cell_type": "code",
   "execution_count": 29,
   "metadata": {
    "colab": {
     "base_uri": "https://localhost:8080/"
    },
    "id": "E_tMURyZaeUe",
    "outputId": "8d247b04-876b-4fb9-9c7e-b145bb9b88c4"
   },
   "outputs": [
    {
     "name": "stdout",
     "output_type": "stream",
     "text": [
      "(1000, 1)\n",
      "Оригинальное значение CL:  98\n",
      "Нормированное значение CL: -0.8404241550985481\n",
      "-2.842170943040401e-17 1.0\n",
      "1114.903 1209.9878303483056\n"
     ]
    }
   ],
   "source": [
    "# Проверка нормализации\n",
    "print(y_train.shape)\n",
    "print(f'Оригинальное значение CL:  {y_train [1, 0]}')\n",
    "print(f'Нормированное значение CL: {y_train_scaler [1, 0]}')\n",
    "\n",
    "# Вывод границ ненормализованных и нормализованных данных\n",
    "print(y_train_scaler.mean(), y_train_scaler.std())\n",
    "print(y_train.mean(), y_train.std())"
   ]
  },
  {
   "cell_type": "code",
   "execution_count": 30,
   "metadata": {
    "colab": {
     "base_uri": "https://localhost:8080/"
    },
    "id": "mJodAOtxaqfB",
    "outputId": "15505674-8781-4ebd-d3ca-e4f169e9f919"
   },
   "outputs": [
    {
     "name": "stdout",
     "output_type": "stream",
     "text": [
      "(1000, 309)\n",
      "(1000, 1)\n",
      "<class 'numpy.ndarray'> <class 'numpy.ndarray'>\n",
      "[0. 0. 0. 0. 1. 0. 0. 0. 0. 0. 0. 0. 0. 0. 0. 0. 0. 0. 0. 0. 0. 0. 0. 0.\n",
      " 0. 0. 0. 0. 0. 0. 0. 0. 0. 0. 0. 0. 0. 0. 0. 0. 0. 0. 0. 0. 0. 0. 0. 0.\n",
      " 0. 0. 0. 0. 0. 0. 0. 0. 0. 0. 0. 0. 0. 0. 0. 0. 0. 0. 0. 0. 0. 0. 0. 0.\n",
      " 0. 0. 0. 0. 0. 0. 0. 0. 0. 0. 0. 0. 0. 0. 0. 0. 0. 0. 0. 0. 0. 0. 0. 0.\n",
      " 0. 0. 0. 0. 0. 0. 0. 0. 0. 0. 0. 0. 0. 0. 0. 0. 0. 0. 0. 0. 0. 0. 0. 0.\n",
      " 0. 0. 0. 0. 0. 0. 0. 0. 0. 0. 0. 0. 0. 0. 0. 0. 0. 0. 0. 0. 0. 0. 0. 0.\n",
      " 0. 0. 0. 0. 0. 0. 0. 0. 0. 0. 0. 0. 0. 0. 0. 0. 0. 0. 0. 0. 0. 0. 0. 0.\n",
      " 0. 0. 0. 0. 0. 0. 0. 0. 0. 0. 0. 0. 0. 0. 0. 0. 0. 0. 0. 0. 0. 0. 0. 0.\n",
      " 0. 0. 0. 0. 0. 0. 0. 0. 0. 0. 0. 0. 0. 0. 0. 0. 0. 0. 0. 0. 0. 0. 0. 0.\n",
      " 0. 0. 0. 0. 0. 0. 0. 0. 0. 0. 0. 0. 0. 0. 0. 0. 0. 0. 0. 0. 0. 0. 0. 0.\n",
      " 0. 0. 0. 0. 0. 0. 0. 0. 0. 0. 0. 0. 0. 0. 0. 0. 0. 0. 0. 0. 0. 0. 0. 0.\n",
      " 0. 0. 0. 0. 0. 0. 0. 0. 0. 0. 0. 0. 0. 0. 0. 0. 0. 0. 0. 0. 0. 0. 0. 0.\n",
      " 0. 0. 0. 0. 0. 0. 0. 0. 0. 0. 0. 0. 0. 0. 1. 0. 1. 0. 0. 0. 0.]\n",
      "[-0.87348234]\n"
     ]
    }
   ],
   "source": [
    "# Далее используем только нормализовннаые данные\n",
    "y_train = y_train_scaler \n",
    "# В итоге мы получаем следующие наборы данных:\n",
    "print(x_train.shape) \n",
    "print(y_train.shape)\n",
    "print(type(x_train), type(y_train))\n",
    "\n",
    "# Пример обработанных данных\n",
    "n = 0 \n",
    "print(x_train[n])\n",
    "print(y_train[n])"
   ]
  },
  {
   "cell_type": "markdown",
   "metadata": {
    "id": "l6gfPw8i_wZK"
   },
   "source": [
    "## AutoML"
   ]
  },
  {
   "cell_type": "code",
   "execution_count": 31,
   "metadata": {
    "id": "mkwix_Qd_0v7"
   },
   "outputs": [],
   "source": [
    "search = ak.StructuredDataRegressor(max_trials=50, loss='mean_absolute_error')"
   ]
  },
  {
   "cell_type": "code",
   "execution_count": 32,
   "metadata": {
    "colab": {
     "base_uri": "https://localhost:8080/"
    },
    "id": "Pm8_Eot8ANcC",
    "outputId": "8d2c1900-b68d-4f05-b253-de8441f93fad"
   },
   "outputs": [
    {
     "name": "stdout",
     "output_type": "stream",
     "text": [
      "Trial 50 Complete [00h 00m 50s]\n",
      "\n",
      "Best val_loss So Far: 0.3299561142921448\n",
      "Total elapsed time: 02h 56m 31s\n",
      "INFO:tensorflow:Oracle triggered exit\n",
      "Epoch 1/32\n",
      "32/32 [==============================] - 8s 70ms/step - loss: 2.9443 - mean_squared_error: 32.8602\n",
      "Epoch 2/32\n",
      "32/32 [==============================] - 2s 70ms/step - loss: 0.8432 - mean_squared_error: 1.2784\n",
      "Epoch 3/32\n",
      "32/32 [==============================] - 2s 70ms/step - loss: 0.8322 - mean_squared_error: 1.3382\n",
      "Epoch 4/32\n",
      "32/32 [==============================] - 2s 70ms/step - loss: 0.8129 - mean_squared_error: 1.3062\n",
      "Epoch 5/32\n",
      "32/32 [==============================] - 2s 69ms/step - loss: 0.8115 - mean_squared_error: 1.2299\n",
      "Epoch 6/32\n",
      "32/32 [==============================] - 2s 71ms/step - loss: 0.7517 - mean_squared_error: 0.9969\n",
      "Epoch 7/32\n",
      "32/32 [==============================] - 2s 70ms/step - loss: 0.7660 - mean_squared_error: 1.0020\n",
      "Epoch 8/32\n",
      "32/32 [==============================] - 2s 71ms/step - loss: 0.6845 - mean_squared_error: 0.7932\n",
      "Epoch 9/32\n",
      "32/32 [==============================] - 2s 71ms/step - loss: 0.5462 - mean_squared_error: 0.5623\n",
      "Epoch 10/32\n",
      "32/32 [==============================] - 2s 71ms/step - loss: 0.6473 - mean_squared_error: 0.7205\n",
      "Epoch 11/32\n",
      "32/32 [==============================] - 2s 70ms/step - loss: 0.5522 - mean_squared_error: 0.5193\n",
      "Epoch 12/32\n",
      "32/32 [==============================] - 2s 71ms/step - loss: 0.4839 - mean_squared_error: 0.4141\n",
      "Epoch 13/32\n",
      "32/32 [==============================] - 2s 70ms/step - loss: 0.5927 - mean_squared_error: 0.7902\n",
      "Epoch 14/32\n",
      "32/32 [==============================] - 2s 71ms/step - loss: 0.3752 - mean_squared_error: 0.2909\n",
      "Epoch 15/32\n",
      "32/32 [==============================] - 2s 71ms/step - loss: 0.3860 - mean_squared_error: 0.3035\n",
      "Epoch 16/32\n",
      "32/32 [==============================] - 2s 70ms/step - loss: 0.3583 - mean_squared_error: 0.2949\n",
      "Epoch 17/32\n",
      "32/32 [==============================] - 2s 71ms/step - loss: 0.3438 - mean_squared_error: 0.2752\n",
      "Epoch 18/32\n",
      "32/32 [==============================] - 2s 71ms/step - loss: 0.3404 - mean_squared_error: 0.2760\n",
      "Epoch 19/32\n",
      "32/32 [==============================] - 2s 71ms/step - loss: 0.3335 - mean_squared_error: 0.2667\n",
      "Epoch 20/32\n",
      "32/32 [==============================] - 2s 71ms/step - loss: 0.3593 - mean_squared_error: 0.3095\n",
      "Epoch 21/32\n",
      "32/32 [==============================] - 2s 71ms/step - loss: 0.3742 - mean_squared_error: 0.3078\n",
      "Epoch 22/32\n",
      "32/32 [==============================] - 2s 71ms/step - loss: 0.3313 - mean_squared_error: 0.2639\n",
      "Epoch 23/32\n",
      "32/32 [==============================] - 2s 71ms/step - loss: 0.3423 - mean_squared_error: 0.2725\n",
      "Epoch 24/32\n",
      "32/32 [==============================] - 2s 71ms/step - loss: 0.3240 - mean_squared_error: 0.2560\n",
      "Epoch 25/32\n",
      "32/32 [==============================] - 2s 71ms/step - loss: 0.3281 - mean_squared_error: 0.2757\n",
      "Epoch 26/32\n",
      "32/32 [==============================] - 2s 71ms/step - loss: 0.3523 - mean_squared_error: 0.3102\n",
      "Epoch 27/32\n",
      "32/32 [==============================] - 2s 71ms/step - loss: 0.3502 - mean_squared_error: 0.2921\n",
      "Epoch 28/32\n",
      "32/32 [==============================] - 2s 71ms/step - loss: 0.3472 - mean_squared_error: 0.2865\n",
      "Epoch 29/32\n",
      "32/32 [==============================] - 2s 71ms/step - loss: 0.3204 - mean_squared_error: 0.2421\n",
      "Epoch 30/32\n",
      "32/32 [==============================] - 2s 71ms/step - loss: 0.3316 - mean_squared_error: 0.2911\n",
      "Epoch 31/32\n",
      "32/32 [==============================] - 2s 71ms/step - loss: 0.3721 - mean_squared_error: 0.3422\n",
      "Epoch 32/32\n",
      "32/32 [==============================] - 2s 71ms/step - loss: 0.3908 - mean_squared_error: 0.3445\n",
      "INFO:tensorflow:Assets written to: .\\structured_data_regressor\\best_model\\assets\n"
     ]
    },
    {
     "data": {
      "text/plain": [
       "<keras.callbacks.History at 0x27c1d739c40>"
      ]
     },
     "execution_count": 32,
     "metadata": {},
     "output_type": "execute_result"
    }
   ],
   "source": [
    "search.fit(x=x_train, y=y_train)"
   ]
  },
  {
   "cell_type": "code",
   "execution_count": 33,
   "metadata": {
    "colab": {
     "base_uri": "https://localhost:8080/"
    },
    "id": "FBiVtwqaAxvh",
    "outputId": "b772aa14-36cf-4009-8341-236a46c3295d"
   },
   "outputs": [
    {
     "name": "stdout",
     "output_type": "stream",
     "text": [
      "Mean Absolute Error is 0.39763885736465454\n"
     ]
    }
   ],
   "source": [
    "train_mae, _ = search.evaluate(x_train, y_train, verbose=0)\n",
    "print('Mean Absolute Error is {}'.format(train_mae))"
   ]
  },
  {
   "cell_type": "code",
   "execution_count": 34,
   "metadata": {
    "colab": {
     "base_uri": "https://localhost:8080/"
    },
    "id": "oYGUp_NdAxyg",
    "outputId": "8f1995ab-9fb8-46e1-a539-e6879fe59c80"
   },
   "outputs": [
    {
     "name": "stdout",
     "output_type": "stream",
     "text": [
      "Mean Absolute Error is 0.39763885736465454\n"
     ]
    }
   ],
   "source": [
    "test_mae, _ = search.evaluate(x_train, y_train, verbose=0)\n",
    "print('Mean Absolute Error is {}'.format(test_mae))"
   ]
  },
  {
   "cell_type": "code",
   "execution_count": 35,
   "metadata": {
    "id": "cu7d6ly2I-Wg"
   },
   "outputs": [],
   "source": [
    "# чтобы получить num_models лучших моделей:\n",
    "best_models = search.tuner.get_best_models(num_models=3)"
   ]
  },
  {
   "cell_type": "code",
   "execution_count": 36,
   "metadata": {
    "id": "k061-u5zYbfl"
   },
   "outputs": [],
   "source": [
    "def show_best_model(best_model):\n",
    "  best_model.summary()\n",
    "  utils.plot_model(best_model, show_shapes=True)\n",
    "  img = plt.imread('model.png')\n",
    "  plt.figure(figsize = (10,10))\n",
    "  plt.imshow(img)\n",
    "  plt.axis('off')\n"
   ]
  },
  {
   "cell_type": "code",
   "execution_count": 37,
   "metadata": {
    "id": "aSkdpEaGanLE"
   },
   "outputs": [],
   "source": [
    "# show_best_model(best_models[0])"
   ]
  },
  {
   "cell_type": "code",
   "execution_count": 38,
   "metadata": {
    "id": "WcdA4sJdJCpI"
   },
   "outputs": [],
   "source": [
    "# show_best_model(best_models[1])"
   ]
  },
  {
   "cell_type": "code",
   "execution_count": 39,
   "metadata": {
    "id": "OhrnbrGUXO0s"
   },
   "outputs": [],
   "source": [
    "# show_best_model(best_models[2])"
   ]
  },
  {
   "cell_type": "code",
   "execution_count": 40,
   "metadata": {
    "colab": {
     "base_uri": "https://localhost:8080/",
     "height": 1000
    },
    "id": "Nc9QjCAHJMTA",
    "outputId": "c21b91c2-6593-4c9c-afbb-b5cb282fe9b3"
   },
   "outputs": [
    {
     "name": "stdout",
     "output_type": "stream",
     "text": [
      "Model: \"model\"\n",
      "_________________________________________________________________\n",
      " Layer (type)                Output Shape              Param #   \n",
      "=================================================================\n",
      " input_1 (InputLayer)        [(None, 309)]             0         \n",
      "                                                                 \n",
      " multi_category_encoding (Mu  (None, 309)              0         \n",
      " ltiCategoryEncoding)                                            \n",
      "                                                                 \n",
      " dense (Dense)               (None, 512)               158720    \n",
      "                                                                 \n",
      " re_lu (ReLU)                (None, 512)               0         \n",
      "                                                                 \n",
      " dense_1 (Dense)             (None, 64)                32832     \n",
      "                                                                 \n",
      " re_lu_1 (ReLU)              (None, 64)                0         \n",
      "                                                                 \n",
      " regression_head_1 (Dense)   (None, 1)                 65        \n",
      "                                                                 \n",
      "=================================================================\n",
      "Total params: 191,617\n",
      "Trainable params: 191,617\n",
      "Non-trainable params: 0\n",
      "_________________________________________________________________\n"
     ]
    },
    {
     "data": {
      "image/png": "[encoded data removed]",
      "text/plain": [
       "<Figure size 720x720 with 1 Axes>"
      ]
     },
     "metadata": {
      "needs_background": "light"
     },
     "output_type": "display_data"
    }
   ],
   "source": [
    "# get the best model\n",
    "model = search.export_model()\n",
    "show_best_model(model)"
   ]
  },
  {
   "cell_type": "code",
   "execution_count": 41,
   "metadata": {
    "colab": {
     "base_uri": "https://localhost:8080/"
    },
    "id": "7ijc2huDJaMy",
    "outputId": "d6b86984-ddad-4d14-b07a-98d95f51e923"
   },
   "outputs": [
    {
     "name": "stdout",
     "output_type": "stream",
     "text": [
      "Сохранено\n"
     ]
    }
   ],
   "source": [
    "# Сохраняем саму модель\n",
    "# Сериализация в JSON\n",
    "model_json = model.to_json()\n",
    "with open(\"model.json\", \"w\") as json_file:\n",
    "    json_file.write(model_json)\n",
    "# Сохраняем(сериализуем) веса  в формате HDF5\n",
    "# model.save_weights(\"/content/model.h5\")\n",
    "print(\"Сохранено\")\n"
   ]
  },
  {
   "cell_type": "code",
   "execution_count": 42,
   "metadata": {},
   "outputs": [],
   "source": [
    "# model.save(\"model_cla_005.h5\", save_format=\"h5\")"
   ]
  },
  {
   "cell_type": "code",
   "execution_count": 43,
   "metadata": {
    "colab": {
     "base_uri": "https://localhost:8080/"
    },
    "id": "ZjkyeTx9nVLK",
    "outputId": "80993d26-5266-4fb5-bac2-96af607e98cc"
   },
   "outputs": [
    {
     "name": "stdout",
     "output_type": "stream",
     "text": [
      "Model: \"model\"\n",
      "_________________________________________________________________\n",
      " Layer (type)                Output Shape              Param #   \n",
      "=================================================================\n",
      " input_1 (InputLayer)        [(None, 309)]             0         \n",
      "                                                                 \n",
      " multi_category_encoding (Mu  (None, 309)              0         \n",
      " ltiCategoryEncoding)                                            \n",
      "                                                                 \n",
      " dense (Dense)               (None, 512)               158720    \n",
      "                                                                 \n",
      " re_lu (ReLU)                (None, 512)               0         \n",
      "                                                                 \n",
      " dense_1 (Dense)             (None, 64)                32832     \n",
      "                                                                 \n",
      " re_lu_1 (ReLU)              (None, 64)                0         \n",
      "                                                                 \n",
      " regression_head_1 (Dense)   (None, 1)                 65        \n",
      "                                                                 \n",
      "=================================================================\n",
      "Total params: 191,617\n",
      "Trainable params: 191,617\n",
      "Non-trainable params: 0\n",
      "_________________________________________________________________\n",
      "Загружено с диска\n"
     ]
    }
   ],
   "source": [
    "# Открываем json файл разметки модели\n",
    "json_file = open('model.json','r') \n",
    "loaded_model_json = json_file.read() # считываем\n",
    "json_file.close() # закрываем\n",
    "model = model_from_json(loaded_model_json) # используем керас, чтобы считать разметку архитектуры\n",
    "model.summary()\n",
    "# loaded_model.load_weights(\"/content/model.h5\") # подгружаем веса\n",
    "print(\"Загружено с диска\")"
   ]
  },
  {
   "cell_type": "code",
   "execution_count": 44,
   "metadata": {
    "id": "-2YLfiBjhAfx"
   },
   "outputs": [],
   "source": [
    "# model.save('model_sonar.h5')"
   ]
  },
  {
   "cell_type": "code",
   "execution_count": 45,
   "metadata": {
    "id": "HYFP_cU_iGRA"
   },
   "outputs": [],
   "source": [
    "# https://github.com/keras-team/autokeras/issues/1081\n",
    "# def load_pickle_model_from_file(name_file):\n",
    "#     with open(name_file, 'rb') as file:\n",
    "#         loaded_model = pickle.load(file)\n",
    "#     return loaded_model\n",
    "\n",
    "# def save_pickle_model_to_file(model, name_model):\n",
    "#     with open(Path(str(name_model)+\".pickle\"), 'wb') as file:\n",
    "#         pickle.dump(model, file)\n",
    "#     print(str(Path(str(name_model)+\".pickle\"))+' - model saved!')"
   ]
  },
  {
   "cell_type": "code",
   "execution_count": 46,
   "metadata": {
    "id": "M5vGAufJiR1A"
   },
   "outputs": [],
   "source": [
    "# save_pickle_model_to_file(model, '/content/model_CLA_005')"
   ]
  }
 ],
 "metadata": {
  "accelerator": "GPU",
  "colab": {
   "provenance": []
  },
  "gpuClass": "standard",
  "kernelspec": {
   "display_name": "Python 3 (ipykernel)",
   "language": "python",
   "name": "python3"
  },
  "language_info": {
   "codemirror_mode": {
    "name": "ipython",
    "version": 3
   },
   "file_extension": ".py",
   "mimetype": "text/x-python",
   "name": "python",
   "nbconvert_exporter": "python",
   "pygments_lexer": "ipython3",
   "version": "3.8.13"
  }
 },
 "nbformat": 4,
 "nbformat_minor": 1
}
