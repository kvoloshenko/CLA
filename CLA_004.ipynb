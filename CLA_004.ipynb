{
  "nbformat": 4,
  "nbformat_minor": 0,
  "metadata": {
    "colab": {
      "provenance": []
    },
    "kernelspec": {
      "name": "python3",
      "display_name": "Python 3"
    },
    "language_info": {
      "name": "python"
    },
    "accelerator": "GPU",
    "gpuClass": "standard"
  },
  "cells": [
    {
      "cell_type": "markdown",
      "source": [
        "# Credit Limit Assessment (CLA)"
      ],
      "metadata": {
        "id": "N-BcZXaGEyNl"
      }
    },
    {
      "cell_type": "code",
      "source": [
        "import random\n",
        "from random import randrange\n",
        "from datetime import datetime\n",
        "from datetime import timedelta\n",
        "# Работа с массивами данных\n",
        "import numpy as np \n",
        "# Работа с табличными данными\n",
        "import pandas as pd\n",
        "# Отрисовка графиков\n",
        "import matplotlib.pyplot as plt\n",
        "# Функции-утилиты для работы с категориальными данными\n",
        "from tensorflow.keras import utils\n",
        "# Класс для конструирования последовательной модели нейронной сети\n",
        "from tensorflow.keras.models import Sequential, Model\n",
        "\n",
        "# Основные слои\n",
        "from tensorflow.keras.layers import Dense, Dropout, SpatialDropout1D, BatchNormalization, Embedding, Flatten, Activation, Input, concatenate\n",
        "from tensorflow.keras.layers import SimpleRNN, GRU, LSTM, Bidirectional, Conv1D, MaxPooling1D, GlobalMaxPooling1D\n",
        "\n",
        "# Оптимизаторы\n",
        "from tensorflow.keras.optimizers import Adam, Adadelta, SGD, Adagrad, RMSprop\n",
        "\n",
        "# Токенизатор для преобразование текстов в последовательности\n",
        "from tensorflow.keras.preprocessing.text import Tokenizer\n",
        "\n",
        "# Масштабирование данных\n",
        "from sklearn.preprocessing import StandardScaler\n",
        "\n",
        "# Метрики для расчета ошибок\n",
        "from sklearn.metrics import mean_squared_error, mean_absolute_error\n",
        "\n",
        "#from tensorflow.keras.callbacks import  ReduceLROnPlateau,  EarlyStopping, ModelCheckpoint \n",
        "\n",
        "from tensorflow.keras.models import model_from_json"
      ],
      "metadata": {
        "id": "yqXJ_ksHHu2d"
      },
      "execution_count": 1,
      "outputs": []
    },
    {
      "cell_type": "markdown",
      "source": [
        "## Data Simulation Functions"
      ],
      "metadata": {
        "id": "yZGNUkfiHEtM"
      }
    },
    {
      "cell_type": "code",
      "source": [
        "def DS_ACTIVATED_CL(CUSTOMER_TYPE, CUSTOMER_SUB_SEGMENT, NUMBER_LINES):\n",
        "  NUMBER_LINES = int (NUMBER_LINES)\n",
        "  if CUSTOMER_TYPE == 'Business Customer Account':\n",
        "    max = 1000\n",
        "  else:\n",
        "    max = 100\n",
        "\n",
        "  if CUSTOMER_SUB_SEGMENT == 'Fixed & Mobile UAE':\n",
        "    min = max // 2\n",
        "  elif CUSTOMER_SUB_SEGMENT == 'Mobile UAE':\n",
        "    min = max // 3\n",
        "  elif CUSTOMER_SUB_SEGMENT == 'Fixed UAE':\n",
        "    min = max // 4\n",
        "  elif CUSTOMER_SUB_SEGMENT == 'Fixed & Mobile Expat':\n",
        "    min = max // 5 \n",
        "  else:\n",
        "    min = 0\n",
        "  cl = random.randint(min, max) + NUMBER_LINES * 10\n",
        "  return str(cl)\n"
      ],
      "metadata": {
        "id": "eerBaurXo5eg"
      },
      "execution_count": 2,
      "outputs": []
    },
    {
      "cell_type": "code",
      "source": [
        "def DS_NUMBER_LINES(CUSTOMER_TYPE):\n",
        "  if CUSTOMER_TYPE == 'Business Customer Account':\n",
        "    max = 300\n",
        "  else:\n",
        "    max = 10\n",
        "  min = 0\n",
        "  n_lines = random.randint(min, max)\n",
        "  return str(n_lines)  \n"
      ],
      "metadata": {
        "id": "ZIIpygwj_Hhu"
      },
      "execution_count": 3,
      "outputs": []
    },
    {
      "cell_type": "code",
      "source": [
        "def DS_CUSTOMER_TYPE():\n",
        "  DS_LIST = ['Residential Customer Account', 'Business Customer Account']\n",
        "  return random.sample(DS_LIST, 1)[0]\n",
        "# DS_CUSTOMER_TYPE()"
      ],
      "metadata": {
        "id": "7biXdlMcvRpK"
      },
      "execution_count": 4,
      "outputs": []
    },
    {
      "cell_type": "code",
      "source": [
        "def DS_CUSTOMER_SUB_SEGMENT():\n",
        "  DS_LIST = ['Fixed & Mobile Expat', 'Mobile Expat', 'Fixed Expat', 'Fixed & Mobile UAE', 'Mobile UAE', 'Fixed UAE']\n",
        "  return random.sample(DS_LIST, 1)[0]\n",
        "# DS_CUSTOMER_SUB_SEGMENT()"
      ],
      "metadata": {
        "id": "ieeKp9Qc4EDT"
      },
      "execution_count": 5,
      "outputs": []
    },
    {
      "cell_type": "code",
      "source": [
        "def head_line():\n",
        "  return 'ACTIVATED_CL,NUMBER_LINES,CUSTOMER_TYPE,CUSTOMER_SUB_SEGMENT'"
      ],
      "metadata": {
        "id": "l3Bfgh5EhtRf"
      },
      "execution_count": 6,
      "outputs": []
    },
    {
      "cell_type": "code",
      "source": [
        "def df_lines(num_lines):\n",
        "  myfile = open('CLA_001.csv', 'w')\n",
        "  df_str = '' + head_line() + '\\n'\n",
        "  myfile.writelines(df_str)\n",
        "  for _ in range(num_lines):\n",
        "    CUSTOMER_TYPE = DS_CUSTOMER_TYPE()\n",
        "    CUSTOMER_SUB_SEGMENT = DS_CUSTOMER_SUB_SEGMENT()\n",
        "    NUMBER_LINES = DS_NUMBER_LINES(CUSTOMER_TYPE)\n",
        "    ACTIVATED_CL = DS_ACTIVATED_CL(CUSTOMER_TYPE, CUSTOMER_SUB_SEGMENT, NUMBER_LINES)\n",
        "\n",
        "    df_str = '' + ACTIVATED_CL \\\n",
        "      + ',' + NUMBER_LINES \\\n",
        "      + ',' + CUSTOMER_TYPE \\\n",
        "      + ',' + CUSTOMER_SUB_SEGMENT \\\n",
        "      + '\\n'\n",
        "    myfile.writelines(df_str)\n",
        "  myfile.close()"
      ],
      "metadata": {
        "id": "NZmXr_rcivrp"
      },
      "execution_count": 7,
      "outputs": []
    },
    {
      "cell_type": "markdown",
      "source": [
        "##DF Simulation"
      ],
      "metadata": {
        "id": "chGsEBFtR7lp"
      }
    },
    {
      "cell_type": "code",
      "source": [
        "df_str = df_lines(300000)"
      ],
      "metadata": {
        "id": "pZw_VR9SSAQM"
      },
      "execution_count": null,
      "outputs": []
    },
    {
      "cell_type": "markdown",
      "source": [
        "## DF"
      ],
      "metadata": {
        "id": "ca07GyexoanX"
      }
    },
    {
      "cell_type": "code",
      "source": [
        "df = pd.read_csv('/content/CLA_001.csv')# Это то, куда вы скачали файл\n",
        "# Количество и критерии\n",
        "print(df.shape)"
      ],
      "metadata": {
        "id": "Mecq1VFmodZf"
      },
      "execution_count": null,
      "outputs": []
    },
    {
      "cell_type": "code",
      "source": [
        "df.head()"
      ],
      "metadata": {
        "id": "G7tSLieJpHdR"
      },
      "execution_count": null,
      "outputs": []
    },
    {
      "cell_type": "code",
      "source": [
        "print(df.columns) #Показываем имена колонок данных"
      ],
      "metadata": {
        "id": "z0uHeUlvphjv"
      },
      "execution_count": null,
      "outputs": []
    },
    {
      "cell_type": "code",
      "source": [
        "df.dtypes"
      ],
      "metadata": {
        "id": "0TIdW0mM0-QF"
      },
      "execution_count": null,
      "outputs": []
    },
    {
      "cell_type": "code",
      "source": [
        "# max value in NUMBER_LINES\n",
        "MAX_NUMBER_LINES = df['NUMBER_LINES'].max()\n",
        "print(f'MAX_NUMBER_LINES={MAX_NUMBER_LINES}')"
      ],
      "metadata": {
        "id": "AJ-JkKtOkSGu"
      },
      "execution_count": null,
      "outputs": []
    },
    {
      "cell_type": "markdown",
      "source": [
        "## Преобразование DF"
      ],
      "metadata": {
        "id": "Z2U8U2KQDOIk"
      }
    },
    {
      "cell_type": "code",
      "source": [
        "# Настройка номеров столбцов\n",
        "# Дальнейшие вычисления не будут зависеть от порядка столбцов в таблице\n",
        "\n",
        "COL_ACTIVATED_CL         = df.columns.get_loc('ACTIVATED_CL')\n",
        "COL_NUMBER_LINES         = df.columns.get_loc('NUMBER_LINES')\n",
        "COL_CUSTOMER_TYPE        = df.columns.get_loc('CUSTOMER_TYPE')\n",
        "COL_CUSTOMER_SUB_SEGMENT = df.columns.get_loc('CUSTOMER_SUB_SEGMENT')"
      ],
      "metadata": {
        "id": "lGOMkoWzY1pM"
      },
      "execution_count": null,
      "outputs": []
    },
    {
      "cell_type": "code",
      "source": [
        "# Классы CUSTOMER_TYPE\n",
        "CUSTOMER_TYPE_class = [0, \n",
        "                    {'Business Customer Account\t'          : 0,\n",
        "                     'Residential Customer Account' : 1\n",
        "                    }]\n",
        "# Классы CUSTOMER_SUB_SEGMENT\n",
        "CUSTOMER_SUB_SEGMENT_class = [0, \n",
        "              {'Fixed & Mobile Expat' : 0,\n",
        "               'Mobile Expat'         : 1,\n",
        "               'Fixed Expat'          : 2,\n",
        "               'Fixed & Mobile UAE'   : 3,\n",
        "               'Mobile UAE'           : 4,\n",
        "               'Fixed UAE'            : 5\n",
        "                             }]"
      ],
      "metadata": {
        "id": "Dn7vQ8jwDS18"
      },
      "execution_count": null,
      "outputs": []
    },
    {
      "cell_type": "code",
      "source": [
        "# Вычисление счетчиков для данных разбиения\n",
        "for class_desc in [CUSTOMER_TYPE_class,\n",
        "                   CUSTOMER_SUB_SEGMENT_class]:\n",
        "    if isinstance(class_desc[1], list):\n",
        "        class_desc[0] = len(class_desc[1]) + 1\n",
        "    else:\n",
        "        class_desc[0] = max(class_desc[1].values()) + 1"
      ],
      "metadata": {
        "id": "GvBmaYtfFem3"
      },
      "execution_count": null,
      "outputs": []
    },
    {
      "cell_type": "code",
      "source": [
        "CUSTOMER_SUB_SEGMENT_class"
      ],
      "metadata": {
        "id": "ZLdxu_WlFxj0"
      },
      "execution_count": null,
      "outputs": []
    },
    {
      "cell_type": "code",
      "source": [
        "# Общая функция преобразования строки к multi-вектору\n",
        "# На входе данные и словарь сопоставления подстрок классам\n",
        "\n",
        "def str_to_multi(arg, class_dict):\n",
        "    # Определение размерности выходного вектора\n",
        "    num_classes = class_dict[0]\n",
        "\n",
        "    # Создание нулевого вектора\n",
        "    result = np.zeros(num_classes)\n",
        "    \n",
        "    # Поиск значения в словаре и, если найдено,\n",
        "    # выставление 1. на нужной позиции\n",
        "    for value, cls in class_dict[1].items():\n",
        "      # print(f'value={value} cls={cls}')\n",
        "      if value == arg:\n",
        "          result[cls] = 1.\n",
        "\n",
        "    return result\n",
        "\n",
        "def extract_CUSTOMER_SUB_SEGMENT_to_multi(arg):\n",
        "  return str_to_multi(arg, CUSTOMER_SUB_SEGMENT_class)\n",
        "\n",
        "def extract_CUSTOMER_TYPE_to_multi(arg):\n",
        "  return str_to_multi(arg, CUSTOMER_TYPE_class)"
      ],
      "metadata": {
        "id": "wF9FC3oiGmy3"
      },
      "execution_count": null,
      "outputs": []
    },
    {
      "cell_type": "code",
      "source": [
        "CUSTOMER_SS = 'Fixed & Mobile UAE'\n",
        "extract_CUSTOMER_SUB_SEGMENT_to_multi(CUSTOMER_SS)"
      ],
      "metadata": {
        "id": "GU4hxd3qHYNO"
      },
      "execution_count": null,
      "outputs": []
    },
    {
      "cell_type": "code",
      "source": [
        "CUSTOMER_TYPE = 'Residential Customer Account'\n",
        "extract_CUSTOMER_TYPE_to_multi(CUSTOMER_TYPE)"
      ],
      "metadata": {
        "id": "ur7fOke7BxlA"
      },
      "execution_count": null,
      "outputs": []
    },
    {
      "cell_type": "code",
      "source": [
        "def extract_NUMBER_LINES_Category(arg, MAX_NUMBER_LINES):\n",
        "  NUMBER_LINES = utils.to_categorical(arg, MAX_NUMBER_LINES+1) #Превращаем в категорию\n",
        "  return NUMBER_LINES\n",
        "\n",
        "# extract_NUMBER_LINES_Category(1,10)"
      ],
      "metadata": {
        "id": "Wc49YGTtpte8"
      },
      "execution_count": null,
      "outputs": []
    },
    {
      "cell_type": "code",
      "source": [
        "def extract_row_data(row):\n",
        "  ACTIVATED_CL = int(row[COL_ACTIVATED_CL])\n",
        "  ACTIVATED_CL_vec = np.array([ACTIVATED_CL])\n",
        "\n",
        "  NUMBER_LINES = int(row[COL_NUMBER_LINES])\n",
        "  # NUMBER_LINES_vec = np.array([NUMBER_LINES])\n",
        "  NUMBER_LINES_vec = extract_NUMBER_LINES_Category(NUMBER_LINES, MAX_NUMBER_LINES)\n",
        "  \n",
        "  CUSTOMER_TYPE_ohe = extract_CUSTOMER_TYPE_to_multi(row[COL_CUSTOMER_TYPE])\n",
        "  CUSTOMER_SUB_SEGMENT_ohe = extract_CUSTOMER_SUB_SEGMENT_to_multi(row[COL_CUSTOMER_SUB_SEGMENT])\n",
        "\n",
        "  # Объединение всех входных данных в один общий вектор\n",
        "  x_data = np.hstack([NUMBER_LINES_vec, \n",
        "                      CUSTOMER_TYPE_ohe,\n",
        "                      CUSTOMER_SUB_SEGMENT_ohe])\n",
        "    \n",
        "  # Возврат входных данных и выходных (зарплаты)\n",
        "  return x_data, ACTIVATED_CL_vec\n",
        "\n",
        "  # Создание общей выборки\n",
        "def construct_train_data(row_list):\n",
        "    x_data = []\n",
        "    y_data = []\n",
        "    \n",
        "    for row in row_list:\n",
        "        x, y = extract_row_data(row)\n",
        "        if y[0] > 0:                      \n",
        "            x_data.append(x)\n",
        "            y_data.append(y)\n",
        "\n",
        "    return np.array(x_data), np.array(y_data)\n"
      ],
      "metadata": {
        "id": "eGZ2W7VICZiY"
      },
      "execution_count": null,
      "outputs": []
    },
    {
      "cell_type": "code",
      "source": [
        "# Формирование выборки из загруженного набора данных    \n",
        "x_train, y_train = construct_train_data(df.values)"
      ],
      "metadata": {
        "id": "CCrA0l3wSnwM"
      },
      "execution_count": null,
      "outputs": []
    },
    {
      "cell_type": "code",
      "source": [
        "# Для нормализации данных используется готовый инструмент\n",
        "y_scaler = StandardScaler()\n",
        "\n",
        "# Нормализация выходных данных по стандартному нормальному распределению\n",
        "y_train = y_scaler.fit_transform(y_train)"
      ],
      "metadata": {
        "id": "N4ifcNZBaYGW"
      },
      "execution_count": null,
      "outputs": []
    },
    {
      "cell_type": "code",
      "source": [
        "# Проверка нормализации\n",
        "print(y_train.shape)\n",
        "print(f'Оригинальное значение CL:  {y_train[1, 0]}')\n",
        "print(f'Нормированное значение CL: {y_train[1, 0]}')\n",
        "\n",
        "# Вывод границ ненормализованных и нормализованных данных\n",
        "print(y_train.mean(), y_train.std())\n",
        "print(y_train.mean(), y_train.std())"
      ],
      "metadata": {
        "id": "E_tMURyZaeUe"
      },
      "execution_count": null,
      "outputs": []
    },
    {
      "cell_type": "code",
      "source": [
        "# В итоге мы получаем следующие наборы данных:\n",
        "print(x_train.shape) \n",
        "print(y_train.shape)\n",
        "print(type(x_train), type(y_train))\n",
        "\n",
        "# Пример обработанных данных\n",
        "n = 0 \n",
        "print(x_train[n])\n",
        "print(y_train[n])"
      ],
      "metadata": {
        "id": "mJodAOtxaqfB"
      },
      "execution_count": null,
      "outputs": []
    },
    {
      "cell_type": "markdown",
      "source": [
        "## Обучение модели"
      ],
      "metadata": {
        "id": "ZiFIyJ34iNx5"
      }
    },
    {
      "cell_type": "code",
      "source": [
        "# Функция отрисовки графика истории обучения\n",
        "def plot_history(history):\n",
        "    plt.plot(history.history['mae'], \n",
        "            label='Средняя абсолютная ошибка на обучающем наборе')\n",
        "    plt.plot(history.history['val_mae'], \n",
        "            label='Средняя абсолютная ошибка на проверочном наборе')\n",
        "    plt.xlabel('Эпоха обучения')\n",
        "    plt.ylabel('Средняя абсолютная ошибка')\n",
        "    plt.legend()\n",
        "    plt.show()"
      ],
      "metadata": {
        "id": "N-EXLhRgiQEp"
      },
      "execution_count": null,
      "outputs": []
    },
    {
      "cell_type": "code",
      "source": [
        "# Обучение модели на простых данных с нормализованной зарплатой\n",
        "model = Sequential()\n",
        "model.add(BatchNormalization(input_dim=x_train.shape[1]))\n",
        "model.add(Dense(128, activation='relu'))\n",
        "model.add(Dense(1000, activation='tanh'))\n",
        "model.add(Dense(100, activation='relu'))\n",
        "model.add(Dense(1, activation='linear'))\n",
        "\n",
        "utils.plot_model(model, show_shapes=True)"
      ],
      "metadata": {
        "id": "rRKjQwVXdyI8"
      },
      "execution_count": null,
      "outputs": []
    },
    {
      "cell_type": "code",
      "source": [
        "model.compile(optimizer=Adam(learning_rate=1e-5), loss='mse', metrics=['mae'])\n",
        "\n",
        "history = model.fit(x_train, \n",
        "                    y_train, \n",
        "                    epochs=50, \n",
        "                    batch_size=256,\n",
        "                    validation_split=0.15, \n",
        "                    verbose=1)\n",
        "\n",
        "plot_history(history)"
      ],
      "metadata": {
        "id": "WmjPGS-zxcvG"
      },
      "execution_count": null,
      "outputs": []
    },
    {
      "cell_type": "code",
      "source": [
        "# Проверка работы сети - предсказание на тренировочной выборке\n",
        "pred = model.predict(x_train)\n",
        "\n",
        "# Расчет среднего значения ошибки \n",
        "print((abs(pred - y_train)).mean())         # Расчет вручную\n",
        "print(mean_absolute_error(pred, y_train))   # Расчет с помощью готовой функции"
      ],
      "metadata": {
        "id": "Tr9Mf9imaKzW"
      },
      "execution_count": null,
      "outputs": []
    },
    {
      "cell_type": "code",
      "source": [
        "# Сохраняем саму модель\n",
        "# Сериализация в JSON\n",
        "model_json = model.to_json()\n",
        "with open(\"/content/model.json\", \"w\") as json_file:\n",
        "    json_file.write(model_json)\n",
        "# Сохраняем(сериализуем) веса  в формате HDF5\n",
        "model.save_weights(\"/content/model.h5\")\n",
        "print(\"Сохранено\")"
      ],
      "metadata": {
        "id": "wokVXgkfSLl1"
      },
      "execution_count": null,
      "outputs": []
    },
    {
      "cell_type": "code",
      "source": [
        "# Открываем json файл разметки модели\n",
        "json_file = open('/content/model.json','r') \n",
        "loaded_model_json = json_file.read() # считываем\n",
        "json_file.close() # закрываем\n",
        "loaded_model = model_from_json(loaded_model_json) # используем керас, чтобы считать разметку архитектуры\n",
        "loaded_model.summary()\n",
        "loaded_model.load_weights(\"/content/model.h5\") # подгружаем веса\n",
        "print(\"Загружено с диска\")"
      ],
      "metadata": {
        "id": "6MwXp8k1TGm2"
      },
      "execution_count": null,
      "outputs": []
    },
    {
      "cell_type": "code",
      "source": [
        "def data_preparation(NUMBER_LINES, CUSTOMER_TYPE, CUSTOMER_SUB_SEGMENT):\n",
        "  NUMBER_LINES_vec = extract_NUMBER_LINES_Category(NUMBER_LINES, MAX_NUMBER_LINES)\n",
        "  CUSTOMER_TYPE_ohe = extract_CUSTOMER_TYPE_to_multi(CUSTOMER_TYPE)\n",
        "  CUSTOMER_SUB_SEGMENT_ohe = extract_CUSTOMER_SUB_SEGMENT_to_multi(CUSTOMER_SUB_SEGMENT)\n",
        "  x_data = np.hstack([NUMBER_LINES_vec, \n",
        "                        CUSTOMER_TYPE_ohe,\n",
        "                        CUSTOMER_SUB_SEGMENT_ohe])\n",
        "  # print(type(x_data))\n",
        "  # print(x_data.shape)\n",
        "  x_data = x_data.reshape(1, x_data.shape[0])\n",
        "  # print(type(x_data))\n",
        "  # print(x_data.shape)\n",
        "  return x_data"
      ],
      "metadata": {
        "id": "bVRIYGNJAmOl"
      },
      "execution_count": null,
      "outputs": []
    },
    {
      "cell_type": "code",
      "source": [
        "NUMBER_LINES = 10\n",
        "CUSTOMER_TYPE = 'Residential Customer Account'\n",
        "CUSTOMER_SUB_SEGMENT = 'Fixed UAE'\n",
        "\n",
        "x_data = data_preparation(NUMBER_LINES, CUSTOMER_TYPE, CUSTOMER_SUB_SEGMENT)\n",
        "pred = model.predict(x_data)             # Предсказание на тренировочной выборке\n",
        "# print(type(pred))\n",
        "# print(pred.shape)\n",
        "pred = y_scaler.inverse_transform(pred)\n",
        "print (pred[0])\n"
      ],
      "metadata": {
        "id": "DDsghMZA8JhO"
      },
      "execution_count": null,
      "outputs": []
    },
    {
      "cell_type": "code",
      "source": [
        "NUMBER_LINES = 10\n",
        "CUSTOMER_TYPE = 'Business Customer Account'\n",
        "CUSTOMER_SUB_SEGMENT = 'Fixed UAE'\n",
        "\n",
        "x_data = data_preparation(NUMBER_LINES, CUSTOMER_TYPE, CUSTOMER_SUB_SEGMENT)\n",
        "pred = model.predict(x_data)             # Предсказание на тренировочной выборке\n",
        "# print(type(pred))\n",
        "# print(pred.shape)\n",
        "pred = y_scaler.inverse_transform(pred)\n",
        "print (pred[0])"
      ],
      "metadata": {
        "id": "l2MRMKFpBDp6"
      },
      "execution_count": null,
      "outputs": []
    }
  ]
}