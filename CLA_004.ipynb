{
  "nbformat": 4,
  "nbformat_minor": 0,
  "metadata": {
    "colab": {
      "provenance": []
    },
    "kernelspec": {
      "name": "python3",
      "display_name": "Python 3"
    },
    "language_info": {
      "name": "python"
    },
    "accelerator": "GPU",
    "gpuClass": "standard"
  },
  "cells": [
    {
      "cell_type": "markdown",
      "source": [
        "# Credit Limit Assessment (CLA)"
      ],
      "metadata": {
        "id": "N-BcZXaGEyNl"
      }
    },
    {
      "cell_type": "code",
      "source": [],
      "metadata": {
        "id": "px8ljihzoFwe"
      },
      "execution_count": 30,
      "outputs": []
    },
    {
      "cell_type": "code",
      "source": [
        "import random\n",
        "from random import randrange\n",
        "from datetime import datetime\n",
        "from datetime import timedelta\n",
        "# Работа с массивами данных\n",
        "import numpy as np \n",
        "# Работа с табличными данными\n",
        "import pandas as pd\n",
        "# Отрисовка графиков\n",
        "import matplotlib.pyplot as plt\n",
        "# Функции-утилиты для работы с категориальными данными\n",
        "from tensorflow.keras import utils\n",
        "# Класс для конструирования последовательной модели нейронной сети\n",
        "from tensorflow.keras.models import Sequential, Model\n",
        "\n",
        "# Основные слои\n",
        "from tensorflow.keras.layers import Dense, Dropout, SpatialDropout1D, BatchNormalization, Embedding, Flatten, Activation, Input, concatenate\n",
        "from tensorflow.keras.layers import SimpleRNN, GRU, LSTM, Bidirectional, Conv1D, MaxPooling1D, GlobalMaxPooling1D\n",
        "\n",
        "# Оптимизаторы\n",
        "from tensorflow.keras.optimizers import Adam, Adadelta, SGD, Adagrad, RMSprop\n",
        "\n",
        "# Токенизатор для преобразование текстов в последовательности\n",
        "from tensorflow.keras.preprocessing.text import Tokenizer\n",
        "\n",
        "# Масштабирование данных\n",
        "from sklearn.preprocessing import StandardScaler\n",
        "import joblib\n",
        "\n",
        "# Метрики для расчета ошибок\n",
        "from sklearn.metrics import mean_squared_error, mean_absolute_error\n",
        "\n",
        "#from tensorflow.keras.callbacks import  ReduceLROnPlateau,  EarlyStopping, ModelCheckpoint \n",
        "\n",
        "from tensorflow.keras.models import model_from_json"
      ],
      "metadata": {
        "id": "yqXJ_ksHHu2d"
      },
      "execution_count": 31,
      "outputs": []
    },
    {
      "cell_type": "markdown",
      "source": [
        "## Data Simulation Functions"
      ],
      "metadata": {
        "id": "yZGNUkfiHEtM"
      }
    },
    {
      "cell_type": "code",
      "source": [
        "def DS_ACTIVATED_CL(CUSTOMER_TYPE, CUSTOMER_SUB_SEGMENT, NUMBER_LINES):\n",
        "  NUMBER_LINES = int (NUMBER_LINES)\n",
        "  if CUSTOMER_TYPE == 'Business Customer Account':\n",
        "    max = 1000\n",
        "  else:\n",
        "    max = 100\n",
        "\n",
        "  if CUSTOMER_SUB_SEGMENT == 'Fixed & Mobile UAE':\n",
        "    min = max // 2\n",
        "  elif CUSTOMER_SUB_SEGMENT == 'Mobile UAE':\n",
        "    min = max // 3\n",
        "  elif CUSTOMER_SUB_SEGMENT == 'Fixed UAE':\n",
        "    min = max // 4\n",
        "  elif CUSTOMER_SUB_SEGMENT == 'Fixed & Mobile Expat':\n",
        "    min = max // 5 \n",
        "  else:\n",
        "    min = 0\n",
        "  cl = random.randint(min, max) + NUMBER_LINES * 10\n",
        "  return str(cl)\n"
      ],
      "metadata": {
        "id": "eerBaurXo5eg"
      },
      "execution_count": 32,
      "outputs": []
    },
    {
      "cell_type": "code",
      "source": [
        "def DS_NUMBER_LINES(CUSTOMER_TYPE):\n",
        "  if CUSTOMER_TYPE == 'Business Customer Account':\n",
        "    max = 300\n",
        "  else:\n",
        "    max = 10\n",
        "  min = 0\n",
        "  n_lines = random.randint(min, max)\n",
        "  return str(n_lines)  \n"
      ],
      "metadata": {
        "id": "ZIIpygwj_Hhu"
      },
      "execution_count": 33,
      "outputs": []
    },
    {
      "cell_type": "code",
      "source": [
        "def DS_CUSTOMER_TYPE():\n",
        "  DS_LIST = ['Residential Customer Account', 'Business Customer Account']\n",
        "  return random.sample(DS_LIST, 1)[0]\n",
        "# DS_CUSTOMER_TYPE()"
      ],
      "metadata": {
        "id": "7biXdlMcvRpK"
      },
      "execution_count": 34,
      "outputs": []
    },
    {
      "cell_type": "code",
      "source": [
        "def DS_CUSTOMER_SUB_SEGMENT():\n",
        "  DS_LIST = ['Fixed & Mobile Expat', 'Mobile Expat', 'Fixed Expat', 'Fixed & Mobile UAE', 'Mobile UAE', 'Fixed UAE']\n",
        "  return random.sample(DS_LIST, 1)[0]\n",
        "# DS_CUSTOMER_SUB_SEGMENT()"
      ],
      "metadata": {
        "id": "ieeKp9Qc4EDT"
      },
      "execution_count": 35,
      "outputs": []
    },
    {
      "cell_type": "code",
      "source": [
        "def head_line():\n",
        "  return 'ACTIVATED_CL,NUMBER_LINES,CUSTOMER_TYPE,CUSTOMER_SUB_SEGMENT'"
      ],
      "metadata": {
        "id": "l3Bfgh5EhtRf"
      },
      "execution_count": 36,
      "outputs": []
    },
    {
      "cell_type": "code",
      "source": [
        "def df_lines(num_lines):\n",
        "  myfile = open('CLA_001.csv', 'w')\n",
        "  df_str = '' + head_line() + '\\n'\n",
        "  myfile.writelines(df_str)\n",
        "  for _ in range(num_lines):\n",
        "    CUSTOMER_TYPE = DS_CUSTOMER_TYPE()\n",
        "    CUSTOMER_SUB_SEGMENT = DS_CUSTOMER_SUB_SEGMENT()\n",
        "    NUMBER_LINES = DS_NUMBER_LINES(CUSTOMER_TYPE)\n",
        "    ACTIVATED_CL = DS_ACTIVATED_CL(CUSTOMER_TYPE, CUSTOMER_SUB_SEGMENT, NUMBER_LINES)\n",
        "\n",
        "    df_str = '' + ACTIVATED_CL \\\n",
        "      + ',' + NUMBER_LINES \\\n",
        "      + ',' + CUSTOMER_TYPE \\\n",
        "      + ',' + CUSTOMER_SUB_SEGMENT \\\n",
        "      + '\\n'\n",
        "    myfile.writelines(df_str)\n",
        "  myfile.close()"
      ],
      "metadata": {
        "id": "NZmXr_rcivrp"
      },
      "execution_count": 37,
      "outputs": []
    },
    {
      "cell_type": "markdown",
      "source": [
        "##DF Simulation"
      ],
      "metadata": {
        "id": "chGsEBFtR7lp"
      }
    },
    {
      "cell_type": "code",
      "source": [
        "df_str = df_lines(300000)"
      ],
      "metadata": {
        "id": "pZw_VR9SSAQM"
      },
      "execution_count": 38,
      "outputs": []
    },
    {
      "cell_type": "markdown",
      "source": [
        "## DF"
      ],
      "metadata": {
        "id": "ca07GyexoanX"
      }
    },
    {
      "cell_type": "code",
      "source": [
        "df = pd.read_csv('/content/CLA_001.csv')# Это то, куда вы скачали файл\n",
        "# Количество и критерии\n",
        "print(df.shape)"
      ],
      "metadata": {
        "colab": {
          "base_uri": "https://localhost:8080/"
        },
        "id": "Mecq1VFmodZf",
        "outputId": "13fad942-a8df-4e16-a992-73e79817749e"
      },
      "execution_count": 39,
      "outputs": [
        {
          "output_type": "stream",
          "name": "stdout",
          "text": [
            "(300000, 4)\n"
          ]
        }
      ]
    },
    {
      "cell_type": "code",
      "source": [
        "df.head()"
      ],
      "metadata": {
        "colab": {
          "base_uri": "https://localhost:8080/",
          "height": 206
        },
        "id": "G7tSLieJpHdR",
        "outputId": "4e9a9150-4de3-483a-a35d-34e28d26ea4f"
      },
      "execution_count": 40,
      "outputs": [
        {
          "output_type": "execute_result",
          "data": {
            "text/plain": [
              "   ACTIVATED_CL  NUMBER_LINES                 CUSTOMER_TYPE  \\\n",
              "0           182             9  Residential Customer Account   \n",
              "1           915            51     Business Customer Account   \n",
              "2          1726           171     Business Customer Account   \n",
              "3           102             3  Residential Customer Account   \n",
              "4            83             2  Residential Customer Account   \n",
              "\n",
              "  CUSTOMER_SUB_SEGMENT  \n",
              "0   Fixed & Mobile UAE  \n",
              "1           Mobile UAE  \n",
              "2         Mobile Expat  \n",
              "3           Mobile UAE  \n",
              "4            Fixed UAE  "
            ],
            "text/html": [
              "\n",
              "  <div id=\"df-cef606b3-991b-4413-9ec5-540c9da3ca84\">\n",
              "    <div class=\"colab-df-container\">\n",
              "      <div>\n",
              "<style scoped>\n",
              "    .dataframe tbody tr th:only-of-type {\n",
              "        vertical-align: middle;\n",
              "    }\n",
              "\n",
              "    .dataframe tbody tr th {\n",
              "        vertical-align: top;\n",
              "    }\n",
              "\n",
              "    .dataframe thead th {\n",
              "        text-align: right;\n",
              "    }\n",
              "</style>\n",
              "<table border=\"1\" class=\"dataframe\">\n",
              "  <thead>\n",
              "    <tr style=\"text-align: right;\">\n",
              "      <th></th>\n",
              "      <th>ACTIVATED_CL</th>\n",
              "      <th>NUMBER_LINES</th>\n",
              "      <th>CUSTOMER_TYPE</th>\n",
              "      <th>CUSTOMER_SUB_SEGMENT</th>\n",
              "    </tr>\n",
              "  </thead>\n",
              "  <tbody>\n",
              "    <tr>\n",
              "      <th>0</th>\n",
              "      <td>182</td>\n",
              "      <td>9</td>\n",
              "      <td>Residential Customer Account</td>\n",
              "      <td>Fixed &amp; Mobile UAE</td>\n",
              "    </tr>\n",
              "    <tr>\n",
              "      <th>1</th>\n",
              "      <td>915</td>\n",
              "      <td>51</td>\n",
              "      <td>Business Customer Account</td>\n",
              "      <td>Mobile UAE</td>\n",
              "    </tr>\n",
              "    <tr>\n",
              "      <th>2</th>\n",
              "      <td>1726</td>\n",
              "      <td>171</td>\n",
              "      <td>Business Customer Account</td>\n",
              "      <td>Mobile Expat</td>\n",
              "    </tr>\n",
              "    <tr>\n",
              "      <th>3</th>\n",
              "      <td>102</td>\n",
              "      <td>3</td>\n",
              "      <td>Residential Customer Account</td>\n",
              "      <td>Mobile UAE</td>\n",
              "    </tr>\n",
              "    <tr>\n",
              "      <th>4</th>\n",
              "      <td>83</td>\n",
              "      <td>2</td>\n",
              "      <td>Residential Customer Account</td>\n",
              "      <td>Fixed UAE</td>\n",
              "    </tr>\n",
              "  </tbody>\n",
              "</table>\n",
              "</div>\n",
              "      <button class=\"colab-df-convert\" onclick=\"convertToInteractive('df-cef606b3-991b-4413-9ec5-540c9da3ca84')\"\n",
              "              title=\"Convert this dataframe to an interactive table.\"\n",
              "              style=\"display:none;\">\n",
              "        \n",
              "  <svg xmlns=\"http://www.w3.org/2000/svg\" height=\"24px\"viewBox=\"0 0 24 24\"\n",
              "       width=\"24px\">\n",
              "    <path d=\"M0 0h24v24H0V0z\" fill=\"none\"/>\n",
              "    <path d=\"M18.56 5.44l.94 2.06.94-2.06 2.06-.94-2.06-.94-.94-2.06-.94 2.06-2.06.94zm-11 1L8.5 8.5l.94-2.06 2.06-.94-2.06-.94L8.5 2.5l-.94 2.06-2.06.94zm10 10l.94 2.06.94-2.06 2.06-.94-2.06-.94-.94-2.06-.94 2.06-2.06.94z\"/><path d=\"M17.41 7.96l-1.37-1.37c-.4-.4-.92-.59-1.43-.59-.52 0-1.04.2-1.43.59L10.3 9.45l-7.72 7.72c-.78.78-.78 2.05 0 2.83L4 21.41c.39.39.9.59 1.41.59.51 0 1.02-.2 1.41-.59l7.78-7.78 2.81-2.81c.8-.78.8-2.07 0-2.86zM5.41 20L4 18.59l7.72-7.72 1.47 1.35L5.41 20z\"/>\n",
              "  </svg>\n",
              "      </button>\n",
              "      \n",
              "  <style>\n",
              "    .colab-df-container {\n",
              "      display:flex;\n",
              "      flex-wrap:wrap;\n",
              "      gap: 12px;\n",
              "    }\n",
              "\n",
              "    .colab-df-convert {\n",
              "      background-color: #E8F0FE;\n",
              "      border: none;\n",
              "      border-radius: 50%;\n",
              "      cursor: pointer;\n",
              "      display: none;\n",
              "      fill: #1967D2;\n",
              "      height: 32px;\n",
              "      padding: 0 0 0 0;\n",
              "      width: 32px;\n",
              "    }\n",
              "\n",
              "    .colab-df-convert:hover {\n",
              "      background-color: #E2EBFA;\n",
              "      box-shadow: 0px 1px 2px rgba(60, 64, 67, 0.3), 0px 1px 3px 1px rgba(60, 64, 67, 0.15);\n",
              "      fill: #174EA6;\n",
              "    }\n",
              "\n",
              "    [theme=dark] .colab-df-convert {\n",
              "      background-color: #3B4455;\n",
              "      fill: #D2E3FC;\n",
              "    }\n",
              "\n",
              "    [theme=dark] .colab-df-convert:hover {\n",
              "      background-color: #434B5C;\n",
              "      box-shadow: 0px 1px 3px 1px rgba(0, 0, 0, 0.15);\n",
              "      filter: drop-shadow(0px 1px 2px rgba(0, 0, 0, 0.3));\n",
              "      fill: #FFFFFF;\n",
              "    }\n",
              "  </style>\n",
              "\n",
              "      <script>\n",
              "        const buttonEl =\n",
              "          document.querySelector('#df-cef606b3-991b-4413-9ec5-540c9da3ca84 button.colab-df-convert');\n",
              "        buttonEl.style.display =\n",
              "          google.colab.kernel.accessAllowed ? 'block' : 'none';\n",
              "\n",
              "        async function convertToInteractive(key) {\n",
              "          const element = document.querySelector('#df-cef606b3-991b-4413-9ec5-540c9da3ca84');\n",
              "          const dataTable =\n",
              "            await google.colab.kernel.invokeFunction('convertToInteractive',\n",
              "                                                     [key], {});\n",
              "          if (!dataTable) return;\n",
              "\n",
              "          const docLinkHtml = 'Like what you see? Visit the ' +\n",
              "            '<a target=\"_blank\" href=https://colab.research.google.com/notebooks/data_table.ipynb>data table notebook</a>'\n",
              "            + ' to learn more about interactive tables.';\n",
              "          element.innerHTML = '';\n",
              "          dataTable['output_type'] = 'display_data';\n",
              "          await google.colab.output.renderOutput(dataTable, element);\n",
              "          const docLink = document.createElement('div');\n",
              "          docLink.innerHTML = docLinkHtml;\n",
              "          element.appendChild(docLink);\n",
              "        }\n",
              "      </script>\n",
              "    </div>\n",
              "  </div>\n",
              "  "
            ]
          },
          "metadata": {},
          "execution_count": 40
        }
      ]
    },
    {
      "cell_type": "code",
      "source": [
        "print(df.columns) #Показываем имена колонок данных"
      ],
      "metadata": {
        "colab": {
          "base_uri": "https://localhost:8080/"
        },
        "id": "z0uHeUlvphjv",
        "outputId": "4476c7b7-5676-40aa-9df6-acd93593e135"
      },
      "execution_count": 41,
      "outputs": [
        {
          "output_type": "stream",
          "name": "stdout",
          "text": [
            "Index(['ACTIVATED_CL', 'NUMBER_LINES', 'CUSTOMER_TYPE',\n",
            "       'CUSTOMER_SUB_SEGMENT'],\n",
            "      dtype='object')\n"
          ]
        }
      ]
    },
    {
      "cell_type": "code",
      "source": [
        "df.dtypes"
      ],
      "metadata": {
        "colab": {
          "base_uri": "https://localhost:8080/"
        },
        "id": "0TIdW0mM0-QF",
        "outputId": "2640a7bf-1262-4110-dc6f-8a54d89fb4c7"
      },
      "execution_count": 42,
      "outputs": [
        {
          "output_type": "execute_result",
          "data": {
            "text/plain": [
              "ACTIVATED_CL             int64\n",
              "NUMBER_LINES             int64\n",
              "CUSTOMER_TYPE           object\n",
              "CUSTOMER_SUB_SEGMENT    object\n",
              "dtype: object"
            ]
          },
          "metadata": {},
          "execution_count": 42
        }
      ]
    },
    {
      "cell_type": "code",
      "source": [
        "# max value in NUMBER_LINES\n",
        "MAX_NUMBER_LINES = df['NUMBER_LINES'].max()\n",
        "print(f'MAX_NUMBER_LINES={MAX_NUMBER_LINES}')"
      ],
      "metadata": {
        "colab": {
          "base_uri": "https://localhost:8080/"
        },
        "id": "AJ-JkKtOkSGu",
        "outputId": "debbff2e-aa41-4e5d-db7d-731eccf819bc"
      },
      "execution_count": 43,
      "outputs": [
        {
          "output_type": "stream",
          "name": "stdout",
          "text": [
            "MAX_NUMBER_LINES=300\n"
          ]
        }
      ]
    },
    {
      "cell_type": "markdown",
      "source": [
        "## Преобразование DF"
      ],
      "metadata": {
        "id": "Z2U8U2KQDOIk"
      }
    },
    {
      "cell_type": "code",
      "source": [
        "# Настройка номеров столбцов\n",
        "# Дальнейшие вычисления не будут зависеть от порядка столбцов в таблице\n",
        "\n",
        "COL_ACTIVATED_CL         = df.columns.get_loc('ACTIVATED_CL')\n",
        "COL_NUMBER_LINES         = df.columns.get_loc('NUMBER_LINES')\n",
        "COL_CUSTOMER_TYPE        = df.columns.get_loc('CUSTOMER_TYPE')\n",
        "COL_CUSTOMER_SUB_SEGMENT = df.columns.get_loc('CUSTOMER_SUB_SEGMENT')"
      ],
      "metadata": {
        "id": "lGOMkoWzY1pM"
      },
      "execution_count": 44,
      "outputs": []
    },
    {
      "cell_type": "code",
      "source": [
        "# Классы CUSTOMER_TYPE\n",
        "CUSTOMER_TYPE_class = [0, \n",
        "                    {'Business Customer Account\t'          : 0,\n",
        "                     'Residential Customer Account' : 1\n",
        "                    }]\n",
        "# Классы CUSTOMER_SUB_SEGMENT\n",
        "CUSTOMER_SUB_SEGMENT_class = [0, \n",
        "              {'Fixed & Mobile Expat' : 0,\n",
        "               'Mobile Expat'         : 1,\n",
        "               'Fixed Expat'          : 2,\n",
        "               'Fixed & Mobile UAE'   : 3,\n",
        "               'Mobile UAE'           : 4,\n",
        "               'Fixed UAE'            : 5\n",
        "                             }]"
      ],
      "metadata": {
        "id": "Dn7vQ8jwDS18"
      },
      "execution_count": 45,
      "outputs": []
    },
    {
      "cell_type": "code",
      "source": [
        "# Вычисление счетчиков для данных разбиения\n",
        "for class_desc in [CUSTOMER_TYPE_class,\n",
        "                   CUSTOMER_SUB_SEGMENT_class]:\n",
        "    if isinstance(class_desc[1], list):\n",
        "        class_desc[0] = len(class_desc[1]) + 1\n",
        "    else:\n",
        "        class_desc[0] = max(class_desc[1].values()) + 1"
      ],
      "metadata": {
        "id": "GvBmaYtfFem3"
      },
      "execution_count": 46,
      "outputs": []
    },
    {
      "cell_type": "code",
      "source": [
        "CUSTOMER_SUB_SEGMENT_class"
      ],
      "metadata": {
        "colab": {
          "base_uri": "https://localhost:8080/"
        },
        "id": "ZLdxu_WlFxj0",
        "outputId": "94498f4f-c75c-433f-d7c4-d7ab03d4c276"
      },
      "execution_count": 47,
      "outputs": [
        {
          "output_type": "execute_result",
          "data": {
            "text/plain": [
              "[6,\n",
              " {'Fixed & Mobile Expat': 0,\n",
              "  'Mobile Expat': 1,\n",
              "  'Fixed Expat': 2,\n",
              "  'Fixed & Mobile UAE': 3,\n",
              "  'Mobile UAE': 4,\n",
              "  'Fixed UAE': 5}]"
            ]
          },
          "metadata": {},
          "execution_count": 47
        }
      ]
    },
    {
      "cell_type": "code",
      "source": [
        "# Общая функция преобразования строки к multi-вектору\n",
        "# На входе данные и словарь сопоставления подстрок классам\n",
        "\n",
        "def str_to_multi(arg, class_dict):\n",
        "    # Определение размерности выходного вектора\n",
        "    num_classes = class_dict[0]\n",
        "\n",
        "    # Создание нулевого вектора\n",
        "    result = np.zeros(num_classes)\n",
        "    \n",
        "    # Поиск значения в словаре и, если найдено,\n",
        "    # выставление 1. на нужной позиции\n",
        "    for value, cls in class_dict[1].items():\n",
        "      # print(f'value={value} cls={cls}')\n",
        "      if value == arg:\n",
        "          result[cls] = 1.\n",
        "\n",
        "    return result\n",
        "\n",
        "def extract_CUSTOMER_SUB_SEGMENT_to_multi(arg):\n",
        "  return str_to_multi(arg, CUSTOMER_SUB_SEGMENT_class)\n",
        "\n",
        "def extract_CUSTOMER_TYPE_to_multi(arg):\n",
        "  return str_to_multi(arg, CUSTOMER_TYPE_class)"
      ],
      "metadata": {
        "id": "wF9FC3oiGmy3"
      },
      "execution_count": 48,
      "outputs": []
    },
    {
      "cell_type": "code",
      "source": [
        "CUSTOMER_SS = 'Fixed & Mobile UAE'\n",
        "extract_CUSTOMER_SUB_SEGMENT_to_multi(CUSTOMER_SS)"
      ],
      "metadata": {
        "colab": {
          "base_uri": "https://localhost:8080/"
        },
        "id": "GU4hxd3qHYNO",
        "outputId": "ac44ae27-a53f-4e0c-bcd7-9476279e71d0"
      },
      "execution_count": 49,
      "outputs": [
        {
          "output_type": "execute_result",
          "data": {
            "text/plain": [
              "array([0., 0., 0., 1., 0., 0.])"
            ]
          },
          "metadata": {},
          "execution_count": 49
        }
      ]
    },
    {
      "cell_type": "code",
      "source": [
        "CUSTOMER_TYPE = 'Residential Customer Account'\n",
        "extract_CUSTOMER_TYPE_to_multi(CUSTOMER_TYPE)"
      ],
      "metadata": {
        "colab": {
          "base_uri": "https://localhost:8080/"
        },
        "id": "ur7fOke7BxlA",
        "outputId": "ea0be90f-6045-4ddd-869c-92efab96e874"
      },
      "execution_count": 50,
      "outputs": [
        {
          "output_type": "execute_result",
          "data": {
            "text/plain": [
              "array([0., 1.])"
            ]
          },
          "metadata": {},
          "execution_count": 50
        }
      ]
    },
    {
      "cell_type": "code",
      "source": [
        "def extract_NUMBER_LINES_Category(arg, MAX_NUMBER_LINES):\n",
        "  NUMBER_LINES = utils.to_categorical(arg, MAX_NUMBER_LINES+1) #Превращаем в категорию\n",
        "  return NUMBER_LINES\n",
        "\n",
        "# extract_NUMBER_LINES_Category(1,10)"
      ],
      "metadata": {
        "id": "Wc49YGTtpte8"
      },
      "execution_count": 51,
      "outputs": []
    },
    {
      "cell_type": "code",
      "source": [
        "def extract_row_data(row):\n",
        "  ACTIVATED_CL = int(row[COL_ACTIVATED_CL])\n",
        "  ACTIVATED_CL_vec = np.array([ACTIVATED_CL])\n",
        "\n",
        "  NUMBER_LINES = int(row[COL_NUMBER_LINES])\n",
        "  # NUMBER_LINES_vec = np.array([NUMBER_LINES])\n",
        "  NUMBER_LINES_vec = extract_NUMBER_LINES_Category(NUMBER_LINES, MAX_NUMBER_LINES)\n",
        "  \n",
        "  CUSTOMER_TYPE_ohe = extract_CUSTOMER_TYPE_to_multi(row[COL_CUSTOMER_TYPE])\n",
        "  CUSTOMER_SUB_SEGMENT_ohe = extract_CUSTOMER_SUB_SEGMENT_to_multi(row[COL_CUSTOMER_SUB_SEGMENT])\n",
        "\n",
        "  # Объединение всех входных данных в один общий вектор\n",
        "  x_data = np.hstack([NUMBER_LINES_vec, \n",
        "                      CUSTOMER_TYPE_ohe,\n",
        "                      CUSTOMER_SUB_SEGMENT_ohe])\n",
        "    \n",
        "  # Возврат входных данных и выходных (зарплаты)\n",
        "  return x_data, ACTIVATED_CL_vec\n",
        "\n",
        "  # Создание общей выборки\n",
        "def construct_train_data(row_list):\n",
        "    x_data = []\n",
        "    y_data = []\n",
        "    \n",
        "    for row in row_list:\n",
        "        x, y = extract_row_data(row)\n",
        "        if y[0] > 0:                      \n",
        "            x_data.append(x)\n",
        "            y_data.append(y)\n",
        "\n",
        "    return np.array(x_data), np.array(y_data)\n"
      ],
      "metadata": {
        "id": "eGZ2W7VICZiY"
      },
      "execution_count": 52,
      "outputs": []
    },
    {
      "cell_type": "code",
      "source": [
        "# Формирование выборки из загруженного набора данных    \n",
        "x_train, y_train = construct_train_data(df.values)"
      ],
      "metadata": {
        "id": "CCrA0l3wSnwM"
      },
      "execution_count": 53,
      "outputs": []
    },
    {
      "cell_type": "code",
      "source": [
        "# Для нормализации данных используется готовый инструмент\n",
        "y_scaler = StandardScaler()\n",
        "\n",
        "# Нормализация выходных данных по стандартному нормальному распределению\n",
        "y_train = y_scaler.fit_transform(y_train)"
      ],
      "metadata": {
        "id": "N4ifcNZBaYGW"
      },
      "execution_count": 54,
      "outputs": []
    },
    {
      "cell_type": "code",
      "source": [
        "joblib.dump(y_scaler, 'std_scaler.bin', compress=True)"
      ],
      "metadata": {
        "colab": {
          "base_uri": "https://localhost:8080/"
        },
        "id": "6uvURbpYlkE9",
        "outputId": "2e14b7f4-a262-4a95-8237-3ebc8953027b"
      },
      "execution_count": 55,
      "outputs": [
        {
          "output_type": "execute_result",
          "data": {
            "text/plain": [
              "['std_scaler.bin']"
            ]
          },
          "metadata": {},
          "execution_count": 55
        }
      ]
    },
    {
      "cell_type": "code",
      "source": [
        "# Проверка нормализации\n",
        "print(y_train.shape)\n",
        "print(f'Оригинальное значение CL:  {y_train[1, 0]}')\n",
        "print(f'Нормированное значение CL: {y_train[1, 0]}')\n",
        "\n",
        "# Вывод границ ненормализованных и нормализованных данных\n",
        "print(y_train.mean(), y_train.std())\n",
        "print(y_train.mean(), y_train.std())"
      ],
      "metadata": {
        "colab": {
          "base_uri": "https://localhost:8080/"
        },
        "id": "E_tMURyZaeUe",
        "outputId": "22af6667-9a9a-4ea1-e392-960792812862"
      },
      "execution_count": 56,
      "outputs": [
        {
          "output_type": "stream",
          "name": "stdout",
          "text": [
            "(299946, 1)\n",
            "Оригинальное значение CL:  -0.1633510279584492\n",
            "Нормированное значение CL: -0.1633510279584492\n",
            "-7.864755265026146e-18 1.0\n",
            "-7.864755265026146e-18 1.0\n"
          ]
        }
      ]
    },
    {
      "cell_type": "code",
      "source": [
        "# В итоге мы получаем следующие наборы данных:\n",
        "print(x_train.shape) \n",
        "print(y_train.shape)\n",
        "print(type(x_train), type(y_train))\n",
        "\n",
        "# Пример обработанных данных\n",
        "n = 0 \n",
        "print(x_train[n])\n",
        "print(y_train[n])"
      ],
      "metadata": {
        "colab": {
          "base_uri": "https://localhost:8080/"
        },
        "id": "mJodAOtxaqfB",
        "outputId": "6716b671-7c9e-4d2d-af10-ba9ac445eb52"
      },
      "execution_count": 57,
      "outputs": [
        {
          "output_type": "stream",
          "name": "stdout",
          "text": [
            "(299946, 309)\n",
            "(299946, 1)\n",
            "<class 'numpy.ndarray'> <class 'numpy.ndarray'>\n",
            "[0. 0. 0. 0. 0. 0. 0. 0. 0. 1. 0. 0. 0. 0. 0. 0. 0. 0. 0. 0. 0. 0. 0. 0.\n",
            " 0. 0. 0. 0. 0. 0. 0. 0. 0. 0. 0. 0. 0. 0. 0. 0. 0. 0. 0. 0. 0. 0. 0. 0.\n",
            " 0. 0. 0. 0. 0. 0. 0. 0. 0. 0. 0. 0. 0. 0. 0. 0. 0. 0. 0. 0. 0. 0. 0. 0.\n",
            " 0. 0. 0. 0. 0. 0. 0. 0. 0. 0. 0. 0. 0. 0. 0. 0. 0. 0. 0. 0. 0. 0. 0. 0.\n",
            " 0. 0. 0. 0. 0. 0. 0. 0. 0. 0. 0. 0. 0. 0. 0. 0. 0. 0. 0. 0. 0. 0. 0. 0.\n",
            " 0. 0. 0. 0. 0. 0. 0. 0. 0. 0. 0. 0. 0. 0. 0. 0. 0. 0. 0. 0. 0. 0. 0. 0.\n",
            " 0. 0. 0. 0. 0. 0. 0. 0. 0. 0. 0. 0. 0. 0. 0. 0. 0. 0. 0. 0. 0. 0. 0. 0.\n",
            " 0. 0. 0. 0. 0. 0. 0. 0. 0. 0. 0. 0. 0. 0. 0. 0. 0. 0. 0. 0. 0. 0. 0. 0.\n",
            " 0. 0. 0. 0. 0. 0. 0. 0. 0. 0. 0. 0. 0. 0. 0. 0. 0. 0. 0. 0. 0. 0. 0. 0.\n",
            " 0. 0. 0. 0. 0. 0. 0. 0. 0. 0. 0. 0. 0. 0. 0. 0. 0. 0. 0. 0. 0. 0. 0. 0.\n",
            " 0. 0. 0. 0. 0. 0. 0. 0. 0. 0. 0. 0. 0. 0. 0. 0. 0. 0. 0. 0. 0. 0. 0. 0.\n",
            " 0. 0. 0. 0. 0. 0. 0. 0. 0. 0. 0. 0. 0. 0. 0. 0. 0. 0. 0. 0. 0. 0. 0. 0.\n",
            " 0. 0. 0. 0. 0. 0. 0. 0. 0. 0. 0. 0. 0. 0. 1. 0. 0. 0. 1. 0. 0.]\n",
            "[-0.7817697]\n"
          ]
        }
      ]
    },
    {
      "cell_type": "markdown",
      "source": [
        "## Обучение модели"
      ],
      "metadata": {
        "id": "ZiFIyJ34iNx5"
      }
    },
    {
      "cell_type": "code",
      "source": [
        "# Функция отрисовки графика истории обучения\n",
        "def plot_history(history):\n",
        "    plt.plot(history.history['mae'], \n",
        "            label='Средняя абсолютная ошибка на обучающем наборе')\n",
        "    plt.plot(history.history['val_mae'], \n",
        "            label='Средняя абсолютная ошибка на проверочном наборе')\n",
        "    plt.xlabel('Эпоха обучения')\n",
        "    plt.ylabel('Средняя абсолютная ошибка')\n",
        "    plt.legend()\n",
        "    plt.show()"
      ],
      "metadata": {
        "id": "N-EXLhRgiQEp"
      },
      "execution_count": 58,
      "outputs": []
    },
    {
      "cell_type": "code",
      "source": [
        "# Обучение модели на простых данных с нормализованной зарплатой\n",
        "model = Sequential()\n",
        "model.add(BatchNormalization(input_dim=x_train.shape[1]))\n",
        "model.add(Dense(128, activation='relu'))\n",
        "model.add(Dense(1000, activation='tanh'))\n",
        "model.add(Dense(100, activation='relu'))\n",
        "model.add(Dense(1, activation='linear'))\n",
        "\n",
        "utils.plot_model(model, show_shapes=True)"
      ],
      "metadata": {
        "colab": {
          "base_uri": "https://localhost:8080/",
          "height": 644
        },
        "id": "rRKjQwVXdyI8",
        "outputId": "171072e8-fd8b-4a1e-8992-b3b8854d8c00"
      },
      "execution_count": 59,
      "outputs": [
        {
          "output_type": "execute_result",
          "data": {
            "image/png": "[encoded data removed]",
            "text/plain": [
              "<IPython.core.display.Image object>"
            ]
          },
          "metadata": {},
          "execution_count": 59
        }
      ]
    },
    {
      "cell_type": "code",
      "source": [
        "model.compile(optimizer=Adam(learning_rate=1e-5), loss='mse', metrics=['mae'])\n",
        "\n",
        "history = model.fit(x_train, \n",
        "                    y_train, \n",
        "                    epochs=50, \n",
        "                    batch_size=256,\n",
        "                    validation_split=0.15, \n",
        "                    verbose=1)\n",
        "\n",
        "plot_history(history)"
      ],
      "metadata": {
        "colab": {
          "base_uri": "https://localhost:8080/",
          "height": 1000
        },
        "id": "WmjPGS-zxcvG",
        "outputId": "6ff93a1d-09ab-4f5f-e1f3-89e027b8ef25"
      },
      "execution_count": 60,
      "outputs": [
        {
          "output_type": "stream",
          "name": "stdout",
          "text": [
            "Epoch 1/50\n",
            "996/996 [==============================] - 11s 5ms/step - loss: 0.3048 - mae: 0.4136 - val_loss: 0.0940 - val_mae: 0.2004\n",
            "Epoch 2/50\n",
            "996/996 [==============================] - 5s 5ms/step - loss: 0.0497 - mae: 0.1559 - val_loss: 0.0944 - val_mae: 0.1952\n",
            "Epoch 3/50\n",
            "996/996 [==============================] - 4s 4ms/step - loss: 0.0372 - mae: 0.1365 - val_loss: 0.0749 - val_mae: 0.1840\n",
            "Epoch 4/50\n",
            "996/996 [==============================] - 4s 4ms/step - loss: 0.0347 - mae: 0.1310 - val_loss: 0.0691 - val_mae: 0.1730\n",
            "Epoch 5/50\n",
            "996/996 [==============================] - 5s 5ms/step - loss: 0.0328 - mae: 0.1271 - val_loss: 0.0673 - val_mae: 0.1668\n",
            "Epoch 6/50\n",
            "996/996 [==============================] - 4s 4ms/step - loss: 0.0310 - mae: 0.1232 - val_loss: 0.0637 - val_mae: 0.1586\n",
            "Epoch 7/50\n",
            "996/996 [==============================] - 5s 5ms/step - loss: 0.0300 - mae: 0.1211 - val_loss: 0.0536 - val_mae: 0.1572\n",
            "Epoch 8/50\n",
            "996/996 [==============================] - 4s 4ms/step - loss: 0.0288 - mae: 0.1185 - val_loss: 0.0506 - val_mae: 0.1480\n",
            "Epoch 9/50\n",
            "996/996 [==============================] - 4s 4ms/step - loss: 0.0279 - mae: 0.1162 - val_loss: 0.0490 - val_mae: 0.1433\n",
            "Epoch 10/50\n",
            "996/996 [==============================] - 5s 5ms/step - loss: 0.0269 - mae: 0.1137 - val_loss: 0.0449 - val_mae: 0.1377\n",
            "Epoch 11/50\n",
            "996/996 [==============================] - 4s 4ms/step - loss: 0.0261 - mae: 0.1114 - val_loss: 0.0405 - val_mae: 0.1321\n",
            "Epoch 12/50\n",
            "996/996 [==============================] - 4s 4ms/step - loss: 0.0254 - mae: 0.1100 - val_loss: 0.0374 - val_mae: 0.1330\n",
            "Epoch 13/50\n",
            "996/996 [==============================] - 5s 5ms/step - loss: 0.0249 - mae: 0.1081 - val_loss: 0.0348 - val_mae: 0.1265\n",
            "Epoch 14/50\n",
            "996/996 [==============================] - 4s 4ms/step - loss: 0.0241 - mae: 0.1059 - val_loss: 0.0335 - val_mae: 0.1234\n",
            "Epoch 15/50\n",
            "996/996 [==============================] - 4s 4ms/step - loss: 0.0239 - mae: 0.1052 - val_loss: 0.0316 - val_mae: 0.1169\n",
            "Epoch 16/50\n",
            "996/996 [==============================] - 5s 5ms/step - loss: 0.0234 - mae: 0.1041 - val_loss: 0.0317 - val_mae: 0.1215\n",
            "Epoch 17/50\n",
            "996/996 [==============================] - 4s 4ms/step - loss: 0.0231 - mae: 0.1034 - val_loss: 0.0302 - val_mae: 0.1203\n",
            "Epoch 18/50\n",
            "996/996 [==============================] - 4s 4ms/step - loss: 0.0229 - mae: 0.1026 - val_loss: 0.0288 - val_mae: 0.1193\n",
            "Epoch 19/50\n",
            "996/996 [==============================] - 4s 5ms/step - loss: 0.0226 - mae: 0.1020 - val_loss: 0.0280 - val_mae: 0.1141\n",
            "Epoch 20/50\n",
            "996/996 [==============================] - 4s 4ms/step - loss: 0.0224 - mae: 0.1013 - val_loss: 0.0273 - val_mae: 0.1144\n",
            "Epoch 21/50\n",
            "996/996 [==============================] - 5s 5ms/step - loss: 0.0223 - mae: 0.1011 - val_loss: 0.0266 - val_mae: 0.1105\n",
            "Epoch 22/50\n",
            "996/996 [==============================] - 4s 4ms/step - loss: 0.0221 - mae: 0.1004 - val_loss: 0.0261 - val_mae: 0.1129\n",
            "Epoch 23/50\n",
            "996/996 [==============================] - 4s 4ms/step - loss: 0.0219 - mae: 0.0998 - val_loss: 0.0247 - val_mae: 0.1086\n",
            "Epoch 24/50\n",
            "996/996 [==============================] - 5s 5ms/step - loss: 0.0217 - mae: 0.0995 - val_loss: 0.0246 - val_mae: 0.1062\n",
            "Epoch 25/50\n",
            "996/996 [==============================] - 4s 4ms/step - loss: 0.0216 - mae: 0.0992 - val_loss: 0.0246 - val_mae: 0.1046\n",
            "Epoch 26/50\n",
            "996/996 [==============================] - 4s 4ms/step - loss: 0.0216 - mae: 0.0991 - val_loss: 0.0251 - val_mae: 0.1136\n",
            "Epoch 27/50\n",
            "996/996 [==============================] - 4s 5ms/step - loss: 0.0215 - mae: 0.0989 - val_loss: 0.0236 - val_mae: 0.1072\n",
            "Epoch 28/50\n",
            "996/996 [==============================] - 4s 4ms/step - loss: 0.0214 - mae: 0.0985 - val_loss: 0.0241 - val_mae: 0.1025\n",
            "Epoch 29/50\n",
            "996/996 [==============================] - 5s 5ms/step - loss: 0.0212 - mae: 0.0980 - val_loss: 0.0230 - val_mae: 0.1054\n",
            "Epoch 30/50\n",
            "996/996 [==============================] - 4s 4ms/step - loss: 0.0212 - mae: 0.0979 - val_loss: 0.0232 - val_mae: 0.1054\n",
            "Epoch 31/50\n",
            "996/996 [==============================] - 4s 4ms/step - loss: 0.0211 - mae: 0.0977 - val_loss: 0.0223 - val_mae: 0.0994\n",
            "Epoch 32/50\n",
            "996/996 [==============================] - 5s 5ms/step - loss: 0.0212 - mae: 0.0978 - val_loss: 0.0227 - val_mae: 0.1019\n",
            "Epoch 33/50\n",
            "996/996 [==============================] - 4s 4ms/step - loss: 0.0210 - mae: 0.0974 - val_loss: 0.0238 - val_mae: 0.1109\n",
            "Epoch 34/50\n",
            "996/996 [==============================] - 4s 4ms/step - loss: 0.0210 - mae: 0.0973 - val_loss: 0.0224 - val_mae: 0.1010\n",
            "Epoch 35/50\n",
            "996/996 [==============================] - 5s 5ms/step - loss: 0.0209 - mae: 0.0971 - val_loss: 0.0220 - val_mae: 0.0998\n",
            "Epoch 36/50\n",
            "996/996 [==============================] - 4s 4ms/step - loss: 0.0209 - mae: 0.0969 - val_loss: 0.0225 - val_mae: 0.1044\n",
            "Epoch 37/50\n",
            "996/996 [==============================] - 4s 4ms/step - loss: 0.0209 - mae: 0.0969 - val_loss: 0.0221 - val_mae: 0.1000\n",
            "Epoch 38/50\n",
            "996/996 [==============================] - 5s 5ms/step - loss: 0.0208 - mae: 0.0967 - val_loss: 0.0219 - val_mae: 0.0982\n",
            "Epoch 39/50\n",
            "996/996 [==============================] - 4s 4ms/step - loss: 0.0208 - mae: 0.0964 - val_loss: 0.0222 - val_mae: 0.1024\n",
            "Epoch 40/50\n",
            "996/996 [==============================] - 5s 5ms/step - loss: 0.0207 - mae: 0.0962 - val_loss: 0.0220 - val_mae: 0.1013\n",
            "Epoch 41/50\n",
            "996/996 [==============================] - 4s 4ms/step - loss: 0.0208 - mae: 0.0965 - val_loss: 0.0218 - val_mae: 0.1007\n",
            "Epoch 42/50\n",
            "996/996 [==============================] - 4s 4ms/step - loss: 0.0207 - mae: 0.0963 - val_loss: 0.0218 - val_mae: 0.1001\n",
            "Epoch 43/50\n",
            "996/996 [==============================] - 5s 5ms/step - loss: 0.0207 - mae: 0.0960 - val_loss: 0.0217 - val_mae: 0.0987\n",
            "Epoch 44/50\n",
            "996/996 [==============================] - 5s 5ms/step - loss: 0.0206 - mae: 0.0960 - val_loss: 0.0215 - val_mae: 0.0986\n",
            "Epoch 45/50\n",
            "996/996 [==============================] - 4s 4ms/step - loss: 0.0206 - mae: 0.0959 - val_loss: 0.0217 - val_mae: 0.0987\n",
            "Epoch 46/50\n",
            "996/996 [==============================] - 5s 5ms/step - loss: 0.0206 - mae: 0.0959 - val_loss: 0.0215 - val_mae: 0.0984\n",
            "Epoch 47/50\n",
            "996/996 [==============================] - 4s 4ms/step - loss: 0.0206 - mae: 0.0958 - val_loss: 0.0215 - val_mae: 0.1005\n",
            "Epoch 48/50\n",
            "996/996 [==============================] - 5s 5ms/step - loss: 0.0205 - mae: 0.0956 - val_loss: 0.0216 - val_mae: 0.1022\n",
            "Epoch 49/50\n",
            "996/996 [==============================] - 4s 4ms/step - loss: 0.0206 - mae: 0.0956 - val_loss: 0.0215 - val_mae: 0.0975\n",
            "Epoch 50/50\n",
            "996/996 [==============================] - 4s 4ms/step - loss: 0.0205 - mae: 0.0956 - val_loss: 0.0221 - val_mae: 0.0967\n"
          ]
        },
        {
          "output_type": "display_data",
          "data": {
            "text/plain": [
              "<Figure size 432x288 with 1 Axes>"
            ],
            "image/png": "[encoded data removed]"
          },
          "metadata": {
            "needs_background": "light"
          }
        }
      ]
    },
    {
      "cell_type": "code",
      "source": [
        "# Проверка работы сети - предсказание на тренировочной выборке\n",
        "pred = model.predict(x_train)\n",
        "\n",
        "# Расчет среднего значения ошибки \n",
        "print((abs(pred - y_train)).mean())         # Расчет вручную\n",
        "print(mean_absolute_error(pred, y_train))   # Расчет с помощью готовой функции"
      ],
      "metadata": {
        "colab": {
          "base_uri": "https://localhost:8080/"
        },
        "id": "Tr9Mf9imaKzW",
        "outputId": "1c1fa37e-7020-4725-ed18-da925f0d6ad2"
      },
      "execution_count": 61,
      "outputs": [
        {
          "output_type": "stream",
          "name": "stdout",
          "text": [
            "9374/9374 [==============================] - 16s 2ms/step\n",
            "0.0966038312103975\n",
            "0.0966038312103975\n"
          ]
        }
      ]
    },
    {
      "cell_type": "code",
      "source": [
        "# Сохраняем саму модель\n",
        "# Сериализация в JSON\n",
        "model_json = model.to_json()\n",
        "with open(\"/content/model.json\", \"w\") as json_file:\n",
        "    json_file.write(model_json)\n",
        "# Сохраняем(сериализуем) веса  в формате HDF5\n",
        "model.save_weights(\"/content/model.h5\")\n",
        "print(\"Сохранено\")"
      ],
      "metadata": {
        "colab": {
          "base_uri": "https://localhost:8080/"
        },
        "id": "wokVXgkfSLl1",
        "outputId": "14b939b3-7f4f-4aba-84d7-d29cc1cc2ba2"
      },
      "execution_count": 62,
      "outputs": [
        {
          "output_type": "stream",
          "name": "stdout",
          "text": [
            "Сохранено\n"
          ]
        }
      ]
    },
    {
      "cell_type": "code",
      "source": [
        "# Открываем json файл разметки модели\n",
        "json_file = open('/content/model.json','r') \n",
        "loaded_model_json = json_file.read() # считываем\n",
        "json_file.close() # закрываем\n",
        "loaded_model = model_from_json(loaded_model_json) # используем керас, чтобы считать разметку архитектуры\n",
        "loaded_model.summary()\n",
        "loaded_model.load_weights(\"/content/model.h5\") # подгружаем веса\n",
        "print(\"Загружено с диска\")"
      ],
      "metadata": {
        "colab": {
          "base_uri": "https://localhost:8080/"
        },
        "id": "6MwXp8k1TGm2",
        "outputId": "398a50fa-527f-44ea-c20a-bb875143cc7a"
      },
      "execution_count": 63,
      "outputs": [
        {
          "output_type": "stream",
          "name": "stdout",
          "text": [
            "Model: \"sequential\"\n",
            "_________________________________________________________________\n",
            " Layer (type)                Output Shape              Param #   \n",
            "=================================================================\n",
            " batch_normalization (BatchN  (None, 309)              1236      \n",
            " ormalization)                                                   \n",
            "                                                                 \n",
            " dense (Dense)               (None, 128)               39680     \n",
            "                                                                 \n",
            " dense_1 (Dense)             (None, 1000)              129000    \n",
            "                                                                 \n",
            " dense_2 (Dense)             (None, 100)               100100    \n",
            "                                                                 \n",
            " dense_3 (Dense)             (None, 1)                 101       \n",
            "                                                                 \n",
            "=================================================================\n",
            "Total params: 270,117\n",
            "Trainable params: 269,499\n",
            "Non-trainable params: 618\n",
            "_________________________________________________________________\n",
            "Загружено с диска\n"
          ]
        }
      ]
    },
    {
      "cell_type": "code",
      "source": [
        "def data_preparation(NUMBER_LINES, CUSTOMER_TYPE, CUSTOMER_SUB_SEGMENT):\n",
        "  NUMBER_LINES_vec = extract_NUMBER_LINES_Category(NUMBER_LINES, MAX_NUMBER_LINES)\n",
        "  CUSTOMER_TYPE_ohe = extract_CUSTOMER_TYPE_to_multi(CUSTOMER_TYPE)\n",
        "  CUSTOMER_SUB_SEGMENT_ohe = extract_CUSTOMER_SUB_SEGMENT_to_multi(CUSTOMER_SUB_SEGMENT)\n",
        "  x_data = np.hstack([NUMBER_LINES_vec, \n",
        "                        CUSTOMER_TYPE_ohe,\n",
        "                        CUSTOMER_SUB_SEGMENT_ohe])\n",
        "  # print(type(x_data))\n",
        "  # print(x_data.shape)\n",
        "  x_data = x_data.reshape(1, x_data.shape[0])\n",
        "  # print(type(x_data))\n",
        "  # print(x_data.shape)\n",
        "  return x_data"
      ],
      "metadata": {
        "id": "bVRIYGNJAmOl"
      },
      "execution_count": 64,
      "outputs": []
    },
    {
      "cell_type": "code",
      "source": [
        "NUMBER_LINES = 10\n",
        "CUSTOMER_TYPE = 'Residential Customer Account'\n",
        "CUSTOMER_SUB_SEGMENT = 'Fixed UAE'\n",
        "\n",
        "x_data = data_preparation(NUMBER_LINES, CUSTOMER_TYPE, CUSTOMER_SUB_SEGMENT)\n",
        "pred = loaded_model.predict(x_data)             # Предсказание на тренировочной выборке\n",
        "# print(type(pred))\n",
        "# print(pred.shape)\n",
        "pred = y_scaler.inverse_transform(pred)\n",
        "cla = int(pred[0][0])\n",
        "print (cla)"
      ],
      "metadata": {
        "colab": {
          "base_uri": "https://localhost:8080/"
        },
        "id": "DDsghMZA8JhO",
        "outputId": "8a23e420-786d-47ad-b7e3-a0a715be0c00"
      },
      "execution_count": 66,
      "outputs": [
        {
          "output_type": "stream",
          "name": "stdout",
          "text": [
            "1/1 [==============================] - 0s 121ms/step\n",
            "169\n"
          ]
        }
      ]
    },
    {
      "cell_type": "code",
      "source": [
        "NUMBER_LINES = 100\n",
        "CUSTOMER_TYPE = 'Business Customer Account'\n",
        "CUSTOMER_SUB_SEGMENT = 'Fixed UAE'\n",
        "\n",
        "x_data = data_preparation(NUMBER_LINES, CUSTOMER_TYPE, CUSTOMER_SUB_SEGMENT)\n",
        "pred = loaded_model.predict(x_data)             # Предсказание на тренировочной выборке\n",
        "# print(type(pred))\n",
        "# print(pred.shape)\n",
        "pred = y_scaler.inverse_transform(pred)\n",
        "cla = int(pred[0][0])\n",
        "print (cla)"
      ],
      "metadata": {
        "colab": {
          "base_uri": "https://localhost:8080/"
        },
        "id": "l2MRMKFpBDp6",
        "outputId": "f1ad7046-db85-4665-80f5-df7a2c70b84c"
      },
      "execution_count": 67,
      "outputs": [
        {
          "output_type": "stream",
          "name": "stdout",
          "text": [
            "1/1 [==============================] - 0s 21ms/step\n",
            "1595\n"
          ]
        }
      ]
    }
  ]
}