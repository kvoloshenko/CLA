{
  "nbformat": 4,
  "nbformat_minor": 0,
  "metadata": {
    "colab": {
      "provenance": [],
      "collapsed_sections": [
        "yZGNUkfiHEtM"
      ]
    },
    "kernelspec": {
      "name": "python3",
      "display_name": "Python 3"
    },
    "language_info": {
      "name": "python"
    },
    "accelerator": "GPU",
    "gpuClass": "standard"
  },
  "cells": [
    {
      "cell_type": "markdown",
      "source": [
        "# Credit Limit Assessment (CLA)"
      ],
      "metadata": {
        "id": "N-BcZXaGEyNl"
      }
    },
    {
      "cell_type": "code",
      "source": [
        "import random\n",
        "from random import randrange\n",
        "from datetime import datetime\n",
        "from datetime import timedelta\n",
        "# Работа с массивами данных\n",
        "import numpy as np \n",
        "# Работа с табличными данными\n",
        "import pandas as pd\n",
        "# Отрисовка графиков\n",
        "import matplotlib.pyplot as plt\n",
        "# Функции-утилиты для работы с категориальными данными\n",
        "from tensorflow.keras import utils\n",
        "# Класс для конструирования последовательной модели нейронной сети\n",
        "from tensorflow.keras.models import Sequential, Model\n",
        "\n",
        "# Основные слои\n",
        "from tensorflow.keras.layers import Dense, Dropout, SpatialDropout1D, BatchNormalization, Embedding, Flatten, Activation, Input, concatenate\n",
        "from tensorflow.keras.layers import SimpleRNN, GRU, LSTM, Bidirectional, Conv1D, MaxPooling1D, GlobalMaxPooling1D\n",
        "\n",
        "# Оптимизаторы\n",
        "from tensorflow.keras.optimizers import Adam, Adadelta, SGD, Adagrad, RMSprop\n",
        "\n",
        "# Токенизатор для преобразование текстов в последовательности\n",
        "from tensorflow.keras.preprocessing.text import Tokenizer\n",
        "\n",
        "# Масштабирование данных\n",
        "from sklearn.preprocessing import StandardScaler\n",
        "import joblib\n",
        "\n",
        "# Метрики для расчета ошибок\n",
        "from sklearn.metrics import mean_squared_error, mean_absolute_error\n",
        "\n",
        "#from tensorflow.keras.callbacks import  ReduceLROnPlateau,  EarlyStopping, ModelCheckpoint \n",
        "\n",
        "from tensorflow.keras.models import model_from_json"
      ],
      "metadata": {
        "id": "yqXJ_ksHHu2d"
      },
      "execution_count": 31,
      "outputs": []
    },
    {
      "cell_type": "markdown",
      "source": [
        "## Data Simulation Functions"
      ],
      "metadata": {
        "id": "yZGNUkfiHEtM"
      }
    },
    {
      "cell_type": "code",
      "source": [
        "def DS_ACTIVATED_CL(CUSTOMER_TYPE, CUSTOMER_SUB_SEGMENT, NUMBER_LINES):\n",
        "  NUMBER_LINES = int (NUMBER_LINES)\n",
        "  if CUSTOMER_TYPE == 'Business Customer Account':\n",
        "    max = 1000\n",
        "  else:\n",
        "    max = 100\n",
        "\n",
        "  if CUSTOMER_SUB_SEGMENT == 'Fixed & Mobile UAE':\n",
        "    min = max // 2\n",
        "  elif CUSTOMER_SUB_SEGMENT == 'Mobile UAE':\n",
        "    min = max // 3\n",
        "  elif CUSTOMER_SUB_SEGMENT == 'Fixed UAE':\n",
        "    min = max // 4\n",
        "  elif CUSTOMER_SUB_SEGMENT == 'Fixed & Mobile Expat':\n",
        "    min = max // 5 \n",
        "  else:\n",
        "    min = 0\n",
        "  cl = random.randint(min, max) + NUMBER_LINES * 10\n",
        "  return str(cl)\n"
      ],
      "metadata": {
        "id": "eerBaurXo5eg"
      },
      "execution_count": 32,
      "outputs": []
    },
    {
      "cell_type": "code",
      "source": [
        "def DS_NUMBER_LINES(CUSTOMER_TYPE):\n",
        "  if CUSTOMER_TYPE == 'Business Customer Account':\n",
        "    max = 300\n",
        "  else:\n",
        "    max = 10\n",
        "  min = 0\n",
        "  n_lines = random.randint(min, max)\n",
        "  return str(n_lines)  \n"
      ],
      "metadata": {
        "id": "ZIIpygwj_Hhu"
      },
      "execution_count": 33,
      "outputs": []
    },
    {
      "cell_type": "code",
      "source": [
        "def DS_CUSTOMER_TYPE():\n",
        "  DS_LIST = ['Residential Customer Account', 'Business Customer Account']\n",
        "  return random.sample(DS_LIST, 1)[0]\n",
        "# DS_CUSTOMER_TYPE()"
      ],
      "metadata": {
        "id": "7biXdlMcvRpK"
      },
      "execution_count": 34,
      "outputs": []
    },
    {
      "cell_type": "code",
      "source": [
        "def DS_CUSTOMER_SUB_SEGMENT():\n",
        "  DS_LIST = ['Fixed & Mobile Expat', 'Mobile Expat', 'Fixed Expat', 'Fixed & Mobile UAE', 'Mobile UAE', 'Fixed UAE']\n",
        "  return random.sample(DS_LIST, 1)[0]\n",
        "# DS_CUSTOMER_SUB_SEGMENT()"
      ],
      "metadata": {
        "id": "ieeKp9Qc4EDT"
      },
      "execution_count": 35,
      "outputs": []
    },
    {
      "cell_type": "code",
      "source": [
        "def head_line():\n",
        "  return 'ACTIVATED_CL,NUMBER_LINES,CUSTOMER_TYPE,CUSTOMER_SUB_SEGMENT'"
      ],
      "metadata": {
        "id": "l3Bfgh5EhtRf"
      },
      "execution_count": 36,
      "outputs": []
    },
    {
      "cell_type": "code",
      "source": [
        "def df_lines(num_lines):\n",
        "  myfile = open('CLA_001.csv', 'w')\n",
        "  df_str = '' + head_line() + '\\n'\n",
        "  myfile.writelines(df_str)\n",
        "  for _ in range(num_lines):\n",
        "    CUSTOMER_TYPE = DS_CUSTOMER_TYPE()\n",
        "    CUSTOMER_SUB_SEGMENT = DS_CUSTOMER_SUB_SEGMENT()\n",
        "    NUMBER_LINES = DS_NUMBER_LINES(CUSTOMER_TYPE)\n",
        "    ACTIVATED_CL = DS_ACTIVATED_CL(CUSTOMER_TYPE, CUSTOMER_SUB_SEGMENT, NUMBER_LINES)\n",
        "\n",
        "    df_str = '' + ACTIVATED_CL \\\n",
        "      + ',' + NUMBER_LINES \\\n",
        "      + ',' + CUSTOMER_TYPE \\\n",
        "      + ',' + CUSTOMER_SUB_SEGMENT \\\n",
        "      + '\\n'\n",
        "    myfile.writelines(df_str)\n",
        "  myfile.close()"
      ],
      "metadata": {
        "id": "NZmXr_rcivrp"
      },
      "execution_count": 37,
      "outputs": []
    },
    {
      "cell_type": "markdown",
      "source": [
        "##DF Simulation"
      ],
      "metadata": {
        "id": "chGsEBFtR7lp"
      }
    },
    {
      "cell_type": "code",
      "source": [
        "df_str = df_lines(300000)"
      ],
      "metadata": {
        "id": "pZw_VR9SSAQM"
      },
      "execution_count": 38,
      "outputs": []
    },
    {
      "cell_type": "markdown",
      "source": [
        "## DF"
      ],
      "metadata": {
        "id": "ca07GyexoanX"
      }
    },
    {
      "cell_type": "code",
      "source": [
        "df = pd.read_csv('/content/CLA_001.csv')# Это то, куда вы скачали файл\n",
        "# Количество и критерии\n",
        "print(df.shape)"
      ],
      "metadata": {
        "colab": {
          "base_uri": "https://localhost:8080/"
        },
        "id": "Mecq1VFmodZf",
        "outputId": "9f810b48-0ec9-48e0-d5fe-c1c1a83d2c18"
      },
      "execution_count": 39,
      "outputs": [
        {
          "output_type": "stream",
          "name": "stdout",
          "text": [
            "(300000, 4)\n"
          ]
        }
      ]
    },
    {
      "cell_type": "code",
      "source": [
        "df.head()"
      ],
      "metadata": {
        "colab": {
          "base_uri": "https://localhost:8080/",
          "height": 206
        },
        "id": "G7tSLieJpHdR",
        "outputId": "e5015bcd-1615-4e48-de90-5eb856e98221"
      },
      "execution_count": 40,
      "outputs": [
        {
          "output_type": "execute_result",
          "data": {
            "text/plain": [
              "   ACTIVATED_CL  NUMBER_LINES                 CUSTOMER_TYPE  \\\n",
              "0           140             7  Residential Customer Account   \n",
              "1          1528           114     Business Customer Account   \n",
              "2           651            29     Business Customer Account   \n",
              "3          2303           143     Business Customer Account   \n",
              "4          2090           109     Business Customer Account   \n",
              "\n",
              "  CUSTOMER_SUB_SEGMENT  \n",
              "0   Fixed & Mobile UAE  \n",
              "1            Fixed UAE  \n",
              "2            Fixed UAE  \n",
              "3   Fixed & Mobile UAE  \n",
              "4           Mobile UAE  "
            ],
            "text/html": [
              "\n",
              "  <div id=\"df-80f58af3-8198-4978-9fff-9409e9a75eb0\">\n",
              "    <div class=\"colab-df-container\">\n",
              "      <div>\n",
              "<style scoped>\n",
              "    .dataframe tbody tr th:only-of-type {\n",
              "        vertical-align: middle;\n",
              "    }\n",
              "\n",
              "    .dataframe tbody tr th {\n",
              "        vertical-align: top;\n",
              "    }\n",
              "\n",
              "    .dataframe thead th {\n",
              "        text-align: right;\n",
              "    }\n",
              "</style>\n",
              "<table border=\"1\" class=\"dataframe\">\n",
              "  <thead>\n",
              "    <tr style=\"text-align: right;\">\n",
              "      <th></th>\n",
              "      <th>ACTIVATED_CL</th>\n",
              "      <th>NUMBER_LINES</th>\n",
              "      <th>CUSTOMER_TYPE</th>\n",
              "      <th>CUSTOMER_SUB_SEGMENT</th>\n",
              "    </tr>\n",
              "  </thead>\n",
              "  <tbody>\n",
              "    <tr>\n",
              "      <th>0</th>\n",
              "      <td>140</td>\n",
              "      <td>7</td>\n",
              "      <td>Residential Customer Account</td>\n",
              "      <td>Fixed &amp; Mobile UAE</td>\n",
              "    </tr>\n",
              "    <tr>\n",
              "      <th>1</th>\n",
              "      <td>1528</td>\n",
              "      <td>114</td>\n",
              "      <td>Business Customer Account</td>\n",
              "      <td>Fixed UAE</td>\n",
              "    </tr>\n",
              "    <tr>\n",
              "      <th>2</th>\n",
              "      <td>651</td>\n",
              "      <td>29</td>\n",
              "      <td>Business Customer Account</td>\n",
              "      <td>Fixed UAE</td>\n",
              "    </tr>\n",
              "    <tr>\n",
              "      <th>3</th>\n",
              "      <td>2303</td>\n",
              "      <td>143</td>\n",
              "      <td>Business Customer Account</td>\n",
              "      <td>Fixed &amp; Mobile UAE</td>\n",
              "    </tr>\n",
              "    <tr>\n",
              "      <th>4</th>\n",
              "      <td>2090</td>\n",
              "      <td>109</td>\n",
              "      <td>Business Customer Account</td>\n",
              "      <td>Mobile UAE</td>\n",
              "    </tr>\n",
              "  </tbody>\n",
              "</table>\n",
              "</div>\n",
              "      <button class=\"colab-df-convert\" onclick=\"convertToInteractive('df-80f58af3-8198-4978-9fff-9409e9a75eb0')\"\n",
              "              title=\"Convert this dataframe to an interactive table.\"\n",
              "              style=\"display:none;\">\n",
              "        \n",
              "  <svg xmlns=\"http://www.w3.org/2000/svg\" height=\"24px\"viewBox=\"0 0 24 24\"\n",
              "       width=\"24px\">\n",
              "    <path d=\"M0 0h24v24H0V0z\" fill=\"none\"/>\n",
              "    <path d=\"M18.56 5.44l.94 2.06.94-2.06 2.06-.94-2.06-.94-.94-2.06-.94 2.06-2.06.94zm-11 1L8.5 8.5l.94-2.06 2.06-.94-2.06-.94L8.5 2.5l-.94 2.06-2.06.94zm10 10l.94 2.06.94-2.06 2.06-.94-2.06-.94-.94-2.06-.94 2.06-2.06.94z\"/><path d=\"M17.41 7.96l-1.37-1.37c-.4-.4-.92-.59-1.43-.59-.52 0-1.04.2-1.43.59L10.3 9.45l-7.72 7.72c-.78.78-.78 2.05 0 2.83L4 21.41c.39.39.9.59 1.41.59.51 0 1.02-.2 1.41-.59l7.78-7.78 2.81-2.81c.8-.78.8-2.07 0-2.86zM5.41 20L4 18.59l7.72-7.72 1.47 1.35L5.41 20z\"/>\n",
              "  </svg>\n",
              "      </button>\n",
              "      \n",
              "  <style>\n",
              "    .colab-df-container {\n",
              "      display:flex;\n",
              "      flex-wrap:wrap;\n",
              "      gap: 12px;\n",
              "    }\n",
              "\n",
              "    .colab-df-convert {\n",
              "      background-color: #E8F0FE;\n",
              "      border: none;\n",
              "      border-radius: 50%;\n",
              "      cursor: pointer;\n",
              "      display: none;\n",
              "      fill: #1967D2;\n",
              "      height: 32px;\n",
              "      padding: 0 0 0 0;\n",
              "      width: 32px;\n",
              "    }\n",
              "\n",
              "    .colab-df-convert:hover {\n",
              "      background-color: #E2EBFA;\n",
              "      box-shadow: 0px 1px 2px rgba(60, 64, 67, 0.3), 0px 1px 3px 1px rgba(60, 64, 67, 0.15);\n",
              "      fill: #174EA6;\n",
              "    }\n",
              "\n",
              "    [theme=dark] .colab-df-convert {\n",
              "      background-color: #3B4455;\n",
              "      fill: #D2E3FC;\n",
              "    }\n",
              "\n",
              "    [theme=dark] .colab-df-convert:hover {\n",
              "      background-color: #434B5C;\n",
              "      box-shadow: 0px 1px 3px 1px rgba(0, 0, 0, 0.15);\n",
              "      filter: drop-shadow(0px 1px 2px rgba(0, 0, 0, 0.3));\n",
              "      fill: #FFFFFF;\n",
              "    }\n",
              "  </style>\n",
              "\n",
              "      <script>\n",
              "        const buttonEl =\n",
              "          document.querySelector('#df-80f58af3-8198-4978-9fff-9409e9a75eb0 button.colab-df-convert');\n",
              "        buttonEl.style.display =\n",
              "          google.colab.kernel.accessAllowed ? 'block' : 'none';\n",
              "\n",
              "        async function convertToInteractive(key) {\n",
              "          const element = document.querySelector('#df-80f58af3-8198-4978-9fff-9409e9a75eb0');\n",
              "          const dataTable =\n",
              "            await google.colab.kernel.invokeFunction('convertToInteractive',\n",
              "                                                     [key], {});\n",
              "          if (!dataTable) return;\n",
              "\n",
              "          const docLinkHtml = 'Like what you see? Visit the ' +\n",
              "            '<a target=\"_blank\" href=https://colab.research.google.com/notebooks/data_table.ipynb>data table notebook</a>'\n",
              "            + ' to learn more about interactive tables.';\n",
              "          element.innerHTML = '';\n",
              "          dataTable['output_type'] = 'display_data';\n",
              "          await google.colab.output.renderOutput(dataTable, element);\n",
              "          const docLink = document.createElement('div');\n",
              "          docLink.innerHTML = docLinkHtml;\n",
              "          element.appendChild(docLink);\n",
              "        }\n",
              "      </script>\n",
              "    </div>\n",
              "  </div>\n",
              "  "
            ]
          },
          "metadata": {},
          "execution_count": 40
        }
      ]
    },
    {
      "cell_type": "code",
      "source": [
        "print(df.columns) #Показываем имена колонок данных"
      ],
      "metadata": {
        "colab": {
          "base_uri": "https://localhost:8080/"
        },
        "id": "z0uHeUlvphjv",
        "outputId": "dddb57e7-d7aa-41c2-c76d-854e934d6a31"
      },
      "execution_count": 41,
      "outputs": [
        {
          "output_type": "stream",
          "name": "stdout",
          "text": [
            "Index(['ACTIVATED_CL', 'NUMBER_LINES', 'CUSTOMER_TYPE',\n",
            "       'CUSTOMER_SUB_SEGMENT'],\n",
            "      dtype='object')\n"
          ]
        }
      ]
    },
    {
      "cell_type": "code",
      "source": [
        "df.dtypes"
      ],
      "metadata": {
        "colab": {
          "base_uri": "https://localhost:8080/"
        },
        "id": "0TIdW0mM0-QF",
        "outputId": "aa7c66ae-f6fe-43cb-989c-35ab6bc48f06"
      },
      "execution_count": 42,
      "outputs": [
        {
          "output_type": "execute_result",
          "data": {
            "text/plain": [
              "ACTIVATED_CL             int64\n",
              "NUMBER_LINES             int64\n",
              "CUSTOMER_TYPE           object\n",
              "CUSTOMER_SUB_SEGMENT    object\n",
              "dtype: object"
            ]
          },
          "metadata": {},
          "execution_count": 42
        }
      ]
    },
    {
      "cell_type": "code",
      "source": [
        "# max value in NUMBER_LINES\n",
        "MAX_NUMBER_LINES = df['NUMBER_LINES'].max()\n",
        "print(f'MAX_NUMBER_LINES={MAX_NUMBER_LINES}')"
      ],
      "metadata": {
        "colab": {
          "base_uri": "https://localhost:8080/"
        },
        "id": "AJ-JkKtOkSGu",
        "outputId": "0e7b61e6-61d8-4051-f376-a286b6f2f93d"
      },
      "execution_count": 43,
      "outputs": [
        {
          "output_type": "stream",
          "name": "stdout",
          "text": [
            "MAX_NUMBER_LINES=300\n"
          ]
        }
      ]
    },
    {
      "cell_type": "markdown",
      "source": [
        "## Преобразование DF"
      ],
      "metadata": {
        "id": "Z2U8U2KQDOIk"
      }
    },
    {
      "cell_type": "code",
      "source": [
        "# Настройка номеров столбцов\n",
        "# Дальнейшие вычисления не будут зависеть от порядка столбцов в таблице\n",
        "\n",
        "COL_ACTIVATED_CL         = df.columns.get_loc('ACTIVATED_CL')\n",
        "COL_NUMBER_LINES         = df.columns.get_loc('NUMBER_LINES')\n",
        "COL_CUSTOMER_TYPE        = df.columns.get_loc('CUSTOMER_TYPE')\n",
        "COL_CUSTOMER_SUB_SEGMENT = df.columns.get_loc('CUSTOMER_SUB_SEGMENT')"
      ],
      "metadata": {
        "id": "lGOMkoWzY1pM"
      },
      "execution_count": 44,
      "outputs": []
    },
    {
      "cell_type": "code",
      "source": [
        "# Классы CUSTOMER_TYPE\n",
        "CUSTOMER_TYPE_class = [0, \n",
        "                    {'Business Customer Account\t'   : 0,\n",
        "                     'Residential Customer Account' : 1\n",
        "                    }]\n",
        "# Классы CUSTOMER_SUB_SEGMENT\n",
        "CUSTOMER_SUB_SEGMENT_class = [0, \n",
        "              {'Fixed & Mobile Expat' : 0,\n",
        "               'Mobile Expat'         : 1,\n",
        "               'Fixed Expat'          : 2,\n",
        "               'Fixed & Mobile UAE'   : 3,\n",
        "               'Mobile UAE'           : 4,\n",
        "               'Fixed UAE'            : 5\n",
        "                             }]"
      ],
      "metadata": {
        "id": "Dn7vQ8jwDS18"
      },
      "execution_count": 45,
      "outputs": []
    },
    {
      "cell_type": "code",
      "source": [
        "# Вычисление счетчиков для данных разбиения\n",
        "for class_desc in [CUSTOMER_TYPE_class,\n",
        "                   CUSTOMER_SUB_SEGMENT_class]:\n",
        "    if isinstance(class_desc[1], list):\n",
        "        class_desc[0] = len(class_desc[1]) + 1\n",
        "    else:\n",
        "        class_desc[0] = max(class_desc[1].values()) + 1"
      ],
      "metadata": {
        "id": "GvBmaYtfFem3"
      },
      "execution_count": 46,
      "outputs": []
    },
    {
      "cell_type": "code",
      "source": [
        "CUSTOMER_SUB_SEGMENT_class"
      ],
      "metadata": {
        "colab": {
          "base_uri": "https://localhost:8080/"
        },
        "id": "ZLdxu_WlFxj0",
        "outputId": "7987b9b9-38d6-4388-9e15-ec2de365101b"
      },
      "execution_count": 47,
      "outputs": [
        {
          "output_type": "execute_result",
          "data": {
            "text/plain": [
              "[6,\n",
              " {'Fixed & Mobile Expat': 0,\n",
              "  'Mobile Expat': 1,\n",
              "  'Fixed Expat': 2,\n",
              "  'Fixed & Mobile UAE': 3,\n",
              "  'Mobile UAE': 4,\n",
              "  'Fixed UAE': 5}]"
            ]
          },
          "metadata": {},
          "execution_count": 47
        }
      ]
    },
    {
      "cell_type": "code",
      "source": [
        "# Общая функция преобразования строки к multi-вектору\n",
        "# На входе данные и словарь сопоставления подстрок классам\n",
        "\n",
        "def str_to_multi(arg, class_dict):\n",
        "    # Определение размерности выходного вектора\n",
        "    num_classes = class_dict[0]\n",
        "\n",
        "    # Создание нулевого вектора\n",
        "    result = np.zeros(num_classes)\n",
        "    \n",
        "    # Поиск значения в словаре и, если найдено,\n",
        "    # выставление 1. на нужной позиции\n",
        "    for value, cls in class_dict[1].items():\n",
        "      # print(f'value={value} cls={cls}')\n",
        "      if value == arg:\n",
        "          result[cls] = 1.\n",
        "\n",
        "    return result\n",
        "\n",
        "def extract_CUSTOMER_SUB_SEGMENT_to_multi(arg):\n",
        "  return str_to_multi(arg, CUSTOMER_SUB_SEGMENT_class)\n",
        "\n",
        "def extract_CUSTOMER_TYPE_to_multi(arg):\n",
        "  return str_to_multi(arg, CUSTOMER_TYPE_class)"
      ],
      "metadata": {
        "id": "wF9FC3oiGmy3"
      },
      "execution_count": 48,
      "outputs": []
    },
    {
      "cell_type": "code",
      "source": [
        "CUSTOMER_SS = 'Fixed & Mobile UAE'\n",
        "extract_CUSTOMER_SUB_SEGMENT_to_multi(CUSTOMER_SS)"
      ],
      "metadata": {
        "colab": {
          "base_uri": "https://localhost:8080/"
        },
        "id": "GU4hxd3qHYNO",
        "outputId": "68439aad-8b8f-42dc-d3e1-44aa79969372"
      },
      "execution_count": 49,
      "outputs": [
        {
          "output_type": "execute_result",
          "data": {
            "text/plain": [
              "array([0., 0., 0., 1., 0., 0.])"
            ]
          },
          "metadata": {},
          "execution_count": 49
        }
      ]
    },
    {
      "cell_type": "code",
      "source": [
        "CUSTOMER_TYPE = 'Residential Customer Account'\n",
        "extract_CUSTOMER_TYPE_to_multi(CUSTOMER_TYPE)"
      ],
      "metadata": {
        "colab": {
          "base_uri": "https://localhost:8080/"
        },
        "id": "ur7fOke7BxlA",
        "outputId": "2ec2bd85-3e7f-4c4e-ca17-22344b5eba14"
      },
      "execution_count": 50,
      "outputs": [
        {
          "output_type": "execute_result",
          "data": {
            "text/plain": [
              "array([0., 1.])"
            ]
          },
          "metadata": {},
          "execution_count": 50
        }
      ]
    },
    {
      "cell_type": "code",
      "source": [
        "def extract_NUMBER_LINES_Category(arg, MAX_NUMBER_LINES):\n",
        "  NUMBER_LINES = utils.to_categorical(arg, MAX_NUMBER_LINES+1) #Превращаем в категорию\n",
        "  return NUMBER_LINES\n",
        "\n",
        "# extract_NUMBER_LINES_Category(1,10)"
      ],
      "metadata": {
        "id": "Wc49YGTtpte8"
      },
      "execution_count": 51,
      "outputs": []
    },
    {
      "cell_type": "code",
      "source": [
        "def extract_row_data(row):\n",
        "  ACTIVATED_CL = int(row[COL_ACTIVATED_CL])\n",
        "  ACTIVATED_CL_vec = np.array([ACTIVATED_CL])\n",
        "\n",
        "  NUMBER_LINES = int(row[COL_NUMBER_LINES])\n",
        "  # NUMBER_LINES_vec = np.array([NUMBER_LINES])\n",
        "  NUMBER_LINES_vec = extract_NUMBER_LINES_Category(NUMBER_LINES, MAX_NUMBER_LINES)\n",
        "  \n",
        "  CUSTOMER_TYPE_ohe = extract_CUSTOMER_TYPE_to_multi(row[COL_CUSTOMER_TYPE])\n",
        "  CUSTOMER_SUB_SEGMENT_ohe = extract_CUSTOMER_SUB_SEGMENT_to_multi(row[COL_CUSTOMER_SUB_SEGMENT])\n",
        "\n",
        "  # Объединение всех входных данных в один общий вектор\n",
        "  x_data = np.hstack([NUMBER_LINES_vec, \n",
        "                      CUSTOMER_TYPE_ohe,\n",
        "                      CUSTOMER_SUB_SEGMENT_ohe])\n",
        "    \n",
        "  # Возврат входных данных и выходных (зарплаты)\n",
        "  return x_data, ACTIVATED_CL_vec\n",
        "\n",
        "  # Создание общей выборки\n",
        "def construct_train_data(row_list):\n",
        "    x_data = []\n",
        "    y_data = []\n",
        "    \n",
        "    for row in row_list:\n",
        "        x, y = extract_row_data(row)\n",
        "        if y[0] > 0:                      \n",
        "            x_data.append(x)\n",
        "            y_data.append(y)\n",
        "\n",
        "    return np.array(x_data), np.array(y_data)\n"
      ],
      "metadata": {
        "id": "eGZ2W7VICZiY"
      },
      "execution_count": 52,
      "outputs": []
    },
    {
      "cell_type": "code",
      "source": [
        "# Формирование выборки из загруженного набора данных    \n",
        "x_train, y_train = construct_train_data(df.values)"
      ],
      "metadata": {
        "id": "CCrA0l3wSnwM"
      },
      "execution_count": 53,
      "outputs": []
    },
    {
      "cell_type": "code",
      "source": [
        "# Для нормализации данных используется готовый инструмент\n",
        "y_scaler = StandardScaler()\n",
        "\n",
        "# Нормализация выходных данных по стандартному нормальному распределению\n",
        "y_train_scaler = y_scaler.fit_transform(y_train)"
      ],
      "metadata": {
        "id": "N4ifcNZBaYGW"
      },
      "execution_count": 54,
      "outputs": []
    },
    {
      "cell_type": "code",
      "source": [
        "joblib.dump(y_scaler, 'std_scaler.bin', compress=True)"
      ],
      "metadata": {
        "colab": {
          "base_uri": "https://localhost:8080/"
        },
        "id": "6uvURbpYlkE9",
        "outputId": "183a5d71-a905-4884-ae95-f0e63cf9a276"
      },
      "execution_count": 55,
      "outputs": [
        {
          "output_type": "execute_result",
          "data": {
            "text/plain": [
              "['std_scaler.bin']"
            ]
          },
          "metadata": {},
          "execution_count": 55
        }
      ]
    },
    {
      "cell_type": "code",
      "source": [
        "# Проверка нормализации\n",
        "print(y_train.shape)\n",
        "print(f'Оригинальное значение CL:  {y_train [1, 0]}')\n",
        "print(f'Нормированное значение CL: {y_train_scaler [1, 0]}')\n",
        "\n",
        "# Вывод границ ненормализованных и нормализованных данных\n",
        "print(y_train_scaler.mean(), y_train_scaler.std())\n",
        "print(y_train.mean(), y_train.std())"
      ],
      "metadata": {
        "colab": {
          "base_uri": "https://localhost:8080/"
        },
        "id": "E_tMURyZaeUe",
        "outputId": "fc1fa011-0493-4d93-af4f-9003cc0aa450"
      },
      "execution_count": 56,
      "outputs": [
        {
          "output_type": "stream",
          "name": "stdout",
          "text": [
            "(299947, 1)\n",
            "Оригинальное значение CL:  1528\n",
            "Нормированное значение CL: 0.355188607229962\n",
            "-8.665415314740426e-17 1.0\n",
            "1107.377853420771 1184.221954244447\n"
          ]
        }
      ]
    },
    {
      "cell_type": "code",
      "source": [
        "# Далее используем только нормализовннаые данные\n",
        "y_train = y_train_scaler \n",
        "# В итоге мы получаем следующие наборы данных:\n",
        "print(x_train.shape) \n",
        "print(y_train.shape)\n",
        "print(type(x_train), type(y_train))\n",
        "\n",
        "# Пример обработанных данных\n",
        "n = 0 \n",
        "print(x_train[n])\n",
        "print(y_train[n])"
      ],
      "metadata": {
        "colab": {
          "base_uri": "https://localhost:8080/"
        },
        "id": "mJodAOtxaqfB",
        "outputId": "c17ccc4d-cccd-4bfb-836d-9bea90733c65"
      },
      "execution_count": 57,
      "outputs": [
        {
          "output_type": "stream",
          "name": "stdout",
          "text": [
            "(299947, 309)\n",
            "(299947, 1)\n",
            "<class 'numpy.ndarray'> <class 'numpy.ndarray'>\n",
            "[0. 0. 0. 0. 0. 0. 0. 1. 0. 0. 0. 0. 0. 0. 0. 0. 0. 0. 0. 0. 0. 0. 0. 0.\n",
            " 0. 0. 0. 0. 0. 0. 0. 0. 0. 0. 0. 0. 0. 0. 0. 0. 0. 0. 0. 0. 0. 0. 0. 0.\n",
            " 0. 0. 0. 0. 0. 0. 0. 0. 0. 0. 0. 0. 0. 0. 0. 0. 0. 0. 0. 0. 0. 0. 0. 0.\n",
            " 0. 0. 0. 0. 0. 0. 0. 0. 0. 0. 0. 0. 0. 0. 0. 0. 0. 0. 0. 0. 0. 0. 0. 0.\n",
            " 0. 0. 0. 0. 0. 0. 0. 0. 0. 0. 0. 0. 0. 0. 0. 0. 0. 0. 0. 0. 0. 0. 0. 0.\n",
            " 0. 0. 0. 0. 0. 0. 0. 0. 0. 0. 0. 0. 0. 0. 0. 0. 0. 0. 0. 0. 0. 0. 0. 0.\n",
            " 0. 0. 0. 0. 0. 0. 0. 0. 0. 0. 0. 0. 0. 0. 0. 0. 0. 0. 0. 0. 0. 0. 0. 0.\n",
            " 0. 0. 0. 0. 0. 0. 0. 0. 0. 0. 0. 0. 0. 0. 0. 0. 0. 0. 0. 0. 0. 0. 0. 0.\n",
            " 0. 0. 0. 0. 0. 0. 0. 0. 0. 0. 0. 0. 0. 0. 0. 0. 0. 0. 0. 0. 0. 0. 0. 0.\n",
            " 0. 0. 0. 0. 0. 0. 0. 0. 0. 0. 0. 0. 0. 0. 0. 0. 0. 0. 0. 0. 0. 0. 0. 0.\n",
            " 0. 0. 0. 0. 0. 0. 0. 0. 0. 0. 0. 0. 0. 0. 0. 0. 0. 0. 0. 0. 0. 0. 0. 0.\n",
            " 0. 0. 0. 0. 0. 0. 0. 0. 0. 0. 0. 0. 0. 0. 0. 0. 0. 0. 0. 0. 0. 0. 0. 0.\n",
            " 0. 0. 0. 0. 0. 0. 0. 0. 0. 0. 0. 0. 0. 0. 1. 0. 0. 0. 1. 0. 0.]\n",
            "[-0.81688897]\n"
          ]
        }
      ]
    },
    {
      "cell_type": "markdown",
      "source": [
        "## Обучение модели"
      ],
      "metadata": {
        "id": "ZiFIyJ34iNx5"
      }
    },
    {
      "cell_type": "code",
      "source": [
        "# Функция отрисовки графика истории обучения\n",
        "def plot_history(history):\n",
        "    plt.plot(history.history['mae'], \n",
        "            label='Средняя абсолютная ошибка на обучающем наборе')\n",
        "    plt.plot(history.history['val_mae'], \n",
        "            label='Средняя абсолютная ошибка на проверочном наборе')\n",
        "    plt.xlabel('Эпоха обучения')\n",
        "    plt.ylabel('Средняя абсолютная ошибка')\n",
        "    plt.legend()\n",
        "    plt.show()"
      ],
      "metadata": {
        "id": "N-EXLhRgiQEp"
      },
      "execution_count": 58,
      "outputs": []
    },
    {
      "cell_type": "code",
      "source": [
        "# Обучение модели на простых данных с нормализованной зарплатой\n",
        "model = Sequential()\n",
        "model.add(BatchNormalization(input_dim=x_train.shape[1]))\n",
        "model.add(Dense(128, activation='relu'))\n",
        "model.add(Dense(1000, activation='tanh'))\n",
        "model.add(Dense(100, activation='relu'))\n",
        "model.add(Dense(1, activation='linear'))\n",
        "\n",
        "utils.plot_model(model, show_shapes=True)"
      ],
      "metadata": {
        "colab": {
          "base_uri": "https://localhost:8080/",
          "height": 644
        },
        "id": "rRKjQwVXdyI8",
        "outputId": "b23002f6-52de-4c9e-c9db-2aaf59a79941"
      },
      "execution_count": 59,
      "outputs": [
        {
          "output_type": "execute_result",
          "data": {
            "image/png": "[encoded data removed]",
            "text/plain": [
              "<IPython.core.display.Image object>"
            ]
          },
          "metadata": {},
          "execution_count": 59
        }
      ]
    },
    {
      "cell_type": "code",
      "source": [
        "model.compile(optimizer=Adam(learning_rate=1e-5), loss='mse', metrics=['mae'])\n",
        "\n",
        "history = model.fit(x_train, \n",
        "                    y_train, \n",
        "                    epochs=50, \n",
        "                    batch_size=256,\n",
        "                    validation_split=0.15, \n",
        "                    verbose=1)\n",
        "\n",
        "plot_history(history)"
      ],
      "metadata": {
        "colab": {
          "base_uri": "https://localhost:8080/",
          "height": 1000
        },
        "id": "WmjPGS-zxcvG",
        "outputId": "09df4085-f1b4-4711-e7b8-78bb4801a46f"
      },
      "execution_count": 60,
      "outputs": [
        {
          "output_type": "stream",
          "name": "stdout",
          "text": [
            "Epoch 1/50\n",
            "996/996 [==============================] - 7s 4ms/step - loss: 0.2639 - mae: 0.3849 - val_loss: 0.0880 - val_mae: 0.1953\n",
            "Epoch 2/50\n",
            "996/996 [==============================] - 5s 5ms/step - loss: 0.0491 - mae: 0.1551 - val_loss: 0.0937 - val_mae: 0.1968\n",
            "Epoch 3/50\n",
            "996/996 [==============================] - 5s 5ms/step - loss: 0.0378 - mae: 0.1366 - val_loss: 0.0950 - val_mae: 0.1941\n",
            "Epoch 4/50\n",
            "996/996 [==============================] - 4s 4ms/step - loss: 0.0348 - mae: 0.1306 - val_loss: 0.0802 - val_mae: 0.1794\n",
            "Epoch 5/50\n",
            "996/996 [==============================] - 4s 4ms/step - loss: 0.0331 - mae: 0.1273 - val_loss: 0.0780 - val_mae: 0.1764\n",
            "Epoch 6/50\n",
            "996/996 [==============================] - 5s 5ms/step - loss: 0.0314 - mae: 0.1239 - val_loss: 0.0627 - val_mae: 0.1641\n",
            "Epoch 7/50\n",
            "996/996 [==============================] - 4s 4ms/step - loss: 0.0302 - mae: 0.1214 - val_loss: 0.0625 - val_mae: 0.1624\n",
            "Epoch 8/50\n",
            "996/996 [==============================] - 5s 5ms/step - loss: 0.0290 - mae: 0.1185 - val_loss: 0.0567 - val_mae: 0.1550\n",
            "Epoch 9/50\n",
            "996/996 [==============================] - 4s 4ms/step - loss: 0.0278 - mae: 0.1155 - val_loss: 0.0534 - val_mae: 0.1452\n",
            "Epoch 10/50\n",
            "996/996 [==============================] - 4s 4ms/step - loss: 0.0271 - mae: 0.1138 - val_loss: 0.0472 - val_mae: 0.1423\n",
            "Epoch 11/50\n",
            "996/996 [==============================] - 5s 5ms/step - loss: 0.0264 - mae: 0.1119 - val_loss: 0.0428 - val_mae: 0.1402\n",
            "Epoch 12/50\n",
            "996/996 [==============================] - 4s 4ms/step - loss: 0.0256 - mae: 0.1094 - val_loss: 0.0394 - val_mae: 0.1338\n",
            "Epoch 13/50\n",
            "996/996 [==============================] - 4s 4ms/step - loss: 0.0248 - mae: 0.1072 - val_loss: 0.0380 - val_mae: 0.1377\n",
            "Epoch 14/50\n",
            "996/996 [==============================] - 5s 5ms/step - loss: 0.0244 - mae: 0.1059 - val_loss: 0.0367 - val_mae: 0.1247\n",
            "Epoch 15/50\n",
            "996/996 [==============================] - 4s 4ms/step - loss: 0.0240 - mae: 0.1048 - val_loss: 0.0342 - val_mae: 0.1296\n",
            "Epoch 16/50\n",
            "996/996 [==============================] - 5s 5ms/step - loss: 0.0235 - mae: 0.1035 - val_loss: 0.0333 - val_mae: 0.1286\n",
            "Epoch 17/50\n",
            "996/996 [==============================] - 5s 5ms/step - loss: 0.0233 - mae: 0.1028 - val_loss: 0.0338 - val_mae: 0.1182\n",
            "Epoch 18/50\n",
            "996/996 [==============================] - 4s 4ms/step - loss: 0.0230 - mae: 0.1023 - val_loss: 0.0304 - val_mae: 0.1195\n",
            "Epoch 19/50\n",
            "996/996 [==============================] - 5s 5ms/step - loss: 0.0227 - mae: 0.1010 - val_loss: 0.0295 - val_mae: 0.1196\n",
            "Epoch 20/50\n",
            "996/996 [==============================] - 4s 4ms/step - loss: 0.0226 - mae: 0.1009 - val_loss: 0.0293 - val_mae: 0.1199\n",
            "Epoch 21/50\n",
            "996/996 [==============================] - 4s 4ms/step - loss: 0.0225 - mae: 0.1009 - val_loss: 0.0284 - val_mae: 0.1110\n",
            "Epoch 22/50\n",
            "996/996 [==============================] - 5s 5ms/step - loss: 0.0221 - mae: 0.0999 - val_loss: 0.0276 - val_mae: 0.1170\n",
            "Epoch 23/50\n",
            "996/996 [==============================] - 5s 5ms/step - loss: 0.0219 - mae: 0.0996 - val_loss: 0.0280 - val_mae: 0.1146\n",
            "Epoch 24/50\n",
            "996/996 [==============================] - 5s 5ms/step - loss: 0.0218 - mae: 0.0990 - val_loss: 0.0277 - val_mae: 0.1207\n",
            "Epoch 25/50\n",
            "996/996 [==============================] - 5s 5ms/step - loss: 0.0217 - mae: 0.0989 - val_loss: 0.0266 - val_mae: 0.1103\n",
            "Epoch 26/50\n",
            "996/996 [==============================] - 4s 4ms/step - loss: 0.0216 - mae: 0.0986 - val_loss: 0.0261 - val_mae: 0.1130\n",
            "Epoch 27/50\n",
            "996/996 [==============================] - 5s 5ms/step - loss: 0.0215 - mae: 0.0981 - val_loss: 0.0251 - val_mae: 0.1061\n",
            "Epoch 28/50\n",
            "996/996 [==============================] - 4s 4ms/step - loss: 0.0214 - mae: 0.0978 - val_loss: 0.0255 - val_mae: 0.1077\n",
            "Epoch 29/50\n",
            "996/996 [==============================] - 4s 4ms/step - loss: 0.0212 - mae: 0.0977 - val_loss: 0.0251 - val_mae: 0.1079\n",
            "Epoch 30/50\n",
            "996/996 [==============================] - 5s 5ms/step - loss: 0.0212 - mae: 0.0976 - val_loss: 0.0244 - val_mae: 0.1071\n",
            "Epoch 31/50\n",
            "996/996 [==============================] - 4s 4ms/step - loss: 0.0211 - mae: 0.0974 - val_loss: 0.0252 - val_mae: 0.1038\n",
            "Epoch 32/50\n",
            "996/996 [==============================] - 5s 5ms/step - loss: 0.0210 - mae: 0.0971 - val_loss: 0.0245 - val_mae: 0.1099\n",
            "Epoch 33/50\n",
            "996/996 [==============================] - 4s 4ms/step - loss: 0.0210 - mae: 0.0970 - val_loss: 0.0237 - val_mae: 0.1072\n",
            "Epoch 34/50\n",
            "996/996 [==============================] - 4s 4ms/step - loss: 0.0209 - mae: 0.0968 - val_loss: 0.0241 - val_mae: 0.1104\n",
            "Epoch 35/50\n",
            "996/996 [==============================] - 6s 6ms/step - loss: 0.0209 - mae: 0.0966 - val_loss: 0.0247 - val_mae: 0.1020\n",
            "Epoch 36/50\n",
            "996/996 [==============================] - 4s 4ms/step - loss: 0.0209 - mae: 0.0966 - val_loss: 0.0236 - val_mae: 0.1022\n",
            "Epoch 37/50\n",
            "996/996 [==============================] - 5s 5ms/step - loss: 0.0209 - mae: 0.0966 - val_loss: 0.0233 - val_mae: 0.1073\n",
            "Epoch 38/50\n",
            "996/996 [==============================] - 5s 5ms/step - loss: 0.0208 - mae: 0.0962 - val_loss: 0.0233 - val_mae: 0.1060\n",
            "Epoch 39/50\n",
            "996/996 [==============================] - 4s 4ms/step - loss: 0.0207 - mae: 0.0962 - val_loss: 0.0228 - val_mae: 0.1033\n",
            "Epoch 40/50\n",
            "996/996 [==============================] - 5s 5ms/step - loss: 0.0207 - mae: 0.0962 - val_loss: 0.0236 - val_mae: 0.1045\n",
            "Epoch 41/50\n",
            "996/996 [==============================] - 4s 4ms/step - loss: 0.0207 - mae: 0.0962 - val_loss: 0.0236 - val_mae: 0.1029\n",
            "Epoch 42/50\n",
            "996/996 [==============================] - 4s 4ms/step - loss: 0.0206 - mae: 0.0957 - val_loss: 0.0229 - val_mae: 0.1048\n",
            "Epoch 43/50\n",
            "996/996 [==============================] - 5s 5ms/step - loss: 0.0206 - mae: 0.0956 - val_loss: 0.0227 - val_mae: 0.1019\n",
            "Epoch 44/50\n",
            "996/996 [==============================] - 4s 4ms/step - loss: 0.0205 - mae: 0.0956 - val_loss: 0.0228 - val_mae: 0.1016\n",
            "Epoch 45/50\n",
            "996/996 [==============================] - 4s 4ms/step - loss: 0.0205 - mae: 0.0954 - val_loss: 0.0233 - val_mae: 0.0995\n",
            "Epoch 46/50\n",
            "996/996 [==============================] - 5s 5ms/step - loss: 0.0205 - mae: 0.0957 - val_loss: 0.0227 - val_mae: 0.1022\n",
            "Epoch 47/50\n",
            "996/996 [==============================] - 4s 4ms/step - loss: 0.0204 - mae: 0.0952 - val_loss: 0.0223 - val_mae: 0.1036\n",
            "Epoch 48/50\n",
            "996/996 [==============================] - 5s 5ms/step - loss: 0.0205 - mae: 0.0955 - val_loss: 0.0223 - val_mae: 0.0984\n",
            "Epoch 49/50\n",
            "996/996 [==============================] - 5s 5ms/step - loss: 0.0204 - mae: 0.0952 - val_loss: 0.0234 - val_mae: 0.0987\n",
            "Epoch 50/50\n",
            "996/996 [==============================] - 4s 4ms/step - loss: 0.0205 - mae: 0.0953 - val_loss: 0.0235 - val_mae: 0.1007\n"
          ]
        },
        {
          "output_type": "display_data",
          "data": {
            "text/plain": [
              "<Figure size 432x288 with 1 Axes>"
            ],
            "image/png": "[encoded data removed]"
          },
          "metadata": {
            "needs_background": "light"
          }
        }
      ]
    },
    {
      "cell_type": "code",
      "source": [
        "# Проверка работы сети - предсказание на тренировочной выборке\n",
        "pred = model.predict(x_train)\n",
        "\n",
        "# Расчет среднего значения ошибки \n",
        "print((abs(pred - y_train)).mean())         # Расчет вручную\n",
        "print(mean_absolute_error(pred, y_train))   # Расчет с помощью готовой функции"
      ],
      "metadata": {
        "colab": {
          "base_uri": "https://localhost:8080/"
        },
        "id": "Tr9Mf9imaKzW",
        "outputId": "317e7c7b-8e0a-4431-a083-f8bf74ccb5a5"
      },
      "execution_count": null,
      "outputs": [
        {
          "output_type": "stream",
          "name": "stdout",
          "text": [
            "9374/9374 [==============================] - 16s 2ms/step\n"
          ]
        }
      ]
    },
    {
      "cell_type": "code",
      "source": [
        "# Сохраняем саму модель\n",
        "# Сериализация в JSON\n",
        "model_json = model.to_json()\n",
        "with open(\"/content/model.json\", \"w\") as json_file:\n",
        "    json_file.write(model_json)\n",
        "# Сохраняем(сериализуем) веса  в формате HDF5\n",
        "model.save_weights(\"/content/model.h5\")\n",
        "print(\"Сохранено\")"
      ],
      "metadata": {
        "id": "wokVXgkfSLl1"
      },
      "execution_count": null,
      "outputs": []
    },
    {
      "cell_type": "code",
      "source": [
        "# Открываем json файл разметки модели\n",
        "json_file = open('/content/model.json','r') \n",
        "loaded_model_json = json_file.read() # считываем\n",
        "json_file.close() # закрываем\n",
        "loaded_model = model_from_json(loaded_model_json) # используем керас, чтобы считать разметку архитектуры\n",
        "loaded_model.summary()\n",
        "loaded_model.load_weights(\"/content/model.h5\") # подгружаем веса\n",
        "print(\"Загружено с диска\")"
      ],
      "metadata": {
        "id": "6MwXp8k1TGm2"
      },
      "execution_count": null,
      "outputs": []
    },
    {
      "cell_type": "code",
      "source": [
        "def data_preparation(NUMBER_LINES, CUSTOMER_TYPE, CUSTOMER_SUB_SEGMENT):\n",
        "  NUMBER_LINES_vec = extract_NUMBER_LINES_Category(NUMBER_LINES, MAX_NUMBER_LINES)\n",
        "  CUSTOMER_TYPE_ohe = extract_CUSTOMER_TYPE_to_multi(CUSTOMER_TYPE)\n",
        "  CUSTOMER_SUB_SEGMENT_ohe = extract_CUSTOMER_SUB_SEGMENT_to_multi(CUSTOMER_SUB_SEGMENT)\n",
        "  x_data = np.hstack([NUMBER_LINES_vec, \n",
        "                        CUSTOMER_TYPE_ohe,\n",
        "                        CUSTOMER_SUB_SEGMENT_ohe])\n",
        "  # print(type(x_data))\n",
        "  # print(x_data.shape)\n",
        "  x_data = x_data.reshape(1, x_data.shape[0])\n",
        "  # print(type(x_data))\n",
        "  # print(x_data.shape)\n",
        "  return x_data"
      ],
      "metadata": {
        "id": "bVRIYGNJAmOl"
      },
      "execution_count": null,
      "outputs": []
    },
    {
      "cell_type": "code",
      "source": [
        "NUMBER_LINES = 10\n",
        "CUSTOMER_TYPE = 'Residential Customer Account'\n",
        "CUSTOMER_SUB_SEGMENT = 'Fixed UAE'\n",
        "\n",
        "x_data = data_preparation(NUMBER_LINES, CUSTOMER_TYPE, CUSTOMER_SUB_SEGMENT)\n",
        "pred = loaded_model.predict(x_data)             # Предсказание на тренировочной выборке\n",
        "# print(type(pred))\n",
        "# print(pred.shape)\n",
        "pred = y_scaler.inverse_transform(pred)\n",
        "cla = int(pred[0][0])\n",
        "print (cla)"
      ],
      "metadata": {
        "id": "DDsghMZA8JhO"
      },
      "execution_count": null,
      "outputs": []
    },
    {
      "cell_type": "code",
      "source": [
        "NUMBER_LINES = 100\n",
        "CUSTOMER_TYPE = 'Business Customer Account'\n",
        "CUSTOMER_SUB_SEGMENT = 'Fixed UAE'\n",
        "\n",
        "x_data = data_preparation(NUMBER_LINES, CUSTOMER_TYPE, CUSTOMER_SUB_SEGMENT)\n",
        "pred = loaded_model.predict(x_data)             # Предсказание на тренировочной выборке\n",
        "# print(type(pred))\n",
        "# print(pred.shape)\n",
        "pred = y_scaler.inverse_transform(pred)\n",
        "cla = int(pred[0][0])\n",
        "print (cla)"
      ],
      "metadata": {
        "id": "l2MRMKFpBDp6"
      },
      "execution_count": null,
      "outputs": []
    }
  ]
}